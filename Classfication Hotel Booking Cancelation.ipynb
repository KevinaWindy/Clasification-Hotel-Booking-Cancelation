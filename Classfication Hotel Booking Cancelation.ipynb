{
  "cells": [
    {
      "cell_type": "code",
      "execution_count": null,
      "metadata": {
        "id": "sxOrXvJl_Ocv",
        "colab": {
          "base_uri": "https://localhost:8080/",
          "height": 34
        },
        "outputId": "9821d709-69b3-468b-b2df-f817134af8b9"
      },
      "outputs": [
        {
          "output_type": "display_data",
          "data": {
            "application/javascript": [
              "IPython.notebook.set_autosave_interval(30000)"
            ]
          },
          "metadata": {}
        },
        {
          "output_type": "stream",
          "name": "stdout",
          "text": [
            "Autosaving every 30 seconds\n"
          ]
        }
      ],
      "source": [
        "%autosave 30"
      ]
    },
    {
      "cell_type": "code",
      "execution_count": null,
      "metadata": {
        "id": "sJ5hWxe69Jrh"
      },
      "outputs": [],
      "source": [
        "#install \n",
        "import numpy as np\n",
        "import pandas as pd\n",
        "import numpy as np\n",
        "import statistics as st\n",
        "import matplotlib.pyplot as plt\n",
        "import seaborn as sns\n",
        "from google.colab import drive\n",
        "from  scipy.stats import mode"
      ]
    },
    {
      "cell_type": "code",
      "execution_count": null,
      "metadata": {
        "id": "vsc4Ptqu7aKZ"
      },
      "outputs": [],
      "source": [
        "from matplotlib import pyplot\n",
        "import seaborn as sns\n",
        "\n",
        "from sklearn.preprocessing import LabelEncoder\n",
        "from sklearn.preprocessing import StandardScaler\n",
        "from sklearn.model_selection import train_test_split\n",
        "\n",
        "from sklearn.model_selection import StratifiedKFold\n",
        "from sklearn.model_selection import GridSearchCV\n",
        "\n",
        "import xgboost as xgb\n",
        "from xgboost import XGBClassifier\n",
        "\n",
        "from sklearn.inspection import permutation_importance\n",
        "\n",
        "from sklearn.ensemble import RandomForestClassifier\n",
        "from sklearn.tree import DecisionTreeClassifier\n",
        "\n",
        "from sklearn.metrics import accuracy_score \n",
        "from sklearn.model_selection import cross_val_score\n",
        "from sklearn.metrics import classification_report\n",
        "from sklearn.metrics import confusion_matrix"
      ]
    },
    {
      "cell_type": "code",
      "execution_count": null,
      "metadata": {
        "id": "VOYK6Z_w9Nd5",
        "colab": {
          "base_uri": "https://localhost:8080/"
        },
        "outputId": "d5ec8c97-c439-44c8-8150-50fa0abc6ba1"
      },
      "outputs": [
        {
          "output_type": "stream",
          "name": "stdout",
          "text": [
            "Drive already mounted at /content/drive; to attempt to forcibly remount, call drive.mount(\"/content/drive\", force_remount=True).\n"
          ]
        }
      ],
      "source": [
        "#import folder dari google drive\n",
        "from google.colab import drive\n",
        "drive.mount('/content/drive')"
      ]
    },
    {
      "cell_type": "markdown",
      "metadata": {
        "id": "L-avCcFGyshC"
      },
      "source": [
        "##PREPROCESSING DATA"
      ]
    },
    {
      "cell_type": "code",
      "execution_count": null,
      "metadata": {
        "id": "LYPViUdj9Ul5",
        "colab": {
          "base_uri": "https://localhost:8080/",
          "height": 302
        },
        "outputId": "db2ee2b0-beb0-401f-a00d-46b648b7da9c"
      },
      "outputs": [
        {
          "output_type": "execute_result",
          "data": {
            "text/plain": [
              "   cancel  harikerja  tahunkedatangan  bulankedatangan  adults  children meal  \\\n",
              "0       0        342             2015                7       2       0.0   BB   \n",
              "1       0        737             2015                7       2       0.0   BB   \n",
              "2       0          7             2015                7       1       0.0   BB   \n",
              "3       0         13             2015                7       1       0.0   BB   \n",
              "4       0         14             2015                7       2       0.0   BB   \n",
              "5       0         14             2015                7       2       0.0   BB   \n",
              "\n",
              "  country  previous_cancellations  previous_bookings_not_canceled  \\\n",
              "0     PRT                       0                               0   \n",
              "1     PRT                       0                               0   \n",
              "2     GBR                       0                               0   \n",
              "3     GBR                       0                               0   \n",
              "4     GBR                       0                               0   \n",
              "5     GBR                       0                               0   \n",
              "\n",
              "  reserved_room_type assigned_room_type  booking_changes deposit_type  \\\n",
              "0                  C                  C                3   No Deposit   \n",
              "1                  C                  C                4   No Deposit   \n",
              "2                  A                  C                0   No Deposit   \n",
              "3                  A                  A                0   No Deposit   \n",
              "4                  A                  A                0   No Deposit   \n",
              "5                  A                  A                0   No Deposit   \n",
              "\n",
              "  customer_type   adr  hotel  \n",
              "0     Transient   0.0      0  \n",
              "1     Transient   0.0      0  \n",
              "2     Transient  75.0      0  \n",
              "3     Transient  75.0      0  \n",
              "4     Transient  98.0      0  \n",
              "5     Transient  98.0      0  "
            ],
            "text/html": [
              "\n",
              "  <div id=\"df-7c8487ed-d1e3-4f64-a4ee-b33fe9493e55\">\n",
              "    <div class=\"colab-df-container\">\n",
              "      <div>\n",
              "<style scoped>\n",
              "    .dataframe tbody tr th:only-of-type {\n",
              "        vertical-align: middle;\n",
              "    }\n",
              "\n",
              "    .dataframe tbody tr th {\n",
              "        vertical-align: top;\n",
              "    }\n",
              "\n",
              "    .dataframe thead th {\n",
              "        text-align: right;\n",
              "    }\n",
              "</style>\n",
              "<table border=\"1\" class=\"dataframe\">\n",
              "  <thead>\n",
              "    <tr style=\"text-align: right;\">\n",
              "      <th></th>\n",
              "      <th>cancel</th>\n",
              "      <th>harikerja</th>\n",
              "      <th>tahunkedatangan</th>\n",
              "      <th>bulankedatangan</th>\n",
              "      <th>adults</th>\n",
              "      <th>children</th>\n",
              "      <th>meal</th>\n",
              "      <th>country</th>\n",
              "      <th>previous_cancellations</th>\n",
              "      <th>previous_bookings_not_canceled</th>\n",
              "      <th>reserved_room_type</th>\n",
              "      <th>assigned_room_type</th>\n",
              "      <th>booking_changes</th>\n",
              "      <th>deposit_type</th>\n",
              "      <th>customer_type</th>\n",
              "      <th>adr</th>\n",
              "      <th>hotel</th>\n",
              "    </tr>\n",
              "  </thead>\n",
              "  <tbody>\n",
              "    <tr>\n",
              "      <th>0</th>\n",
              "      <td>0</td>\n",
              "      <td>342</td>\n",
              "      <td>2015</td>\n",
              "      <td>7</td>\n",
              "      <td>2</td>\n",
              "      <td>0.0</td>\n",
              "      <td>BB</td>\n",
              "      <td>PRT</td>\n",
              "      <td>0</td>\n",
              "      <td>0</td>\n",
              "      <td>C</td>\n",
              "      <td>C</td>\n",
              "      <td>3</td>\n",
              "      <td>No Deposit</td>\n",
              "      <td>Transient</td>\n",
              "      <td>0.0</td>\n",
              "      <td>0</td>\n",
              "    </tr>\n",
              "    <tr>\n",
              "      <th>1</th>\n",
              "      <td>0</td>\n",
              "      <td>737</td>\n",
              "      <td>2015</td>\n",
              "      <td>7</td>\n",
              "      <td>2</td>\n",
              "      <td>0.0</td>\n",
              "      <td>BB</td>\n",
              "      <td>PRT</td>\n",
              "      <td>0</td>\n",
              "      <td>0</td>\n",
              "      <td>C</td>\n",
              "      <td>C</td>\n",
              "      <td>4</td>\n",
              "      <td>No Deposit</td>\n",
              "      <td>Transient</td>\n",
              "      <td>0.0</td>\n",
              "      <td>0</td>\n",
              "    </tr>\n",
              "    <tr>\n",
              "      <th>2</th>\n",
              "      <td>0</td>\n",
              "      <td>7</td>\n",
              "      <td>2015</td>\n",
              "      <td>7</td>\n",
              "      <td>1</td>\n",
              "      <td>0.0</td>\n",
              "      <td>BB</td>\n",
              "      <td>GBR</td>\n",
              "      <td>0</td>\n",
              "      <td>0</td>\n",
              "      <td>A</td>\n",
              "      <td>C</td>\n",
              "      <td>0</td>\n",
              "      <td>No Deposit</td>\n",
              "      <td>Transient</td>\n",
              "      <td>75.0</td>\n",
              "      <td>0</td>\n",
              "    </tr>\n",
              "    <tr>\n",
              "      <th>3</th>\n",
              "      <td>0</td>\n",
              "      <td>13</td>\n",
              "      <td>2015</td>\n",
              "      <td>7</td>\n",
              "      <td>1</td>\n",
              "      <td>0.0</td>\n",
              "      <td>BB</td>\n",
              "      <td>GBR</td>\n",
              "      <td>0</td>\n",
              "      <td>0</td>\n",
              "      <td>A</td>\n",
              "      <td>A</td>\n",
              "      <td>0</td>\n",
              "      <td>No Deposit</td>\n",
              "      <td>Transient</td>\n",
              "      <td>75.0</td>\n",
              "      <td>0</td>\n",
              "    </tr>\n",
              "    <tr>\n",
              "      <th>4</th>\n",
              "      <td>0</td>\n",
              "      <td>14</td>\n",
              "      <td>2015</td>\n",
              "      <td>7</td>\n",
              "      <td>2</td>\n",
              "      <td>0.0</td>\n",
              "      <td>BB</td>\n",
              "      <td>GBR</td>\n",
              "      <td>0</td>\n",
              "      <td>0</td>\n",
              "      <td>A</td>\n",
              "      <td>A</td>\n",
              "      <td>0</td>\n",
              "      <td>No Deposit</td>\n",
              "      <td>Transient</td>\n",
              "      <td>98.0</td>\n",
              "      <td>0</td>\n",
              "    </tr>\n",
              "    <tr>\n",
              "      <th>5</th>\n",
              "      <td>0</td>\n",
              "      <td>14</td>\n",
              "      <td>2015</td>\n",
              "      <td>7</td>\n",
              "      <td>2</td>\n",
              "      <td>0.0</td>\n",
              "      <td>BB</td>\n",
              "      <td>GBR</td>\n",
              "      <td>0</td>\n",
              "      <td>0</td>\n",
              "      <td>A</td>\n",
              "      <td>A</td>\n",
              "      <td>0</td>\n",
              "      <td>No Deposit</td>\n",
              "      <td>Transient</td>\n",
              "      <td>98.0</td>\n",
              "      <td>0</td>\n",
              "    </tr>\n",
              "  </tbody>\n",
              "</table>\n",
              "</div>\n",
              "      <button class=\"colab-df-convert\" onclick=\"convertToInteractive('df-7c8487ed-d1e3-4f64-a4ee-b33fe9493e55')\"\n",
              "              title=\"Convert this dataframe to an interactive table.\"\n",
              "              style=\"display:none;\">\n",
              "        \n",
              "  <svg xmlns=\"http://www.w3.org/2000/svg\" height=\"24px\"viewBox=\"0 0 24 24\"\n",
              "       width=\"24px\">\n",
              "    <path d=\"M0 0h24v24H0V0z\" fill=\"none\"/>\n",
              "    <path d=\"M18.56 5.44l.94 2.06.94-2.06 2.06-.94-2.06-.94-.94-2.06-.94 2.06-2.06.94zm-11 1L8.5 8.5l.94-2.06 2.06-.94-2.06-.94L8.5 2.5l-.94 2.06-2.06.94zm10 10l.94 2.06.94-2.06 2.06-.94-2.06-.94-.94-2.06-.94 2.06-2.06.94z\"/><path d=\"M17.41 7.96l-1.37-1.37c-.4-.4-.92-.59-1.43-.59-.52 0-1.04.2-1.43.59L10.3 9.45l-7.72 7.72c-.78.78-.78 2.05 0 2.83L4 21.41c.39.39.9.59 1.41.59.51 0 1.02-.2 1.41-.59l7.78-7.78 2.81-2.81c.8-.78.8-2.07 0-2.86zM5.41 20L4 18.59l7.72-7.72 1.47 1.35L5.41 20z\"/>\n",
              "  </svg>\n",
              "      </button>\n",
              "      \n",
              "  <style>\n",
              "    .colab-df-container {\n",
              "      display:flex;\n",
              "      flex-wrap:wrap;\n",
              "      gap: 12px;\n",
              "    }\n",
              "\n",
              "    .colab-df-convert {\n",
              "      background-color: #E8F0FE;\n",
              "      border: none;\n",
              "      border-radius: 50%;\n",
              "      cursor: pointer;\n",
              "      display: none;\n",
              "      fill: #1967D2;\n",
              "      height: 32px;\n",
              "      padding: 0 0 0 0;\n",
              "      width: 32px;\n",
              "    }\n",
              "\n",
              "    .colab-df-convert:hover {\n",
              "      background-color: #E2EBFA;\n",
              "      box-shadow: 0px 1px 2px rgba(60, 64, 67, 0.3), 0px 1px 3px 1px rgba(60, 64, 67, 0.15);\n",
              "      fill: #174EA6;\n",
              "    }\n",
              "\n",
              "    [theme=dark] .colab-df-convert {\n",
              "      background-color: #3B4455;\n",
              "      fill: #D2E3FC;\n",
              "    }\n",
              "\n",
              "    [theme=dark] .colab-df-convert:hover {\n",
              "      background-color: #434B5C;\n",
              "      box-shadow: 0px 1px 3px 1px rgba(0, 0, 0, 0.15);\n",
              "      filter: drop-shadow(0px 1px 2px rgba(0, 0, 0, 0.3));\n",
              "      fill: #FFFFFF;\n",
              "    }\n",
              "  </style>\n",
              "\n",
              "      <script>\n",
              "        const buttonEl =\n",
              "          document.querySelector('#df-7c8487ed-d1e3-4f64-a4ee-b33fe9493e55 button.colab-df-convert');\n",
              "        buttonEl.style.display =\n",
              "          google.colab.kernel.accessAllowed ? 'block' : 'none';\n",
              "\n",
              "        async function convertToInteractive(key) {\n",
              "          const element = document.querySelector('#df-7c8487ed-d1e3-4f64-a4ee-b33fe9493e55');\n",
              "          const dataTable =\n",
              "            await google.colab.kernel.invokeFunction('convertToInteractive',\n",
              "                                                     [key], {});\n",
              "          if (!dataTable) return;\n",
              "\n",
              "          const docLinkHtml = 'Like what you see? Visit the ' +\n",
              "            '<a target=\"_blank\" href=https://colab.research.google.com/notebooks/data_table.ipynb>data table notebook</a>'\n",
              "            + ' to learn more about interactive tables.';\n",
              "          element.innerHTML = '';\n",
              "          dataTable['output_type'] = 'display_data';\n",
              "          await google.colab.output.renderOutput(dataTable, element);\n",
              "          const docLink = document.createElement('div');\n",
              "          docLink.innerHTML = docLinkHtml;\n",
              "          element.appendChild(docLink);\n",
              "        }\n",
              "      </script>\n",
              "    </div>\n",
              "  </div>\n",
              "  "
            ]
          },
          "metadata": {},
          "execution_count": 247
        }
      ],
      "source": [
        "#import data\n",
        "data = pd.read_csv(\"/content/drive/MyDrive/Colab Notebooks/hotel_booking.csv\", sep=\";\")\n",
        "data.head(6)"
      ]
    },
    {
      "cell_type": "code",
      "execution_count": null,
      "metadata": {
        "id": "G3BeI0aB90X0",
        "colab": {
          "base_uri": "https://localhost:8080/"
        },
        "outputId": "89e158cf-2c44-47d6-b596-3f24ab20a490"
      },
      "outputs": [
        {
          "output_type": "stream",
          "name": "stdout",
          "text": [
            "<class 'pandas.core.frame.DataFrame'>\n",
            "RangeIndex: 119390 entries, 0 to 119389\n",
            "Data columns (total 17 columns):\n",
            " #   Column                          Non-Null Count   Dtype  \n",
            "---  ------                          --------------   -----  \n",
            " 0   cancel                          119390 non-null  int64  \n",
            " 1   harikerja                       119390 non-null  int64  \n",
            " 2   tahunkedatangan                 119390 non-null  int64  \n",
            " 3   bulankedatangan                 119390 non-null  int64  \n",
            " 4   adults                          119390 non-null  int64  \n",
            " 5   children                        119386 non-null  float64\n",
            " 6   meal                            119390 non-null  object \n",
            " 7   country                         118902 non-null  object \n",
            " 8   previous_cancellations          119390 non-null  int64  \n",
            " 9   previous_bookings_not_canceled  119390 non-null  int64  \n",
            " 10  reserved_room_type              119390 non-null  object \n",
            " 11  assigned_room_type              119390 non-null  object \n",
            " 12  booking_changes                 119390 non-null  int64  \n",
            " 13  deposit_type                    119390 non-null  object \n",
            " 14  customer_type                   119390 non-null  object \n",
            " 15  adr                             119390 non-null  float64\n",
            " 16  hotel                           119390 non-null  int64  \n",
            "dtypes: float64(2), int64(9), object(6)\n",
            "memory usage: 15.5+ MB\n"
          ]
        }
      ],
      "source": [
        "data.info()"
      ]
    },
    {
      "cell_type": "code",
      "execution_count": null,
      "metadata": {
        "id": "HnkBRYZT94q4",
        "colab": {
          "base_uri": "https://localhost:8080/",
          "height": 300
        },
        "outputId": "afb249e2-8d70-4bd7-f360-0b0bca02f93a"
      },
      "outputs": [
        {
          "output_type": "execute_result",
          "data": {
            "text/plain": [
              "              cancel      harikerja  tahunkedatangan  bulankedatangan  \\\n",
              "count  119390.000000  119390.000000    119390.000000    119390.000000   \n",
              "mean        0.370416     104.011416      2016.156554         6.552483   \n",
              "std         0.482918     106.863097         0.707476         3.090619   \n",
              "min         0.000000       0.000000      2015.000000         1.000000   \n",
              "25%         0.000000      18.000000      2016.000000         4.000000   \n",
              "50%         0.000000      69.000000      2016.000000         7.000000   \n",
              "75%         1.000000     160.000000      2017.000000         9.000000   \n",
              "max         1.000000     737.000000      2017.000000        12.000000   \n",
              "\n",
              "              adults       children  previous_cancellations  \\\n",
              "count  119390.000000  119386.000000           119390.000000   \n",
              "mean        1.856403       0.103890                0.087118   \n",
              "std         0.579261       0.398561                0.844336   \n",
              "min         0.000000       0.000000                0.000000   \n",
              "25%         2.000000       0.000000                0.000000   \n",
              "50%         2.000000       0.000000                0.000000   \n",
              "75%         2.000000       0.000000                0.000000   \n",
              "max        55.000000      10.000000               26.000000   \n",
              "\n",
              "       previous_bookings_not_canceled  booking_changes            adr  \\\n",
              "count                   119390.000000    119390.000000  119390.000000   \n",
              "mean                         0.137097         0.221124     101.831122   \n",
              "std                          1.497437         0.652306      50.535790   \n",
              "min                          0.000000         0.000000      -6.380000   \n",
              "25%                          0.000000         0.000000      69.290000   \n",
              "50%                          0.000000         0.000000      94.575000   \n",
              "75%                          0.000000         0.000000     126.000000   \n",
              "max                         72.000000        21.000000    5400.000000   \n",
              "\n",
              "               hotel  \n",
              "count  119390.000000  \n",
              "mean        0.664461  \n",
              "std         0.472181  \n",
              "min         0.000000  \n",
              "25%         0.000000  \n",
              "50%         1.000000  \n",
              "75%         1.000000  \n",
              "max         1.000000  "
            ],
            "text/html": [
              "\n",
              "  <div id=\"df-083c84ef-753a-4cac-a01c-dc08bf7fb759\">\n",
              "    <div class=\"colab-df-container\">\n",
              "      <div>\n",
              "<style scoped>\n",
              "    .dataframe tbody tr th:only-of-type {\n",
              "        vertical-align: middle;\n",
              "    }\n",
              "\n",
              "    .dataframe tbody tr th {\n",
              "        vertical-align: top;\n",
              "    }\n",
              "\n",
              "    .dataframe thead th {\n",
              "        text-align: right;\n",
              "    }\n",
              "</style>\n",
              "<table border=\"1\" class=\"dataframe\">\n",
              "  <thead>\n",
              "    <tr style=\"text-align: right;\">\n",
              "      <th></th>\n",
              "      <th>cancel</th>\n",
              "      <th>harikerja</th>\n",
              "      <th>tahunkedatangan</th>\n",
              "      <th>bulankedatangan</th>\n",
              "      <th>adults</th>\n",
              "      <th>children</th>\n",
              "      <th>previous_cancellations</th>\n",
              "      <th>previous_bookings_not_canceled</th>\n",
              "      <th>booking_changes</th>\n",
              "      <th>adr</th>\n",
              "      <th>hotel</th>\n",
              "    </tr>\n",
              "  </thead>\n",
              "  <tbody>\n",
              "    <tr>\n",
              "      <th>count</th>\n",
              "      <td>119390.000000</td>\n",
              "      <td>119390.000000</td>\n",
              "      <td>119390.000000</td>\n",
              "      <td>119390.000000</td>\n",
              "      <td>119390.000000</td>\n",
              "      <td>119386.000000</td>\n",
              "      <td>119390.000000</td>\n",
              "      <td>119390.000000</td>\n",
              "      <td>119390.000000</td>\n",
              "      <td>119390.000000</td>\n",
              "      <td>119390.000000</td>\n",
              "    </tr>\n",
              "    <tr>\n",
              "      <th>mean</th>\n",
              "      <td>0.370416</td>\n",
              "      <td>104.011416</td>\n",
              "      <td>2016.156554</td>\n",
              "      <td>6.552483</td>\n",
              "      <td>1.856403</td>\n",
              "      <td>0.103890</td>\n",
              "      <td>0.087118</td>\n",
              "      <td>0.137097</td>\n",
              "      <td>0.221124</td>\n",
              "      <td>101.831122</td>\n",
              "      <td>0.664461</td>\n",
              "    </tr>\n",
              "    <tr>\n",
              "      <th>std</th>\n",
              "      <td>0.482918</td>\n",
              "      <td>106.863097</td>\n",
              "      <td>0.707476</td>\n",
              "      <td>3.090619</td>\n",
              "      <td>0.579261</td>\n",
              "      <td>0.398561</td>\n",
              "      <td>0.844336</td>\n",
              "      <td>1.497437</td>\n",
              "      <td>0.652306</td>\n",
              "      <td>50.535790</td>\n",
              "      <td>0.472181</td>\n",
              "    </tr>\n",
              "    <tr>\n",
              "      <th>min</th>\n",
              "      <td>0.000000</td>\n",
              "      <td>0.000000</td>\n",
              "      <td>2015.000000</td>\n",
              "      <td>1.000000</td>\n",
              "      <td>0.000000</td>\n",
              "      <td>0.000000</td>\n",
              "      <td>0.000000</td>\n",
              "      <td>0.000000</td>\n",
              "      <td>0.000000</td>\n",
              "      <td>-6.380000</td>\n",
              "      <td>0.000000</td>\n",
              "    </tr>\n",
              "    <tr>\n",
              "      <th>25%</th>\n",
              "      <td>0.000000</td>\n",
              "      <td>18.000000</td>\n",
              "      <td>2016.000000</td>\n",
              "      <td>4.000000</td>\n",
              "      <td>2.000000</td>\n",
              "      <td>0.000000</td>\n",
              "      <td>0.000000</td>\n",
              "      <td>0.000000</td>\n",
              "      <td>0.000000</td>\n",
              "      <td>69.290000</td>\n",
              "      <td>0.000000</td>\n",
              "    </tr>\n",
              "    <tr>\n",
              "      <th>50%</th>\n",
              "      <td>0.000000</td>\n",
              "      <td>69.000000</td>\n",
              "      <td>2016.000000</td>\n",
              "      <td>7.000000</td>\n",
              "      <td>2.000000</td>\n",
              "      <td>0.000000</td>\n",
              "      <td>0.000000</td>\n",
              "      <td>0.000000</td>\n",
              "      <td>0.000000</td>\n",
              "      <td>94.575000</td>\n",
              "      <td>1.000000</td>\n",
              "    </tr>\n",
              "    <tr>\n",
              "      <th>75%</th>\n",
              "      <td>1.000000</td>\n",
              "      <td>160.000000</td>\n",
              "      <td>2017.000000</td>\n",
              "      <td>9.000000</td>\n",
              "      <td>2.000000</td>\n",
              "      <td>0.000000</td>\n",
              "      <td>0.000000</td>\n",
              "      <td>0.000000</td>\n",
              "      <td>0.000000</td>\n",
              "      <td>126.000000</td>\n",
              "      <td>1.000000</td>\n",
              "    </tr>\n",
              "    <tr>\n",
              "      <th>max</th>\n",
              "      <td>1.000000</td>\n",
              "      <td>737.000000</td>\n",
              "      <td>2017.000000</td>\n",
              "      <td>12.000000</td>\n",
              "      <td>55.000000</td>\n",
              "      <td>10.000000</td>\n",
              "      <td>26.000000</td>\n",
              "      <td>72.000000</td>\n",
              "      <td>21.000000</td>\n",
              "      <td>5400.000000</td>\n",
              "      <td>1.000000</td>\n",
              "    </tr>\n",
              "  </tbody>\n",
              "</table>\n",
              "</div>\n",
              "      <button class=\"colab-df-convert\" onclick=\"convertToInteractive('df-083c84ef-753a-4cac-a01c-dc08bf7fb759')\"\n",
              "              title=\"Convert this dataframe to an interactive table.\"\n",
              "              style=\"display:none;\">\n",
              "        \n",
              "  <svg xmlns=\"http://www.w3.org/2000/svg\" height=\"24px\"viewBox=\"0 0 24 24\"\n",
              "       width=\"24px\">\n",
              "    <path d=\"M0 0h24v24H0V0z\" fill=\"none\"/>\n",
              "    <path d=\"M18.56 5.44l.94 2.06.94-2.06 2.06-.94-2.06-.94-.94-2.06-.94 2.06-2.06.94zm-11 1L8.5 8.5l.94-2.06 2.06-.94-2.06-.94L8.5 2.5l-.94 2.06-2.06.94zm10 10l.94 2.06.94-2.06 2.06-.94-2.06-.94-.94-2.06-.94 2.06-2.06.94z\"/><path d=\"M17.41 7.96l-1.37-1.37c-.4-.4-.92-.59-1.43-.59-.52 0-1.04.2-1.43.59L10.3 9.45l-7.72 7.72c-.78.78-.78 2.05 0 2.83L4 21.41c.39.39.9.59 1.41.59.51 0 1.02-.2 1.41-.59l7.78-7.78 2.81-2.81c.8-.78.8-2.07 0-2.86zM5.41 20L4 18.59l7.72-7.72 1.47 1.35L5.41 20z\"/>\n",
              "  </svg>\n",
              "      </button>\n",
              "      \n",
              "  <style>\n",
              "    .colab-df-container {\n",
              "      display:flex;\n",
              "      flex-wrap:wrap;\n",
              "      gap: 12px;\n",
              "    }\n",
              "\n",
              "    .colab-df-convert {\n",
              "      background-color: #E8F0FE;\n",
              "      border: none;\n",
              "      border-radius: 50%;\n",
              "      cursor: pointer;\n",
              "      display: none;\n",
              "      fill: #1967D2;\n",
              "      height: 32px;\n",
              "      padding: 0 0 0 0;\n",
              "      width: 32px;\n",
              "    }\n",
              "\n",
              "    .colab-df-convert:hover {\n",
              "      background-color: #E2EBFA;\n",
              "      box-shadow: 0px 1px 2px rgba(60, 64, 67, 0.3), 0px 1px 3px 1px rgba(60, 64, 67, 0.15);\n",
              "      fill: #174EA6;\n",
              "    }\n",
              "\n",
              "    [theme=dark] .colab-df-convert {\n",
              "      background-color: #3B4455;\n",
              "      fill: #D2E3FC;\n",
              "    }\n",
              "\n",
              "    [theme=dark] .colab-df-convert:hover {\n",
              "      background-color: #434B5C;\n",
              "      box-shadow: 0px 1px 3px 1px rgba(0, 0, 0, 0.15);\n",
              "      filter: drop-shadow(0px 1px 2px rgba(0, 0, 0, 0.3));\n",
              "      fill: #FFFFFF;\n",
              "    }\n",
              "  </style>\n",
              "\n",
              "      <script>\n",
              "        const buttonEl =\n",
              "          document.querySelector('#df-083c84ef-753a-4cac-a01c-dc08bf7fb759 button.colab-df-convert');\n",
              "        buttonEl.style.display =\n",
              "          google.colab.kernel.accessAllowed ? 'block' : 'none';\n",
              "\n",
              "        async function convertToInteractive(key) {\n",
              "          const element = document.querySelector('#df-083c84ef-753a-4cac-a01c-dc08bf7fb759');\n",
              "          const dataTable =\n",
              "            await google.colab.kernel.invokeFunction('convertToInteractive',\n",
              "                                                     [key], {});\n",
              "          if (!dataTable) return;\n",
              "\n",
              "          const docLinkHtml = 'Like what you see? Visit the ' +\n",
              "            '<a target=\"_blank\" href=https://colab.research.google.com/notebooks/data_table.ipynb>data table notebook</a>'\n",
              "            + ' to learn more about interactive tables.';\n",
              "          element.innerHTML = '';\n",
              "          dataTable['output_type'] = 'display_data';\n",
              "          await google.colab.output.renderOutput(dataTable, element);\n",
              "          const docLink = document.createElement('div');\n",
              "          docLink.innerHTML = docLinkHtml;\n",
              "          element.appendChild(docLink);\n",
              "        }\n",
              "      </script>\n",
              "    </div>\n",
              "  </div>\n",
              "  "
            ]
          },
          "metadata": {},
          "execution_count": 249
        }
      ],
      "source": [
        "data.describe()"
      ]
    },
    {
      "cell_type": "code",
      "execution_count": null,
      "metadata": {
        "id": "qiWnEHUa-USI",
        "colab": {
          "base_uri": "https://localhost:8080/"
        },
        "outputId": "ac016988-ff35-48b0-a079-83c54ad13f02"
      },
      "outputs": [
        {
          "output_type": "execute_result",
          "data": {
            "text/plain": [
              "cancel                              0\n",
              "harikerja                           0\n",
              "tahunkedatangan                     0\n",
              "bulankedatangan                     0\n",
              "adults                              0\n",
              "children                            4\n",
              "meal                                0\n",
              "country                           488\n",
              "previous_cancellations              0\n",
              "previous_bookings_not_canceled      0\n",
              "reserved_room_type                  0\n",
              "assigned_room_type                  0\n",
              "booking_changes                     0\n",
              "deposit_type                        0\n",
              "customer_type                       0\n",
              "adr                                 0\n",
              "hotel                               0\n",
              "dtype: int64"
            ]
          },
          "metadata": {},
          "execution_count": 250
        }
      ],
      "source": [
        "np.sum(data.isnull())"
      ]
    },
    {
      "cell_type": "code",
      "execution_count": null,
      "metadata": {
        "id": "qTp3na-_NaqW",
        "colab": {
          "base_uri": "https://localhost:8080/"
        },
        "outputId": "c4ed6b71-4e38-46b9-e18d-ebf66544c45a"
      },
      "outputs": [
        {
          "output_type": "stream",
          "name": "stdout",
          "text": [
            "                                percent_missing\n",
            "cancel                                 0.000000\n",
            "customer_type                          0.000000\n",
            "deposit_type                           0.000000\n",
            "booking_changes                        0.000000\n",
            "assigned_room_type                     0.000000\n",
            "reserved_room_type                     0.000000\n",
            "previous_bookings_not_canceled         0.000000\n",
            "adr                                    0.000000\n",
            "previous_cancellations                 0.000000\n",
            "meal                                   0.000000\n",
            "adults                                 0.000000\n",
            "bulankedatangan                        0.000000\n",
            "tahunkedatangan                        0.000000\n",
            "harikerja                              0.000000\n",
            "hotel                                  0.000000\n",
            "children                               0.003350\n",
            "country                                0.408744\n"
          ]
        }
      ],
      "source": [
        "#persentase missing value\n",
        "percent_missing = data.isnull().sum() * 100 / len(data)\n",
        "missing_value_data = pd.DataFrame({'percent_missing': percent_missing})\n",
        "missing_value_data.sort_values('percent_missing', inplace=True)\n",
        "print(missing_value_data)"
      ]
    },
    {
      "cell_type": "code",
      "execution_count": null,
      "metadata": {
        "id": "CL-jNCEuXqbz",
        "colab": {
          "base_uri": "https://localhost:8080/",
          "height": 36
        },
        "outputId": "a313cc72-fb9a-4782-ee43-612f3ff033e0"
      },
      "outputs": [
        {
          "output_type": "execute_result",
          "data": {
            "text/plain": [
              "'PRT'"
            ],
            "application/vnd.google.colaboratory.intrinsic+json": {
              "type": "string"
            }
          },
          "metadata": {},
          "execution_count": 252
        }
      ],
      "source": [
        "st.mode(data['country']) "
      ]
    },
    {
      "cell_type": "code",
      "execution_count": null,
      "metadata": {
        "id": "WcFHEo7TXu1t",
        "colab": {
          "base_uri": "https://localhost:8080/"
        },
        "outputId": "7c831372-8c63-48cc-8632-96dcf011ec16"
      },
      "outputs": [
        {
          "output_type": "execute_result",
          "data": {
            "text/plain": [
              "cancel                            0\n",
              "harikerja                         0\n",
              "tahunkedatangan                   0\n",
              "bulankedatangan                   0\n",
              "adults                            0\n",
              "children                          0\n",
              "meal                              0\n",
              "country                           0\n",
              "previous_cancellations            0\n",
              "previous_bookings_not_canceled    0\n",
              "reserved_room_type                0\n",
              "assigned_room_type                0\n",
              "booking_changes                   0\n",
              "deposit_type                      0\n",
              "customer_type                     0\n",
              "adr                               0\n",
              "hotel                             0\n",
              "dtype: int64"
            ]
          },
          "metadata": {},
          "execution_count": 253
        }
      ],
      "source": [
        "#Imputasi Missing Value\n",
        "data['country']=data['country'].fillna('PRT')\n",
        "data['children']=data['children'].fillna(data['children'].median())\n",
        "np.sum(data.isnull())"
      ]
    },
    {
      "cell_type": "code",
      "execution_count": null,
      "metadata": {
        "id": "VT-mq3sEzBa8",
        "colab": {
          "base_uri": "https://localhost:8080/",
          "height": 488
        },
        "outputId": "942aae21-a559-439c-a083-38882d05926c"
      },
      "outputs": [
        {
          "output_type": "execute_result",
          "data": {
            "text/plain": [
              "        cancel  harikerja  tahunkedatangan  bulankedatangan  adults  children  \\\n",
              "2            0          7             2015                7       1       0.0   \n",
              "3            0         13             2015                7       1       0.0   \n",
              "4            0         14             2015                7       2       0.0   \n",
              "5            0         14             2015                7       2       0.0   \n",
              "6            0          0             2015                7       2       0.0   \n",
              "...        ...        ...              ...              ...     ...       ...   \n",
              "119385       0         23             2017                8       2       0.0   \n",
              "119386       0        102             2017                8       3       0.0   \n",
              "119387       0         34             2017                8       2       0.0   \n",
              "119388       0        109             2017                8       2       0.0   \n",
              "119389       0        205             2017                8       2       0.0   \n",
              "\n",
              "       meal country  previous_cancellations  previous_bookings_not_canceled  \\\n",
              "2        BB     GBR                       0                               0   \n",
              "3        BB     GBR                       0                               0   \n",
              "4        BB     GBR                       0                               0   \n",
              "5        BB     GBR                       0                               0   \n",
              "6        BB     PRT                       0                               0   \n",
              "...     ...     ...                     ...                             ...   \n",
              "119385   BB     BEL                       0                               0   \n",
              "119386   BB     FRA                       0                               0   \n",
              "119387   BB     DEU                       0                               0   \n",
              "119388   BB     GBR                       0                               0   \n",
              "119389   HB     DEU                       0                               0   \n",
              "\n",
              "       reserved_room_type assigned_room_type  booking_changes deposit_type  \\\n",
              "2                       A                  C                0   No Deposit   \n",
              "3                       A                  A                0   No Deposit   \n",
              "4                       A                  A                0   No Deposit   \n",
              "5                       A                  A                0   No Deposit   \n",
              "6                       C                  C                0   No Deposit   \n",
              "...                   ...                ...              ...          ...   \n",
              "119385                  A                  A                0   No Deposit   \n",
              "119386                  E                  E                0   No Deposit   \n",
              "119387                  D                  D                0   No Deposit   \n",
              "119388                  A                  A                0   No Deposit   \n",
              "119389                  A                  A                0   No Deposit   \n",
              "\n",
              "       customer_type     adr  hotel  \n",
              "2          Transient   75.00      0  \n",
              "3          Transient   75.00      0  \n",
              "4          Transient   98.00      0  \n",
              "5          Transient   98.00      0  \n",
              "6          Transient  107.00      0  \n",
              "...              ...     ...    ...  \n",
              "119385     Transient   96.14      1  \n",
              "119386     Transient  225.43      1  \n",
              "119387     Transient  157.71      1  \n",
              "119388     Transient  104.40      1  \n",
              "119389     Transient  151.20      1  \n",
              "\n",
              "[110746 rows x 17 columns]"
            ],
            "text/html": [
              "\n",
              "  <div id=\"df-46de8296-4912-4d34-bb45-1459a9dc2d58\">\n",
              "    <div class=\"colab-df-container\">\n",
              "      <div>\n",
              "<style scoped>\n",
              "    .dataframe tbody tr th:only-of-type {\n",
              "        vertical-align: middle;\n",
              "    }\n",
              "\n",
              "    .dataframe tbody tr th {\n",
              "        vertical-align: top;\n",
              "    }\n",
              "\n",
              "    .dataframe thead th {\n",
              "        text-align: right;\n",
              "    }\n",
              "</style>\n",
              "<table border=\"1\" class=\"dataframe\">\n",
              "  <thead>\n",
              "    <tr style=\"text-align: right;\">\n",
              "      <th></th>\n",
              "      <th>cancel</th>\n",
              "      <th>harikerja</th>\n",
              "      <th>tahunkedatangan</th>\n",
              "      <th>bulankedatangan</th>\n",
              "      <th>adults</th>\n",
              "      <th>children</th>\n",
              "      <th>meal</th>\n",
              "      <th>country</th>\n",
              "      <th>previous_cancellations</th>\n",
              "      <th>previous_bookings_not_canceled</th>\n",
              "      <th>reserved_room_type</th>\n",
              "      <th>assigned_room_type</th>\n",
              "      <th>booking_changes</th>\n",
              "      <th>deposit_type</th>\n",
              "      <th>customer_type</th>\n",
              "      <th>adr</th>\n",
              "      <th>hotel</th>\n",
              "    </tr>\n",
              "  </thead>\n",
              "  <tbody>\n",
              "    <tr>\n",
              "      <th>2</th>\n",
              "      <td>0</td>\n",
              "      <td>7</td>\n",
              "      <td>2015</td>\n",
              "      <td>7</td>\n",
              "      <td>1</td>\n",
              "      <td>0.0</td>\n",
              "      <td>BB</td>\n",
              "      <td>GBR</td>\n",
              "      <td>0</td>\n",
              "      <td>0</td>\n",
              "      <td>A</td>\n",
              "      <td>C</td>\n",
              "      <td>0</td>\n",
              "      <td>No Deposit</td>\n",
              "      <td>Transient</td>\n",
              "      <td>75.00</td>\n",
              "      <td>0</td>\n",
              "    </tr>\n",
              "    <tr>\n",
              "      <th>3</th>\n",
              "      <td>0</td>\n",
              "      <td>13</td>\n",
              "      <td>2015</td>\n",
              "      <td>7</td>\n",
              "      <td>1</td>\n",
              "      <td>0.0</td>\n",
              "      <td>BB</td>\n",
              "      <td>GBR</td>\n",
              "      <td>0</td>\n",
              "      <td>0</td>\n",
              "      <td>A</td>\n",
              "      <td>A</td>\n",
              "      <td>0</td>\n",
              "      <td>No Deposit</td>\n",
              "      <td>Transient</td>\n",
              "      <td>75.00</td>\n",
              "      <td>0</td>\n",
              "    </tr>\n",
              "    <tr>\n",
              "      <th>4</th>\n",
              "      <td>0</td>\n",
              "      <td>14</td>\n",
              "      <td>2015</td>\n",
              "      <td>7</td>\n",
              "      <td>2</td>\n",
              "      <td>0.0</td>\n",
              "      <td>BB</td>\n",
              "      <td>GBR</td>\n",
              "      <td>0</td>\n",
              "      <td>0</td>\n",
              "      <td>A</td>\n",
              "      <td>A</td>\n",
              "      <td>0</td>\n",
              "      <td>No Deposit</td>\n",
              "      <td>Transient</td>\n",
              "      <td>98.00</td>\n",
              "      <td>0</td>\n",
              "    </tr>\n",
              "    <tr>\n",
              "      <th>5</th>\n",
              "      <td>0</td>\n",
              "      <td>14</td>\n",
              "      <td>2015</td>\n",
              "      <td>7</td>\n",
              "      <td>2</td>\n",
              "      <td>0.0</td>\n",
              "      <td>BB</td>\n",
              "      <td>GBR</td>\n",
              "      <td>0</td>\n",
              "      <td>0</td>\n",
              "      <td>A</td>\n",
              "      <td>A</td>\n",
              "      <td>0</td>\n",
              "      <td>No Deposit</td>\n",
              "      <td>Transient</td>\n",
              "      <td>98.00</td>\n",
              "      <td>0</td>\n",
              "    </tr>\n",
              "    <tr>\n",
              "      <th>6</th>\n",
              "      <td>0</td>\n",
              "      <td>0</td>\n",
              "      <td>2015</td>\n",
              "      <td>7</td>\n",
              "      <td>2</td>\n",
              "      <td>0.0</td>\n",
              "      <td>BB</td>\n",
              "      <td>PRT</td>\n",
              "      <td>0</td>\n",
              "      <td>0</td>\n",
              "      <td>C</td>\n",
              "      <td>C</td>\n",
              "      <td>0</td>\n",
              "      <td>No Deposit</td>\n",
              "      <td>Transient</td>\n",
              "      <td>107.00</td>\n",
              "      <td>0</td>\n",
              "    </tr>\n",
              "    <tr>\n",
              "      <th>...</th>\n",
              "      <td>...</td>\n",
              "      <td>...</td>\n",
              "      <td>...</td>\n",
              "      <td>...</td>\n",
              "      <td>...</td>\n",
              "      <td>...</td>\n",
              "      <td>...</td>\n",
              "      <td>...</td>\n",
              "      <td>...</td>\n",
              "      <td>...</td>\n",
              "      <td>...</td>\n",
              "      <td>...</td>\n",
              "      <td>...</td>\n",
              "      <td>...</td>\n",
              "      <td>...</td>\n",
              "      <td>...</td>\n",
              "      <td>...</td>\n",
              "    </tr>\n",
              "    <tr>\n",
              "      <th>119385</th>\n",
              "      <td>0</td>\n",
              "      <td>23</td>\n",
              "      <td>2017</td>\n",
              "      <td>8</td>\n",
              "      <td>2</td>\n",
              "      <td>0.0</td>\n",
              "      <td>BB</td>\n",
              "      <td>BEL</td>\n",
              "      <td>0</td>\n",
              "      <td>0</td>\n",
              "      <td>A</td>\n",
              "      <td>A</td>\n",
              "      <td>0</td>\n",
              "      <td>No Deposit</td>\n",
              "      <td>Transient</td>\n",
              "      <td>96.14</td>\n",
              "      <td>1</td>\n",
              "    </tr>\n",
              "    <tr>\n",
              "      <th>119386</th>\n",
              "      <td>0</td>\n",
              "      <td>102</td>\n",
              "      <td>2017</td>\n",
              "      <td>8</td>\n",
              "      <td>3</td>\n",
              "      <td>0.0</td>\n",
              "      <td>BB</td>\n",
              "      <td>FRA</td>\n",
              "      <td>0</td>\n",
              "      <td>0</td>\n",
              "      <td>E</td>\n",
              "      <td>E</td>\n",
              "      <td>0</td>\n",
              "      <td>No Deposit</td>\n",
              "      <td>Transient</td>\n",
              "      <td>225.43</td>\n",
              "      <td>1</td>\n",
              "    </tr>\n",
              "    <tr>\n",
              "      <th>119387</th>\n",
              "      <td>0</td>\n",
              "      <td>34</td>\n",
              "      <td>2017</td>\n",
              "      <td>8</td>\n",
              "      <td>2</td>\n",
              "      <td>0.0</td>\n",
              "      <td>BB</td>\n",
              "      <td>DEU</td>\n",
              "      <td>0</td>\n",
              "      <td>0</td>\n",
              "      <td>D</td>\n",
              "      <td>D</td>\n",
              "      <td>0</td>\n",
              "      <td>No Deposit</td>\n",
              "      <td>Transient</td>\n",
              "      <td>157.71</td>\n",
              "      <td>1</td>\n",
              "    </tr>\n",
              "    <tr>\n",
              "      <th>119388</th>\n",
              "      <td>0</td>\n",
              "      <td>109</td>\n",
              "      <td>2017</td>\n",
              "      <td>8</td>\n",
              "      <td>2</td>\n",
              "      <td>0.0</td>\n",
              "      <td>BB</td>\n",
              "      <td>GBR</td>\n",
              "      <td>0</td>\n",
              "      <td>0</td>\n",
              "      <td>A</td>\n",
              "      <td>A</td>\n",
              "      <td>0</td>\n",
              "      <td>No Deposit</td>\n",
              "      <td>Transient</td>\n",
              "      <td>104.40</td>\n",
              "      <td>1</td>\n",
              "    </tr>\n",
              "    <tr>\n",
              "      <th>119389</th>\n",
              "      <td>0</td>\n",
              "      <td>205</td>\n",
              "      <td>2017</td>\n",
              "      <td>8</td>\n",
              "      <td>2</td>\n",
              "      <td>0.0</td>\n",
              "      <td>HB</td>\n",
              "      <td>DEU</td>\n",
              "      <td>0</td>\n",
              "      <td>0</td>\n",
              "      <td>A</td>\n",
              "      <td>A</td>\n",
              "      <td>0</td>\n",
              "      <td>No Deposit</td>\n",
              "      <td>Transient</td>\n",
              "      <td>151.20</td>\n",
              "      <td>1</td>\n",
              "    </tr>\n",
              "  </tbody>\n",
              "</table>\n",
              "<p>110746 rows × 17 columns</p>\n",
              "</div>\n",
              "      <button class=\"colab-df-convert\" onclick=\"convertToInteractive('df-46de8296-4912-4d34-bb45-1459a9dc2d58')\"\n",
              "              title=\"Convert this dataframe to an interactive table.\"\n",
              "              style=\"display:none;\">\n",
              "        \n",
              "  <svg xmlns=\"http://www.w3.org/2000/svg\" height=\"24px\"viewBox=\"0 0 24 24\"\n",
              "       width=\"24px\">\n",
              "    <path d=\"M0 0h24v24H0V0z\" fill=\"none\"/>\n",
              "    <path d=\"M18.56 5.44l.94 2.06.94-2.06 2.06-.94-2.06-.94-.94-2.06-.94 2.06-2.06.94zm-11 1L8.5 8.5l.94-2.06 2.06-.94-2.06-.94L8.5 2.5l-.94 2.06-2.06.94zm10 10l.94 2.06.94-2.06 2.06-.94-2.06-.94-.94-2.06-.94 2.06-2.06.94z\"/><path d=\"M17.41 7.96l-1.37-1.37c-.4-.4-.92-.59-1.43-.59-.52 0-1.04.2-1.43.59L10.3 9.45l-7.72 7.72c-.78.78-.78 2.05 0 2.83L4 21.41c.39.39.9.59 1.41.59.51 0 1.02-.2 1.41-.59l7.78-7.78 2.81-2.81c.8-.78.8-2.07 0-2.86zM5.41 20L4 18.59l7.72-7.72 1.47 1.35L5.41 20z\"/>\n",
              "  </svg>\n",
              "      </button>\n",
              "      \n",
              "  <style>\n",
              "    .colab-df-container {\n",
              "      display:flex;\n",
              "      flex-wrap:wrap;\n",
              "      gap: 12px;\n",
              "    }\n",
              "\n",
              "    .colab-df-convert {\n",
              "      background-color: #E8F0FE;\n",
              "      border: none;\n",
              "      border-radius: 50%;\n",
              "      cursor: pointer;\n",
              "      display: none;\n",
              "      fill: #1967D2;\n",
              "      height: 32px;\n",
              "      padding: 0 0 0 0;\n",
              "      width: 32px;\n",
              "    }\n",
              "\n",
              "    .colab-df-convert:hover {\n",
              "      background-color: #E2EBFA;\n",
              "      box-shadow: 0px 1px 2px rgba(60, 64, 67, 0.3), 0px 1px 3px 1px rgba(60, 64, 67, 0.15);\n",
              "      fill: #174EA6;\n",
              "    }\n",
              "\n",
              "    [theme=dark] .colab-df-convert {\n",
              "      background-color: #3B4455;\n",
              "      fill: #D2E3FC;\n",
              "    }\n",
              "\n",
              "    [theme=dark] .colab-df-convert:hover {\n",
              "      background-color: #434B5C;\n",
              "      box-shadow: 0px 1px 3px 1px rgba(0, 0, 0, 0.15);\n",
              "      filter: drop-shadow(0px 1px 2px rgba(0, 0, 0, 0.3));\n",
              "      fill: #FFFFFF;\n",
              "    }\n",
              "  </style>\n",
              "\n",
              "      <script>\n",
              "        const buttonEl =\n",
              "          document.querySelector('#df-46de8296-4912-4d34-bb45-1459a9dc2d58 button.colab-df-convert');\n",
              "        buttonEl.style.display =\n",
              "          google.colab.kernel.accessAllowed ? 'block' : 'none';\n",
              "\n",
              "        async function convertToInteractive(key) {\n",
              "          const element = document.querySelector('#df-46de8296-4912-4d34-bb45-1459a9dc2d58');\n",
              "          const dataTable =\n",
              "            await google.colab.kernel.invokeFunction('convertToInteractive',\n",
              "                                                     [key], {});\n",
              "          if (!dataTable) return;\n",
              "\n",
              "          const docLinkHtml = 'Like what you see? Visit the ' +\n",
              "            '<a target=\"_blank\" href=https://colab.research.google.com/notebooks/data_table.ipynb>data table notebook</a>'\n",
              "            + ' to learn more about interactive tables.';\n",
              "          element.innerHTML = '';\n",
              "          dataTable['output_type'] = 'display_data';\n",
              "          await google.colab.output.renderOutput(dataTable, element);\n",
              "          const docLink = document.createElement('div');\n",
              "          docLink.innerHTML = docLinkHtml;\n",
              "          element.appendChild(docLink);\n",
              "        }\n",
              "      </script>\n",
              "    </div>\n",
              "  </div>\n",
              "  "
            ]
          },
          "metadata": {},
          "execution_count": 254
        }
      ],
      "source": [
        "#Data outlier\n",
        "from scipy import stats\n",
        "z = np.abs(stats.zscore(data._get_numeric_data()))\n",
        "z\n",
        "\n",
        "#Mendapatkan data yang tidak outlier pada semua variabel\n",
        "data1 = data[(z<3).all(axis=1)]\n",
        "data1"
      ]
    },
    {
      "cell_type": "code",
      "execution_count": null,
      "metadata": {
        "id": "TPtI-DRmz44F",
        "colab": {
          "base_uri": "https://localhost:8080/",
          "height": 300
        },
        "outputId": "c742784e-19ac-44ff-abcf-df0162e56993"
      },
      "outputs": [
        {
          "output_type": "execute_result",
          "data": {
            "text/plain": [
              "              cancel      harikerja  tahunkedatangan  bulankedatangan  \\\n",
              "count  110746.000000  110746.000000    110746.000000    110746.000000   \n",
              "mean        0.368374     100.296932      2016.142786         6.534620   \n",
              "std         0.482366      98.779398         0.710042         3.100994   \n",
              "min         0.000000       0.000000      2015.000000         1.000000   \n",
              "25%         0.000000      18.000000      2016.000000         4.000000   \n",
              "50%         0.000000      69.000000      2016.000000         7.000000   \n",
              "75%         1.000000     158.000000      2017.000000         9.000000   \n",
              "max         1.000000     424.000000      2017.000000        12.000000   \n",
              "\n",
              "              adults       children  previous_cancellations  \\\n",
              "count  110746.000000  110746.000000           110746.000000   \n",
              "mean        1.858017       0.040534                0.052535   \n",
              "std         0.476050       0.197209                0.225038   \n",
              "min         1.000000       0.000000                0.000000   \n",
              "25%         2.000000       0.000000                0.000000   \n",
              "50%         2.000000       0.000000                0.000000   \n",
              "75%         2.000000       0.000000                0.000000   \n",
              "max         3.000000       1.000000                2.000000   \n",
              "\n",
              "       previous_bookings_not_canceled  booking_changes            adr  \\\n",
              "count                   110746.000000    110746.000000  110746.000000   \n",
              "mean                         0.039514         0.169839      98.918369   \n",
              "std                          0.297188         0.452388      42.733399   \n",
              "min                          0.000000         0.000000      -6.380000   \n",
              "25%                          0.000000         0.000000      70.000000   \n",
              "50%                          0.000000         0.000000      93.600000   \n",
              "75%                          0.000000         0.000000     122.500000   \n",
              "max                          4.000000         2.000000     253.330000   \n",
              "\n",
              "               hotel  \n",
              "count  110746.000000  \n",
              "mean        0.670363  \n",
              "std         0.470084  \n",
              "min         0.000000  \n",
              "25%         0.000000  \n",
              "50%         1.000000  \n",
              "75%         1.000000  \n",
              "max         1.000000  "
            ],
            "text/html": [
              "\n",
              "  <div id=\"df-b0bc4935-0662-4cda-86df-49aacef01303\">\n",
              "    <div class=\"colab-df-container\">\n",
              "      <div>\n",
              "<style scoped>\n",
              "    .dataframe tbody tr th:only-of-type {\n",
              "        vertical-align: middle;\n",
              "    }\n",
              "\n",
              "    .dataframe tbody tr th {\n",
              "        vertical-align: top;\n",
              "    }\n",
              "\n",
              "    .dataframe thead th {\n",
              "        text-align: right;\n",
              "    }\n",
              "</style>\n",
              "<table border=\"1\" class=\"dataframe\">\n",
              "  <thead>\n",
              "    <tr style=\"text-align: right;\">\n",
              "      <th></th>\n",
              "      <th>cancel</th>\n",
              "      <th>harikerja</th>\n",
              "      <th>tahunkedatangan</th>\n",
              "      <th>bulankedatangan</th>\n",
              "      <th>adults</th>\n",
              "      <th>children</th>\n",
              "      <th>previous_cancellations</th>\n",
              "      <th>previous_bookings_not_canceled</th>\n",
              "      <th>booking_changes</th>\n",
              "      <th>adr</th>\n",
              "      <th>hotel</th>\n",
              "    </tr>\n",
              "  </thead>\n",
              "  <tbody>\n",
              "    <tr>\n",
              "      <th>count</th>\n",
              "      <td>110746.000000</td>\n",
              "      <td>110746.000000</td>\n",
              "      <td>110746.000000</td>\n",
              "      <td>110746.000000</td>\n",
              "      <td>110746.000000</td>\n",
              "      <td>110746.000000</td>\n",
              "      <td>110746.000000</td>\n",
              "      <td>110746.000000</td>\n",
              "      <td>110746.000000</td>\n",
              "      <td>110746.000000</td>\n",
              "      <td>110746.000000</td>\n",
              "    </tr>\n",
              "    <tr>\n",
              "      <th>mean</th>\n",
              "      <td>0.368374</td>\n",
              "      <td>100.296932</td>\n",
              "      <td>2016.142786</td>\n",
              "      <td>6.534620</td>\n",
              "      <td>1.858017</td>\n",
              "      <td>0.040534</td>\n",
              "      <td>0.052535</td>\n",
              "      <td>0.039514</td>\n",
              "      <td>0.169839</td>\n",
              "      <td>98.918369</td>\n",
              "      <td>0.670363</td>\n",
              "    </tr>\n",
              "    <tr>\n",
              "      <th>std</th>\n",
              "      <td>0.482366</td>\n",
              "      <td>98.779398</td>\n",
              "      <td>0.710042</td>\n",
              "      <td>3.100994</td>\n",
              "      <td>0.476050</td>\n",
              "      <td>0.197209</td>\n",
              "      <td>0.225038</td>\n",
              "      <td>0.297188</td>\n",
              "      <td>0.452388</td>\n",
              "      <td>42.733399</td>\n",
              "      <td>0.470084</td>\n",
              "    </tr>\n",
              "    <tr>\n",
              "      <th>min</th>\n",
              "      <td>0.000000</td>\n",
              "      <td>0.000000</td>\n",
              "      <td>2015.000000</td>\n",
              "      <td>1.000000</td>\n",
              "      <td>1.000000</td>\n",
              "      <td>0.000000</td>\n",
              "      <td>0.000000</td>\n",
              "      <td>0.000000</td>\n",
              "      <td>0.000000</td>\n",
              "      <td>-6.380000</td>\n",
              "      <td>0.000000</td>\n",
              "    </tr>\n",
              "    <tr>\n",
              "      <th>25%</th>\n",
              "      <td>0.000000</td>\n",
              "      <td>18.000000</td>\n",
              "      <td>2016.000000</td>\n",
              "      <td>4.000000</td>\n",
              "      <td>2.000000</td>\n",
              "      <td>0.000000</td>\n",
              "      <td>0.000000</td>\n",
              "      <td>0.000000</td>\n",
              "      <td>0.000000</td>\n",
              "      <td>70.000000</td>\n",
              "      <td>0.000000</td>\n",
              "    </tr>\n",
              "    <tr>\n",
              "      <th>50%</th>\n",
              "      <td>0.000000</td>\n",
              "      <td>69.000000</td>\n",
              "      <td>2016.000000</td>\n",
              "      <td>7.000000</td>\n",
              "      <td>2.000000</td>\n",
              "      <td>0.000000</td>\n",
              "      <td>0.000000</td>\n",
              "      <td>0.000000</td>\n",
              "      <td>0.000000</td>\n",
              "      <td>93.600000</td>\n",
              "      <td>1.000000</td>\n",
              "    </tr>\n",
              "    <tr>\n",
              "      <th>75%</th>\n",
              "      <td>1.000000</td>\n",
              "      <td>158.000000</td>\n",
              "      <td>2017.000000</td>\n",
              "      <td>9.000000</td>\n",
              "      <td>2.000000</td>\n",
              "      <td>0.000000</td>\n",
              "      <td>0.000000</td>\n",
              "      <td>0.000000</td>\n",
              "      <td>0.000000</td>\n",
              "      <td>122.500000</td>\n",
              "      <td>1.000000</td>\n",
              "    </tr>\n",
              "    <tr>\n",
              "      <th>max</th>\n",
              "      <td>1.000000</td>\n",
              "      <td>424.000000</td>\n",
              "      <td>2017.000000</td>\n",
              "      <td>12.000000</td>\n",
              "      <td>3.000000</td>\n",
              "      <td>1.000000</td>\n",
              "      <td>2.000000</td>\n",
              "      <td>4.000000</td>\n",
              "      <td>2.000000</td>\n",
              "      <td>253.330000</td>\n",
              "      <td>1.000000</td>\n",
              "    </tr>\n",
              "  </tbody>\n",
              "</table>\n",
              "</div>\n",
              "      <button class=\"colab-df-convert\" onclick=\"convertToInteractive('df-b0bc4935-0662-4cda-86df-49aacef01303')\"\n",
              "              title=\"Convert this dataframe to an interactive table.\"\n",
              "              style=\"display:none;\">\n",
              "        \n",
              "  <svg xmlns=\"http://www.w3.org/2000/svg\" height=\"24px\"viewBox=\"0 0 24 24\"\n",
              "       width=\"24px\">\n",
              "    <path d=\"M0 0h24v24H0V0z\" fill=\"none\"/>\n",
              "    <path d=\"M18.56 5.44l.94 2.06.94-2.06 2.06-.94-2.06-.94-.94-2.06-.94 2.06-2.06.94zm-11 1L8.5 8.5l.94-2.06 2.06-.94-2.06-.94L8.5 2.5l-.94 2.06-2.06.94zm10 10l.94 2.06.94-2.06 2.06-.94-2.06-.94-.94-2.06-.94 2.06-2.06.94z\"/><path d=\"M17.41 7.96l-1.37-1.37c-.4-.4-.92-.59-1.43-.59-.52 0-1.04.2-1.43.59L10.3 9.45l-7.72 7.72c-.78.78-.78 2.05 0 2.83L4 21.41c.39.39.9.59 1.41.59.51 0 1.02-.2 1.41-.59l7.78-7.78 2.81-2.81c.8-.78.8-2.07 0-2.86zM5.41 20L4 18.59l7.72-7.72 1.47 1.35L5.41 20z\"/>\n",
              "  </svg>\n",
              "      </button>\n",
              "      \n",
              "  <style>\n",
              "    .colab-df-container {\n",
              "      display:flex;\n",
              "      flex-wrap:wrap;\n",
              "      gap: 12px;\n",
              "    }\n",
              "\n",
              "    .colab-df-convert {\n",
              "      background-color: #E8F0FE;\n",
              "      border: none;\n",
              "      border-radius: 50%;\n",
              "      cursor: pointer;\n",
              "      display: none;\n",
              "      fill: #1967D2;\n",
              "      height: 32px;\n",
              "      padding: 0 0 0 0;\n",
              "      width: 32px;\n",
              "    }\n",
              "\n",
              "    .colab-df-convert:hover {\n",
              "      background-color: #E2EBFA;\n",
              "      box-shadow: 0px 1px 2px rgba(60, 64, 67, 0.3), 0px 1px 3px 1px rgba(60, 64, 67, 0.15);\n",
              "      fill: #174EA6;\n",
              "    }\n",
              "\n",
              "    [theme=dark] .colab-df-convert {\n",
              "      background-color: #3B4455;\n",
              "      fill: #D2E3FC;\n",
              "    }\n",
              "\n",
              "    [theme=dark] .colab-df-convert:hover {\n",
              "      background-color: #434B5C;\n",
              "      box-shadow: 0px 1px 3px 1px rgba(0, 0, 0, 0.15);\n",
              "      filter: drop-shadow(0px 1px 2px rgba(0, 0, 0, 0.3));\n",
              "      fill: #FFFFFF;\n",
              "    }\n",
              "  </style>\n",
              "\n",
              "      <script>\n",
              "        const buttonEl =\n",
              "          document.querySelector('#df-b0bc4935-0662-4cda-86df-49aacef01303 button.colab-df-convert');\n",
              "        buttonEl.style.display =\n",
              "          google.colab.kernel.accessAllowed ? 'block' : 'none';\n",
              "\n",
              "        async function convertToInteractive(key) {\n",
              "          const element = document.querySelector('#df-b0bc4935-0662-4cda-86df-49aacef01303');\n",
              "          const dataTable =\n",
              "            await google.colab.kernel.invokeFunction('convertToInteractive',\n",
              "                                                     [key], {});\n",
              "          if (!dataTable) return;\n",
              "\n",
              "          const docLinkHtml = 'Like what you see? Visit the ' +\n",
              "            '<a target=\"_blank\" href=https://colab.research.google.com/notebooks/data_table.ipynb>data table notebook</a>'\n",
              "            + ' to learn more about interactive tables.';\n",
              "          element.innerHTML = '';\n",
              "          dataTable['output_type'] = 'display_data';\n",
              "          await google.colab.output.renderOutput(dataTable, element);\n",
              "          const docLink = document.createElement('div');\n",
              "          docLink.innerHTML = docLinkHtml;\n",
              "          element.appendChild(docLink);\n",
              "        }\n",
              "      </script>\n",
              "    </div>\n",
              "  </div>\n",
              "  "
            ]
          },
          "metadata": {},
          "execution_count": 255
        }
      ],
      "source": [
        "#Deskripsi data bersih\n",
        "data1.describe()"
      ]
    },
    {
      "cell_type": "markdown",
      "source": [
        "##VISUALIZATION"
      ],
      "metadata": {
        "id": "gCiG9d6L3f5i"
      }
    },
    {
      "cell_type": "code",
      "execution_count": null,
      "metadata": {
        "id": "wfYccOv40FBQ",
        "colab": {
          "base_uri": "https://localhost:8080/",
          "height": 644
        },
        "outputId": "eabe6129-737c-4ea6-bc6b-b312f06b0713"
      },
      "outputs": [
        {
          "output_type": "execute_result",
          "data": {
            "text/plain": [
              "Text(0, 0.5, 'Cancel or No cancel')"
            ]
          },
          "metadata": {},
          "execution_count": 256
        },
        {
          "output_type": "display_data",
          "data": {
            "text/plain": [
              "<Figure size 720x720 with 1 Axes>"
            ],
            "image/png": "[encoded data removed]"
          },
          "metadata": {}
        }
      ],
      "source": [
        "# Jumlah Cancel\n",
        "plt.figure(figsize=(10,10))\n",
        "sns.countplot(x='cancel', data= data1, palette=\"brg\", orient = 'v')\n",
        "plt.title('Canceled Situation', weight='bold')\n",
        "plt.xlabel('Count', fontsize=12)\n",
        "plt.ylabel('Cancel or No cancel', fontsize=12)"
      ]
    },
    {
      "cell_type": "code",
      "execution_count": null,
      "metadata": {
        "id": "-foEFk5E1wed",
        "colab": {
          "base_uri": "https://localhost:8080/",
          "height": 644
        },
        "outputId": "d74d0390-7d14-4300-ce8d-3343ad7e3e59"
      },
      "outputs": [
        {
          "output_type": "execute_result",
          "data": {
            "text/plain": [
              "Text(0, 0.5, 'Count')"
            ]
          },
          "metadata": {},
          "execution_count": 257
        },
        {
          "output_type": "display_data",
          "data": {
            "text/plain": [
              "<Figure size 720x720 with 1 Axes>"
            ],
            "image/png": "[encoded data removed]"
          },
          "metadata": {}
        }
      ],
      "source": [
        "# Hotel types details\n",
        "plt.figure(figsize=(10,10))\n",
        "sns.countplot(x='hotel', data = data1, palette=\"brg\")\n",
        "plt.title('Tipe Hotel', weight='bold')\n",
        "plt.xlabel('Hotel', fontsize=12)\n",
        "plt.ylabel('Count', fontsize=12)"
      ]
    },
    {
      "cell_type": "code",
      "execution_count": null,
      "metadata": {
        "id": "3BTuuxE-9Lfr",
        "colab": {
          "base_uri": "https://localhost:8080/",
          "height": 302
        },
        "outputId": "01729785-c96e-437f-8ac4-2e69fcbbd4e5"
      },
      "outputs": [
        {
          "output_type": "execute_result",
          "data": {
            "text/plain": [
              "<matplotlib.axes._subplots.AxesSubplot at 0x7fa7ade96ed0>"
            ]
          },
          "metadata": {},
          "execution_count": 258
        },
        {
          "output_type": "display_data",
          "data": {
            "text/plain": [
              "<Figure size 432x288 with 1 Axes>"
            ],
            "image/png": "[encoded data removed]"
          },
          "metadata": {}
        }
      ],
      "source": [
        "sns.countplot(data=data1, x = 'hotel', hue='cancel')"
      ]
    },
    {
      "cell_type": "code",
      "execution_count": null,
      "metadata": {
        "id": "pzOtz3km9WHV",
        "colab": {
          "base_uri": "https://localhost:8080/",
          "height": 477
        },
        "outputId": "8e666180-996f-430c-f2da-377802e8b147"
      },
      "outputs": [
        {
          "output_type": "display_data",
          "data": {
            "text/plain": [
              "<Figure size 1000x500 with 1 Axes>"
            ],
            "image/png": "[encoded data removed]"
          },
          "metadata": {}
        }
      ],
      "source": [
        "fig = plt.figure(figsize=(10,5), dpi = 100)\n",
        "sns.countplot(data=data1, x = 'bulankedatangan')\n",
        "plt.xlabel('Bulan Kedatangan', fontsize=15)\n",
        "plt.xticks(rotation=45,fontsize=11);"
      ]
    },
    {
      "cell_type": "code",
      "execution_count": null,
      "metadata": {
        "id": "jcd7ituwVRHn",
        "colab": {
          "base_uri": "https://localhost:8080/",
          "height": 424
        },
        "outputId": "4dfde70a-1f52-4d7e-c62a-cc15ace1affc"
      },
      "outputs": [
        {
          "output_type": "execute_result",
          "data": {
            "text/plain": [
              "        cancel  harikerja  tahunkedatangan  bulankedatangan  adults  children  \\\n",
              "2            0          7             2015                7       1       0.0   \n",
              "3            0         13             2015                7       1       0.0   \n",
              "4            0         14             2015                7       2       0.0   \n",
              "5            0         14             2015                7       2       0.0   \n",
              "6            0          0             2015                7       2       0.0   \n",
              "...        ...        ...              ...              ...     ...       ...   \n",
              "119385       0         23             2017                8       2       0.0   \n",
              "119386       0        102             2017                8       3       0.0   \n",
              "119387       0         34             2017                8       2       0.0   \n",
              "119388       0        109             2017                8       2       0.0   \n",
              "119389       0        205             2017                8       2       0.0   \n",
              "\n",
              "        previous_cancellations  previous_bookings_not_canceled  \\\n",
              "2                            0                               0   \n",
              "3                            0                               0   \n",
              "4                            0                               0   \n",
              "5                            0                               0   \n",
              "6                            0                               0   \n",
              "...                        ...                             ...   \n",
              "119385                       0                               0   \n",
              "119386                       0                               0   \n",
              "119387                       0                               0   \n",
              "119388                       0                               0   \n",
              "119389                       0                               0   \n",
              "\n",
              "        booking_changes     adr  hotel  \n",
              "2                     0   75.00      0  \n",
              "3                     0   75.00      0  \n",
              "4                     0   98.00      0  \n",
              "5                     0   98.00      0  \n",
              "6                     0  107.00      0  \n",
              "...                 ...     ...    ...  \n",
              "119385                0   96.14      1  \n",
              "119386                0  225.43      1  \n",
              "119387                0  157.71      1  \n",
              "119388                0  104.40      1  \n",
              "119389                0  151.20      1  \n",
              "\n",
              "[110746 rows x 11 columns]"
            ],
            "text/html": [
              "\n",
              "  <div id=\"df-a2908e4b-0411-466a-b6ae-c956088d9f51\">\n",
              "    <div class=\"colab-df-container\">\n",
              "      <div>\n",
              "<style scoped>\n",
              "    .dataframe tbody tr th:only-of-type {\n",
              "        vertical-align: middle;\n",
              "    }\n",
              "\n",
              "    .dataframe tbody tr th {\n",
              "        vertical-align: top;\n",
              "    }\n",
              "\n",
              "    .dataframe thead th {\n",
              "        text-align: right;\n",
              "    }\n",
              "</style>\n",
              "<table border=\"1\" class=\"dataframe\">\n",
              "  <thead>\n",
              "    <tr style=\"text-align: right;\">\n",
              "      <th></th>\n",
              "      <th>cancel</th>\n",
              "      <th>harikerja</th>\n",
              "      <th>tahunkedatangan</th>\n",
              "      <th>bulankedatangan</th>\n",
              "      <th>adults</th>\n",
              "      <th>children</th>\n",
              "      <th>previous_cancellations</th>\n",
              "      <th>previous_bookings_not_canceled</th>\n",
              "      <th>booking_changes</th>\n",
              "      <th>adr</th>\n",
              "      <th>hotel</th>\n",
              "    </tr>\n",
              "  </thead>\n",
              "  <tbody>\n",
              "    <tr>\n",
              "      <th>2</th>\n",
              "      <td>0</td>\n",
              "      <td>7</td>\n",
              "      <td>2015</td>\n",
              "      <td>7</td>\n",
              "      <td>1</td>\n",
              "      <td>0.0</td>\n",
              "      <td>0</td>\n",
              "      <td>0</td>\n",
              "      <td>0</td>\n",
              "      <td>75.00</td>\n",
              "      <td>0</td>\n",
              "    </tr>\n",
              "    <tr>\n",
              "      <th>3</th>\n",
              "      <td>0</td>\n",
              "      <td>13</td>\n",
              "      <td>2015</td>\n",
              "      <td>7</td>\n",
              "      <td>1</td>\n",
              "      <td>0.0</td>\n",
              "      <td>0</td>\n",
              "      <td>0</td>\n",
              "      <td>0</td>\n",
              "      <td>75.00</td>\n",
              "      <td>0</td>\n",
              "    </tr>\n",
              "    <tr>\n",
              "      <th>4</th>\n",
              "      <td>0</td>\n",
              "      <td>14</td>\n",
              "      <td>2015</td>\n",
              "      <td>7</td>\n",
              "      <td>2</td>\n",
              "      <td>0.0</td>\n",
              "      <td>0</td>\n",
              "      <td>0</td>\n",
              "      <td>0</td>\n",
              "      <td>98.00</td>\n",
              "      <td>0</td>\n",
              "    </tr>\n",
              "    <tr>\n",
              "      <th>5</th>\n",
              "      <td>0</td>\n",
              "      <td>14</td>\n",
              "      <td>2015</td>\n",
              "      <td>7</td>\n",
              "      <td>2</td>\n",
              "      <td>0.0</td>\n",
              "      <td>0</td>\n",
              "      <td>0</td>\n",
              "      <td>0</td>\n",
              "      <td>98.00</td>\n",
              "      <td>0</td>\n",
              "    </tr>\n",
              "    <tr>\n",
              "      <th>6</th>\n",
              "      <td>0</td>\n",
              "      <td>0</td>\n",
              "      <td>2015</td>\n",
              "      <td>7</td>\n",
              "      <td>2</td>\n",
              "      <td>0.0</td>\n",
              "      <td>0</td>\n",
              "      <td>0</td>\n",
              "      <td>0</td>\n",
              "      <td>107.00</td>\n",
              "      <td>0</td>\n",
              "    </tr>\n",
              "    <tr>\n",
              "      <th>...</th>\n",
              "      <td>...</td>\n",
              "      <td>...</td>\n",
              "      <td>...</td>\n",
              "      <td>...</td>\n",
              "      <td>...</td>\n",
              "      <td>...</td>\n",
              "      <td>...</td>\n",
              "      <td>...</td>\n",
              "      <td>...</td>\n",
              "      <td>...</td>\n",
              "      <td>...</td>\n",
              "    </tr>\n",
              "    <tr>\n",
              "      <th>119385</th>\n",
              "      <td>0</td>\n",
              "      <td>23</td>\n",
              "      <td>2017</td>\n",
              "      <td>8</td>\n",
              "      <td>2</td>\n",
              "      <td>0.0</td>\n",
              "      <td>0</td>\n",
              "      <td>0</td>\n",
              "      <td>0</td>\n",
              "      <td>96.14</td>\n",
              "      <td>1</td>\n",
              "    </tr>\n",
              "    <tr>\n",
              "      <th>119386</th>\n",
              "      <td>0</td>\n",
              "      <td>102</td>\n",
              "      <td>2017</td>\n",
              "      <td>8</td>\n",
              "      <td>3</td>\n",
              "      <td>0.0</td>\n",
              "      <td>0</td>\n",
              "      <td>0</td>\n",
              "      <td>0</td>\n",
              "      <td>225.43</td>\n",
              "      <td>1</td>\n",
              "    </tr>\n",
              "    <tr>\n",
              "      <th>119387</th>\n",
              "      <td>0</td>\n",
              "      <td>34</td>\n",
              "      <td>2017</td>\n",
              "      <td>8</td>\n",
              "      <td>2</td>\n",
              "      <td>0.0</td>\n",
              "      <td>0</td>\n",
              "      <td>0</td>\n",
              "      <td>0</td>\n",
              "      <td>157.71</td>\n",
              "      <td>1</td>\n",
              "    </tr>\n",
              "    <tr>\n",
              "      <th>119388</th>\n",
              "      <td>0</td>\n",
              "      <td>109</td>\n",
              "      <td>2017</td>\n",
              "      <td>8</td>\n",
              "      <td>2</td>\n",
              "      <td>0.0</td>\n",
              "      <td>0</td>\n",
              "      <td>0</td>\n",
              "      <td>0</td>\n",
              "      <td>104.40</td>\n",
              "      <td>1</td>\n",
              "    </tr>\n",
              "    <tr>\n",
              "      <th>119389</th>\n",
              "      <td>0</td>\n",
              "      <td>205</td>\n",
              "      <td>2017</td>\n",
              "      <td>8</td>\n",
              "      <td>2</td>\n",
              "      <td>0.0</td>\n",
              "      <td>0</td>\n",
              "      <td>0</td>\n",
              "      <td>0</td>\n",
              "      <td>151.20</td>\n",
              "      <td>1</td>\n",
              "    </tr>\n",
              "  </tbody>\n",
              "</table>\n",
              "<p>110746 rows × 11 columns</p>\n",
              "</div>\n",
              "      <button class=\"colab-df-convert\" onclick=\"convertToInteractive('df-a2908e4b-0411-466a-b6ae-c956088d9f51')\"\n",
              "              title=\"Convert this dataframe to an interactive table.\"\n",
              "              style=\"display:none;\">\n",
              "        \n",
              "  <svg xmlns=\"http://www.w3.org/2000/svg\" height=\"24px\"viewBox=\"0 0 24 24\"\n",
              "       width=\"24px\">\n",
              "    <path d=\"M0 0h24v24H0V0z\" fill=\"none\"/>\n",
              "    <path d=\"M18.56 5.44l.94 2.06.94-2.06 2.06-.94-2.06-.94-.94-2.06-.94 2.06-2.06.94zm-11 1L8.5 8.5l.94-2.06 2.06-.94-2.06-.94L8.5 2.5l-.94 2.06-2.06.94zm10 10l.94 2.06.94-2.06 2.06-.94-2.06-.94-.94-2.06-.94 2.06-2.06.94z\"/><path d=\"M17.41 7.96l-1.37-1.37c-.4-.4-.92-.59-1.43-.59-.52 0-1.04.2-1.43.59L10.3 9.45l-7.72 7.72c-.78.78-.78 2.05 0 2.83L4 21.41c.39.39.9.59 1.41.59.51 0 1.02-.2 1.41-.59l7.78-7.78 2.81-2.81c.8-.78.8-2.07 0-2.86zM5.41 20L4 18.59l7.72-7.72 1.47 1.35L5.41 20z\"/>\n",
              "  </svg>\n",
              "      </button>\n",
              "      \n",
              "  <style>\n",
              "    .colab-df-container {\n",
              "      display:flex;\n",
              "      flex-wrap:wrap;\n",
              "      gap: 12px;\n",
              "    }\n",
              "\n",
              "    .colab-df-convert {\n",
              "      background-color: #E8F0FE;\n",
              "      border: none;\n",
              "      border-radius: 50%;\n",
              "      cursor: pointer;\n",
              "      display: none;\n",
              "      fill: #1967D2;\n",
              "      height: 32px;\n",
              "      padding: 0 0 0 0;\n",
              "      width: 32px;\n",
              "    }\n",
              "\n",
              "    .colab-df-convert:hover {\n",
              "      background-color: #E2EBFA;\n",
              "      box-shadow: 0px 1px 2px rgba(60, 64, 67, 0.3), 0px 1px 3px 1px rgba(60, 64, 67, 0.15);\n",
              "      fill: #174EA6;\n",
              "    }\n",
              "\n",
              "    [theme=dark] .colab-df-convert {\n",
              "      background-color: #3B4455;\n",
              "      fill: #D2E3FC;\n",
              "    }\n",
              "\n",
              "    [theme=dark] .colab-df-convert:hover {\n",
              "      background-color: #434B5C;\n",
              "      box-shadow: 0px 1px 3px 1px rgba(0, 0, 0, 0.15);\n",
              "      filter: drop-shadow(0px 1px 2px rgba(0, 0, 0, 0.3));\n",
              "      fill: #FFFFFF;\n",
              "    }\n",
              "  </style>\n",
              "\n",
              "      <script>\n",
              "        const buttonEl =\n",
              "          document.querySelector('#df-a2908e4b-0411-466a-b6ae-c956088d9f51 button.colab-df-convert');\n",
              "        buttonEl.style.display =\n",
              "          google.colab.kernel.accessAllowed ? 'block' : 'none';\n",
              "\n",
              "        async function convertToInteractive(key) {\n",
              "          const element = document.querySelector('#df-a2908e4b-0411-466a-b6ae-c956088d9f51');\n",
              "          const dataTable =\n",
              "            await google.colab.kernel.invokeFunction('convertToInteractive',\n",
              "                                                     [key], {});\n",
              "          if (!dataTable) return;\n",
              "\n",
              "          const docLinkHtml = 'Like what you see? Visit the ' +\n",
              "            '<a target=\"_blank\" href=https://colab.research.google.com/notebooks/data_table.ipynb>data table notebook</a>'\n",
              "            + ' to learn more about interactive tables.';\n",
              "          element.innerHTML = '';\n",
              "          dataTable['output_type'] = 'display_data';\n",
              "          await google.colab.output.renderOutput(dataTable, element);\n",
              "          const docLink = document.createElement('div');\n",
              "          docLink.innerHTML = docLinkHtml;\n",
              "          element.appendChild(docLink);\n",
              "        }\n",
              "      </script>\n",
              "    </div>\n",
              "  </div>\n",
              "  "
            ]
          },
          "metadata": {},
          "execution_count": 260
        }
      ],
      "source": [
        "df = data1._get_numeric_data()\n",
        "df"
      ]
    },
    {
      "cell_type": "code",
      "execution_count": null,
      "metadata": {
        "id": "vSrA41-O9xC0",
        "colab": {
          "base_uri": "https://localhost:8080/",
          "height": 473
        },
        "outputId": "098cf973-2bc1-4817-f93f-79eae324ff26"
      },
      "outputs": [
        {
          "output_type": "display_data",
          "data": {
            "text/plain": [
              "<Figure size 1000x500 with 1 Axes>"
            ],
            "image/png": "[encoded data removed]"
          },
          "metadata": {}
        }
      ],
      "source": [
        "fig = plt.figure(figsize=(10,5),dpi=100)\n",
        "\n",
        "sns.lineplot(data=data1, x= 'bulankedatangan', y = 'adr', hue='hotel',)\n",
        "plt.xticks(rotation=45,fontsize=10);"
      ]
    },
    {
      "cell_type": "code",
      "execution_count": null,
      "metadata": {
        "id": "M_s-z0Ca4bZH",
        "colab": {
          "base_uri": "https://localhost:8080/",
          "height": 644
        },
        "outputId": "5a2ce055-4a40-4ab9-a242-6a40f46c8171"
      },
      "outputs": [
        {
          "output_type": "execute_result",
          "data": {
            "text/plain": [
              "Text(0, 0.5, 'Lead Time')"
            ]
          },
          "metadata": {},
          "execution_count": 262
        },
        {
          "output_type": "display_data",
          "data": {
            "text/plain": [
              "<Figure size 720x720 with 1 Axes>"
            ],
            "image/png": "[encoded data removed]"
          },
          "metadata": {}
        }
      ],
      "source": [
        "# `arrival_date_year` vs `lead_time` vs `is_canceled` exploration with violin plot\n",
        "plt.figure(figsize=(10,10))\n",
        "sns.violinplot(x='tahunkedatangan', y ='harikerja', hue=\"cancel\", data=data1, palette=\"tab10\", bw=.2,\n",
        "               cut=2, linewidth=2, iner= 'box', split = True)\n",
        "sns.despine(left=True)\n",
        "plt.title('Tahun Kedatangan vs Hari Kerja vs Status Cancel', weight='bold')\n",
        "plt.xlabel('Year', fontsize=12)\n",
        "plt.ylabel('Lead Time', fontsize=12)"
      ]
    },
    {
      "cell_type": "code",
      "execution_count": null,
      "metadata": {
        "id": "9pDJQexP5pz2",
        "colab": {
          "base_uri": "https://localhost:8080/",
          "height": 644
        },
        "outputId": "b33ccfb7-6899-417e-82cb-2f911e402be0"
      },
      "outputs": [
        {
          "output_type": "execute_result",
          "data": {
            "text/plain": [
              "Text(0, 0.5, 'Jumlah')"
            ]
          },
          "metadata": {},
          "execution_count": 263
        },
        {
          "output_type": "display_data",
          "data": {
            "text/plain": [
              "<Figure size 720x720 with 1 Axes>"
            ],
            "image/png": "[encoded data removed]"
          },
          "metadata": {}
        }
      ],
      "source": [
        "# Create Top 10 Country of Origin graph\n",
        "plt.figure(figsize=(10,10))\n",
        "sns.countplot(x='country', data=data1, \n",
        "              order=pd.value_counts(data1['country']).iloc[:10].index, palette=\"brg\")\n",
        "plt.title('Top 10 Negara Pengunjung Hotel', weight='bold')\n",
        "plt.xlabel('Negara', fontsize=12)\n",
        "plt.ylabel('Jumlah', fontsize=12)"
      ]
    },
    {
      "cell_type": "code",
      "execution_count": null,
      "metadata": {
        "id": "Mpbs0MdS2mBK",
        "colab": {
          "base_uri": "https://localhost:8080/",
          "height": 424
        },
        "outputId": "ae71c515-0770-4a36-a038-32f268ad546d"
      },
      "outputs": [
        {
          "output_type": "execute_result",
          "data": {
            "text/plain": [
              "    Negara  Tidak ada pengunjung\n",
              "0      PRT                 19456\n",
              "1      GBR                  9043\n",
              "2      FRA                  8064\n",
              "3      ESP                  5927\n",
              "4      DEU                  5862\n",
              "..     ...                   ...\n",
              "156    BHS                     1\n",
              "157    MAC                     1\n",
              "158    BFA                     1\n",
              "159    TMP                     1\n",
              "160    FRO                     1\n",
              "\n",
              "[161 rows x 2 columns]"
            ],
            "text/html": [
              "\n",
              "  <div id=\"df-1c96f74b-76e6-4dff-9d13-29e760e2b979\">\n",
              "    <div class=\"colab-df-container\">\n",
              "      <div>\n",
              "<style scoped>\n",
              "    .dataframe tbody tr th:only-of-type {\n",
              "        vertical-align: middle;\n",
              "    }\n",
              "\n",
              "    .dataframe tbody tr th {\n",
              "        vertical-align: top;\n",
              "    }\n",
              "\n",
              "    .dataframe thead th {\n",
              "        text-align: right;\n",
              "    }\n",
              "</style>\n",
              "<table border=\"1\" class=\"dataframe\">\n",
              "  <thead>\n",
              "    <tr style=\"text-align: right;\">\n",
              "      <th></th>\n",
              "      <th>Negara</th>\n",
              "      <th>Tidak ada pengunjung</th>\n",
              "    </tr>\n",
              "  </thead>\n",
              "  <tbody>\n",
              "    <tr>\n",
              "      <th>0</th>\n",
              "      <td>PRT</td>\n",
              "      <td>19456</td>\n",
              "    </tr>\n",
              "    <tr>\n",
              "      <th>1</th>\n",
              "      <td>GBR</td>\n",
              "      <td>9043</td>\n",
              "    </tr>\n",
              "    <tr>\n",
              "      <th>2</th>\n",
              "      <td>FRA</td>\n",
              "      <td>8064</td>\n",
              "    </tr>\n",
              "    <tr>\n",
              "      <th>3</th>\n",
              "      <td>ESP</td>\n",
              "      <td>5927</td>\n",
              "    </tr>\n",
              "    <tr>\n",
              "      <th>4</th>\n",
              "      <td>DEU</td>\n",
              "      <td>5862</td>\n",
              "    </tr>\n",
              "    <tr>\n",
              "      <th>...</th>\n",
              "      <td>...</td>\n",
              "      <td>...</td>\n",
              "    </tr>\n",
              "    <tr>\n",
              "      <th>156</th>\n",
              "      <td>BHS</td>\n",
              "      <td>1</td>\n",
              "    </tr>\n",
              "    <tr>\n",
              "      <th>157</th>\n",
              "      <td>MAC</td>\n",
              "      <td>1</td>\n",
              "    </tr>\n",
              "    <tr>\n",
              "      <th>158</th>\n",
              "      <td>BFA</td>\n",
              "      <td>1</td>\n",
              "    </tr>\n",
              "    <tr>\n",
              "      <th>159</th>\n",
              "      <td>TMP</td>\n",
              "      <td>1</td>\n",
              "    </tr>\n",
              "    <tr>\n",
              "      <th>160</th>\n",
              "      <td>FRO</td>\n",
              "      <td>1</td>\n",
              "    </tr>\n",
              "  </tbody>\n",
              "</table>\n",
              "<p>161 rows × 2 columns</p>\n",
              "</div>\n",
              "      <button class=\"colab-df-convert\" onclick=\"convertToInteractive('df-1c96f74b-76e6-4dff-9d13-29e760e2b979')\"\n",
              "              title=\"Convert this dataframe to an interactive table.\"\n",
              "              style=\"display:none;\">\n",
              "        \n",
              "  <svg xmlns=\"http://www.w3.org/2000/svg\" height=\"24px\"viewBox=\"0 0 24 24\"\n",
              "       width=\"24px\">\n",
              "    <path d=\"M0 0h24v24H0V0z\" fill=\"none\"/>\n",
              "    <path d=\"M18.56 5.44l.94 2.06.94-2.06 2.06-.94-2.06-.94-.94-2.06-.94 2.06-2.06.94zm-11 1L8.5 8.5l.94-2.06 2.06-.94-2.06-.94L8.5 2.5l-.94 2.06-2.06.94zm10 10l.94 2.06.94-2.06 2.06-.94-2.06-.94-.94-2.06-.94 2.06-2.06.94z\"/><path d=\"M17.41 7.96l-1.37-1.37c-.4-.4-.92-.59-1.43-.59-.52 0-1.04.2-1.43.59L10.3 9.45l-7.72 7.72c-.78.78-.78 2.05 0 2.83L4 21.41c.39.39.9.59 1.41.59.51 0 1.02-.2 1.41-.59l7.78-7.78 2.81-2.81c.8-.78.8-2.07 0-2.86zM5.41 20L4 18.59l7.72-7.72 1.47 1.35L5.41 20z\"/>\n",
              "  </svg>\n",
              "      </button>\n",
              "      \n",
              "  <style>\n",
              "    .colab-df-container {\n",
              "      display:flex;\n",
              "      flex-wrap:wrap;\n",
              "      gap: 12px;\n",
              "    }\n",
              "\n",
              "    .colab-df-convert {\n",
              "      background-color: #E8F0FE;\n",
              "      border: none;\n",
              "      border-radius: 50%;\n",
              "      cursor: pointer;\n",
              "      display: none;\n",
              "      fill: #1967D2;\n",
              "      height: 32px;\n",
              "      padding: 0 0 0 0;\n",
              "      width: 32px;\n",
              "    }\n",
              "\n",
              "    .colab-df-convert:hover {\n",
              "      background-color: #E2EBFA;\n",
              "      box-shadow: 0px 1px 2px rgba(60, 64, 67, 0.3), 0px 1px 3px 1px rgba(60, 64, 67, 0.15);\n",
              "      fill: #174EA6;\n",
              "    }\n",
              "\n",
              "    [theme=dark] .colab-df-convert {\n",
              "      background-color: #3B4455;\n",
              "      fill: #D2E3FC;\n",
              "    }\n",
              "\n",
              "    [theme=dark] .colab-df-convert:hover {\n",
              "      background-color: #434B5C;\n",
              "      box-shadow: 0px 1px 3px 1px rgba(0, 0, 0, 0.15);\n",
              "      filter: drop-shadow(0px 1px 2px rgba(0, 0, 0, 0.3));\n",
              "      fill: #FFFFFF;\n",
              "    }\n",
              "  </style>\n",
              "\n",
              "      <script>\n",
              "        const buttonEl =\n",
              "          document.querySelector('#df-1c96f74b-76e6-4dff-9d13-29e760e2b979 button.colab-df-convert');\n",
              "        buttonEl.style.display =\n",
              "          google.colab.kernel.accessAllowed ? 'block' : 'none';\n",
              "\n",
              "        async function convertToInteractive(key) {\n",
              "          const element = document.querySelector('#df-1c96f74b-76e6-4dff-9d13-29e760e2b979');\n",
              "          const dataTable =\n",
              "            await google.colab.kernel.invokeFunction('convertToInteractive',\n",
              "                                                     [key], {});\n",
              "          if (!dataTable) return;\n",
              "\n",
              "          const docLinkHtml = 'Like what you see? Visit the ' +\n",
              "            '<a target=\"_blank\" href=https://colab.research.google.com/notebooks/data_table.ipynb>data table notebook</a>'\n",
              "            + ' to learn more about interactive tables.';\n",
              "          element.innerHTML = '';\n",
              "          dataTable['output_type'] = 'display_data';\n",
              "          await google.colab.output.renderOutput(dataTable, element);\n",
              "          const docLink = document.createElement('div');\n",
              "          docLink.innerHTML = docLinkHtml;\n",
              "          element.appendChild(docLink);\n",
              "        }\n",
              "      </script>\n",
              "    </div>\n",
              "  </div>\n",
              "  "
            ]
          },
          "metadata": {},
          "execution_count": 264
        }
      ],
      "source": [
        "#Asal Kedatangan Pengunjung\n",
        "country_wise_guests = data1[data1['cancel'] == 0]['country'].value_counts().reset_index()\n",
        "country_wise_guests.columns = ['Negara', 'Tidak ada pengunjung']\n",
        "country_wise_guests"
      ]
    },
    {
      "cell_type": "code",
      "execution_count": null,
      "metadata": {
        "id": "Tf44YmhB61tG",
        "colab": {
          "base_uri": "https://localhost:8080/",
          "height": 437
        },
        "outputId": "26fed637-b077-4ab6-fbe2-622f881caebf"
      },
      "outputs": [
        {
          "output_type": "display_data",
          "data": {
            "text/plain": [
              "<Figure size 479.675x432 with 1 Axes>"
            ],
            "image/png": "[encoded data removed]"
          },
          "metadata": {}
        }
      ],
      "source": [
        "(sns.FacetGrid(data, hue = 'cancel',\n",
        "             height = 6,\n",
        "             xlim = (0,500))\n",
        "    .map(sns.kdeplot, 'harikerja', shade = True)\n",
        "    .add_legend());"
      ]
    },
    {
      "cell_type": "code",
      "execution_count": null,
      "metadata": {
        "id": "JbfdmMz1-lq1",
        "colab": {
          "base_uri": "https://localhost:8080/",
          "height": 632
        },
        "outputId": "3a872288-a3f1-4d64-a4db-bce883fe46ab"
      },
      "outputs": [
        {
          "output_type": "display_data",
          "data": {
            "text/plain": [
              "<Figure size 936x720 with 1 Axes>"
            ],
            "image/png": "[encoded data removed]"
          },
          "metadata": {}
        }
      ],
      "source": [
        "plt.figure(figsize =(13,10))\n",
        "sns.set(style=\"darkgrid\")\n",
        "plt.title(\"Total Customer - Bulanan \", fontdict={'fontsize': 20})\n",
        "ax = sns.countplot(x = \"bulankedatangan\", hue = 'hotel', data = data1)"
      ]
    },
    {
      "cell_type": "code",
      "execution_count": null,
      "metadata": {
        "id": "ex9hTneq_qaR",
        "colab": {
          "base_uri": "https://localhost:8080/",
          "height": 394
        },
        "outputId": "85ddc831-711f-468c-aeaf-a5d8eecadafc"
      },
      "outputs": [
        {
          "output_type": "execute_result",
          "data": {
            "text/plain": [
              "                                  cancel  harikerja  tahunkedatangan  \\\n",
              "cancel                          1.000000   0.283307         0.016079   \n",
              "harikerja                       0.283307   1.000000         0.020165   \n",
              "tahunkedatangan                 0.016079   0.020165         1.000000   \n",
              "bulankedatangan                 0.006831   0.132452        -0.537269   \n",
              "adults                          0.056048   0.134902         0.050040   \n",
              "children                       -0.019709  -0.020168         0.045787   \n",
              "previous_cancellations          0.292627   0.250668        -0.283616   \n",
              "previous_bookings_not_canceled -0.089193  -0.105627         0.026666   \n",
              "booking_changes                -0.161081  -0.000436         0.022021   \n",
              "adr                             0.057050  -0.042438         0.207644   \n",
              "hotel                           0.143315   0.062843         0.036618   \n",
              "\n",
              "                                bulankedatangan    adults  children  \\\n",
              "cancel                                 0.006831  0.056048 -0.019709   \n",
              "harikerja                              0.132452  0.134902 -0.020168   \n",
              "tahunkedatangan                       -0.537269  0.050040  0.045787   \n",
              "bulankedatangan                        1.000000  0.024781  0.004018   \n",
              "adults                                 0.024781  1.000000  0.070536   \n",
              "children                               0.004018  0.070536  1.000000   \n",
              "previous_cancellations                 0.090132 -0.015757 -0.042083   \n",
              "previous_bookings_not_canceled        -0.032799 -0.155394 -0.018392   \n",
              "booking_changes                        0.004946 -0.070795  0.058561   \n",
              "adr                                    0.082037  0.289538  0.170048   \n",
              "hotel                                  0.004447  0.010846 -0.008597   \n",
              "\n",
              "                                previous_cancellations  \\\n",
              "cancel                                        0.292627   \n",
              "harikerja                                     0.250668   \n",
              "tahunkedatangan                              -0.283616   \n",
              "bulankedatangan                               0.090132   \n",
              "adults                                       -0.015757   \n",
              "children                                     -0.042083   \n",
              "previous_cancellations                        1.000000   \n",
              "previous_bookings_not_canceled                0.031339   \n",
              "booking_changes                              -0.071501   \n",
              "adr                                          -0.115586   \n",
              "hotel                                         0.093111   \n",
              "\n",
              "                                previous_bookings_not_canceled  \\\n",
              "cancel                                               -0.089193   \n",
              "harikerja                                            -0.105627   \n",
              "tahunkedatangan                                       0.026666   \n",
              "bulankedatangan                                      -0.032799   \n",
              "adults                                               -0.155394   \n",
              "children                                             -0.018392   \n",
              "previous_cancellations                                0.031339   \n",
              "previous_bookings_not_canceled                        1.000000   \n",
              "booking_changes                                       0.020806   \n",
              "adr                                                  -0.099547   \n",
              "hotel                                                -0.083606   \n",
              "\n",
              "                                booking_changes       adr     hotel  \n",
              "cancel                                -0.161081  0.057050  0.143315  \n",
              "harikerja                             -0.000436 -0.042438  0.062843  \n",
              "tahunkedatangan                        0.022021  0.207644  0.036618  \n",
              "bulankedatangan                        0.004946  0.082037  0.004447  \n",
              "adults                                -0.070795  0.289538  0.010846  \n",
              "children                               0.058561  0.170048 -0.008597  \n",
              "previous_cancellations                -0.071501 -0.115586  0.093111  \n",
              "previous_bookings_not_canceled         0.020806 -0.099547 -0.083606  \n",
              "booking_changes                        1.000000  0.010633 -0.073494  \n",
              "adr                                    0.010633  1.000000  0.163856  \n",
              "hotel                                 -0.073494  0.163856  1.000000  "
            ],
            "text/html": [
              "\n",
              "  <div id=\"df-22e08059-9277-4350-8376-5c7aec381b7a\">\n",
              "    <div class=\"colab-df-container\">\n",
              "      <div>\n",
              "<style scoped>\n",
              "    .dataframe tbody tr th:only-of-type {\n",
              "        vertical-align: middle;\n",
              "    }\n",
              "\n",
              "    .dataframe tbody tr th {\n",
              "        vertical-align: top;\n",
              "    }\n",
              "\n",
              "    .dataframe thead th {\n",
              "        text-align: right;\n",
              "    }\n",
              "</style>\n",
              "<table border=\"1\" class=\"dataframe\">\n",
              "  <thead>\n",
              "    <tr style=\"text-align: right;\">\n",
              "      <th></th>\n",
              "      <th>cancel</th>\n",
              "      <th>harikerja</th>\n",
              "      <th>tahunkedatangan</th>\n",
              "      <th>bulankedatangan</th>\n",
              "      <th>adults</th>\n",
              "      <th>children</th>\n",
              "      <th>previous_cancellations</th>\n",
              "      <th>previous_bookings_not_canceled</th>\n",
              "      <th>booking_changes</th>\n",
              "      <th>adr</th>\n",
              "      <th>hotel</th>\n",
              "    </tr>\n",
              "  </thead>\n",
              "  <tbody>\n",
              "    <tr>\n",
              "      <th>cancel</th>\n",
              "      <td>1.000000</td>\n",
              "      <td>0.283307</td>\n",
              "      <td>0.016079</td>\n",
              "      <td>0.006831</td>\n",
              "      <td>0.056048</td>\n",
              "      <td>-0.019709</td>\n",
              "      <td>0.292627</td>\n",
              "      <td>-0.089193</td>\n",
              "      <td>-0.161081</td>\n",
              "      <td>0.057050</td>\n",
              "      <td>0.143315</td>\n",
              "    </tr>\n",
              "    <tr>\n",
              "      <th>harikerja</th>\n",
              "      <td>0.283307</td>\n",
              "      <td>1.000000</td>\n",
              "      <td>0.020165</td>\n",
              "      <td>0.132452</td>\n",
              "      <td>0.134902</td>\n",
              "      <td>-0.020168</td>\n",
              "      <td>0.250668</td>\n",
              "      <td>-0.105627</td>\n",
              "      <td>-0.000436</td>\n",
              "      <td>-0.042438</td>\n",
              "      <td>0.062843</td>\n",
              "    </tr>\n",
              "    <tr>\n",
              "      <th>tahunkedatangan</th>\n",
              "      <td>0.016079</td>\n",
              "      <td>0.020165</td>\n",
              "      <td>1.000000</td>\n",
              "      <td>-0.537269</td>\n",
              "      <td>0.050040</td>\n",
              "      <td>0.045787</td>\n",
              "      <td>-0.283616</td>\n",
              "      <td>0.026666</td>\n",
              "      <td>0.022021</td>\n",
              "      <td>0.207644</td>\n",
              "      <td>0.036618</td>\n",
              "    </tr>\n",
              "    <tr>\n",
              "      <th>bulankedatangan</th>\n",
              "      <td>0.006831</td>\n",
              "      <td>0.132452</td>\n",
              "      <td>-0.537269</td>\n",
              "      <td>1.000000</td>\n",
              "      <td>0.024781</td>\n",
              "      <td>0.004018</td>\n",
              "      <td>0.090132</td>\n",
              "      <td>-0.032799</td>\n",
              "      <td>0.004946</td>\n",
              "      <td>0.082037</td>\n",
              "      <td>0.004447</td>\n",
              "    </tr>\n",
              "    <tr>\n",
              "      <th>adults</th>\n",
              "      <td>0.056048</td>\n",
              "      <td>0.134902</td>\n",
              "      <td>0.050040</td>\n",
              "      <td>0.024781</td>\n",
              "      <td>1.000000</td>\n",
              "      <td>0.070536</td>\n",
              "      <td>-0.015757</td>\n",
              "      <td>-0.155394</td>\n",
              "      <td>-0.070795</td>\n",
              "      <td>0.289538</td>\n",
              "      <td>0.010846</td>\n",
              "    </tr>\n",
              "    <tr>\n",
              "      <th>children</th>\n",
              "      <td>-0.019709</td>\n",
              "      <td>-0.020168</td>\n",
              "      <td>0.045787</td>\n",
              "      <td>0.004018</td>\n",
              "      <td>0.070536</td>\n",
              "      <td>1.000000</td>\n",
              "      <td>-0.042083</td>\n",
              "      <td>-0.018392</td>\n",
              "      <td>0.058561</td>\n",
              "      <td>0.170048</td>\n",
              "      <td>-0.008597</td>\n",
              "    </tr>\n",
              "    <tr>\n",
              "      <th>previous_cancellations</th>\n",
              "      <td>0.292627</td>\n",
              "      <td>0.250668</td>\n",
              "      <td>-0.283616</td>\n",
              "      <td>0.090132</td>\n",
              "      <td>-0.015757</td>\n",
              "      <td>-0.042083</td>\n",
              "      <td>1.000000</td>\n",
              "      <td>0.031339</td>\n",
              "      <td>-0.071501</td>\n",
              "      <td>-0.115586</td>\n",
              "      <td>0.093111</td>\n",
              "    </tr>\n",
              "    <tr>\n",
              "      <th>previous_bookings_not_canceled</th>\n",
              "      <td>-0.089193</td>\n",
              "      <td>-0.105627</td>\n",
              "      <td>0.026666</td>\n",
              "      <td>-0.032799</td>\n",
              "      <td>-0.155394</td>\n",
              "      <td>-0.018392</td>\n",
              "      <td>0.031339</td>\n",
              "      <td>1.000000</td>\n",
              "      <td>0.020806</td>\n",
              "      <td>-0.099547</td>\n",
              "      <td>-0.083606</td>\n",
              "    </tr>\n",
              "    <tr>\n",
              "      <th>booking_changes</th>\n",
              "      <td>-0.161081</td>\n",
              "      <td>-0.000436</td>\n",
              "      <td>0.022021</td>\n",
              "      <td>0.004946</td>\n",
              "      <td>-0.070795</td>\n",
              "      <td>0.058561</td>\n",
              "      <td>-0.071501</td>\n",
              "      <td>0.020806</td>\n",
              "      <td>1.000000</td>\n",
              "      <td>0.010633</td>\n",
              "      <td>-0.073494</td>\n",
              "    </tr>\n",
              "    <tr>\n",
              "      <th>adr</th>\n",
              "      <td>0.057050</td>\n",
              "      <td>-0.042438</td>\n",
              "      <td>0.207644</td>\n",
              "      <td>0.082037</td>\n",
              "      <td>0.289538</td>\n",
              "      <td>0.170048</td>\n",
              "      <td>-0.115586</td>\n",
              "      <td>-0.099547</td>\n",
              "      <td>0.010633</td>\n",
              "      <td>1.000000</td>\n",
              "      <td>0.163856</td>\n",
              "    </tr>\n",
              "    <tr>\n",
              "      <th>hotel</th>\n",
              "      <td>0.143315</td>\n",
              "      <td>0.062843</td>\n",
              "      <td>0.036618</td>\n",
              "      <td>0.004447</td>\n",
              "      <td>0.010846</td>\n",
              "      <td>-0.008597</td>\n",
              "      <td>0.093111</td>\n",
              "      <td>-0.083606</td>\n",
              "      <td>-0.073494</td>\n",
              "      <td>0.163856</td>\n",
              "      <td>1.000000</td>\n",
              "    </tr>\n",
              "  </tbody>\n",
              "</table>\n",
              "</div>\n",
              "      <button class=\"colab-df-convert\" onclick=\"convertToInteractive('df-22e08059-9277-4350-8376-5c7aec381b7a')\"\n",
              "              title=\"Convert this dataframe to an interactive table.\"\n",
              "              style=\"display:none;\">\n",
              "        \n",
              "  <svg xmlns=\"http://www.w3.org/2000/svg\" height=\"24px\"viewBox=\"0 0 24 24\"\n",
              "       width=\"24px\">\n",
              "    <path d=\"M0 0h24v24H0V0z\" fill=\"none\"/>\n",
              "    <path d=\"M18.56 5.44l.94 2.06.94-2.06 2.06-.94-2.06-.94-.94-2.06-.94 2.06-2.06.94zm-11 1L8.5 8.5l.94-2.06 2.06-.94-2.06-.94L8.5 2.5l-.94 2.06-2.06.94zm10 10l.94 2.06.94-2.06 2.06-.94-2.06-.94-.94-2.06-.94 2.06-2.06.94z\"/><path d=\"M17.41 7.96l-1.37-1.37c-.4-.4-.92-.59-1.43-.59-.52 0-1.04.2-1.43.59L10.3 9.45l-7.72 7.72c-.78.78-.78 2.05 0 2.83L4 21.41c.39.39.9.59 1.41.59.51 0 1.02-.2 1.41-.59l7.78-7.78 2.81-2.81c.8-.78.8-2.07 0-2.86zM5.41 20L4 18.59l7.72-7.72 1.47 1.35L5.41 20z\"/>\n",
              "  </svg>\n",
              "      </button>\n",
              "      \n",
              "  <style>\n",
              "    .colab-df-container {\n",
              "      display:flex;\n",
              "      flex-wrap:wrap;\n",
              "      gap: 12px;\n",
              "    }\n",
              "\n",
              "    .colab-df-convert {\n",
              "      background-color: #E8F0FE;\n",
              "      border: none;\n",
              "      border-radius: 50%;\n",
              "      cursor: pointer;\n",
              "      display: none;\n",
              "      fill: #1967D2;\n",
              "      height: 32px;\n",
              "      padding: 0 0 0 0;\n",
              "      width: 32px;\n",
              "    }\n",
              "\n",
              "    .colab-df-convert:hover {\n",
              "      background-color: #E2EBFA;\n",
              "      box-shadow: 0px 1px 2px rgba(60, 64, 67, 0.3), 0px 1px 3px 1px rgba(60, 64, 67, 0.15);\n",
              "      fill: #174EA6;\n",
              "    }\n",
              "\n",
              "    [theme=dark] .colab-df-convert {\n",
              "      background-color: #3B4455;\n",
              "      fill: #D2E3FC;\n",
              "    }\n",
              "\n",
              "    [theme=dark] .colab-df-convert:hover {\n",
              "      background-color: #434B5C;\n",
              "      box-shadow: 0px 1px 3px 1px rgba(0, 0, 0, 0.15);\n",
              "      filter: drop-shadow(0px 1px 2px rgba(0, 0, 0, 0.3));\n",
              "      fill: #FFFFFF;\n",
              "    }\n",
              "  </style>\n",
              "\n",
              "      <script>\n",
              "        const buttonEl =\n",
              "          document.querySelector('#df-22e08059-9277-4350-8376-5c7aec381b7a button.colab-df-convert');\n",
              "        buttonEl.style.display =\n",
              "          google.colab.kernel.accessAllowed ? 'block' : 'none';\n",
              "\n",
              "        async function convertToInteractive(key) {\n",
              "          const element = document.querySelector('#df-22e08059-9277-4350-8376-5c7aec381b7a');\n",
              "          const dataTable =\n",
              "            await google.colab.kernel.invokeFunction('convertToInteractive',\n",
              "                                                     [key], {});\n",
              "          if (!dataTable) return;\n",
              "\n",
              "          const docLinkHtml = 'Like what you see? Visit the ' +\n",
              "            '<a target=\"_blank\" href=https://colab.research.google.com/notebooks/data_table.ipynb>data table notebook</a>'\n",
              "            + ' to learn more about interactive tables.';\n",
              "          element.innerHTML = '';\n",
              "          dataTable['output_type'] = 'display_data';\n",
              "          await google.colab.output.renderOutput(dataTable, element);\n",
              "          const docLink = document.createElement('div');\n",
              "          docLink.innerHTML = docLinkHtml;\n",
              "          element.appendChild(docLink);\n",
              "        }\n",
              "      </script>\n",
              "    </div>\n",
              "  </div>\n",
              "  "
            ]
          },
          "metadata": {},
          "execution_count": 267
        }
      ],
      "source": [
        "cor_data1 = data1.copy()\n",
        "cor=cor_data1.corr()\n",
        "cor"
      ]
    },
    {
      "cell_type": "code",
      "execution_count": null,
      "metadata": {
        "id": "7AVFziOlAiZa",
        "colab": {
          "base_uri": "https://localhost:8080/",
          "height": 715
        },
        "outputId": "04881fb7-f2ef-49bc-8b3c-70b2e98a6749"
      },
      "outputs": [
        {
          "output_type": "display_data",
          "data": {
            "text/plain": [
              "<Figure size 648x648 with 2 Axes>"
            ],
            "image/png": "[encoded data removed]"
          },
          "metadata": {}
        }
      ],
      "source": [
        "f,ax=plt.subplots(figsize=(9,9)) #ukuran\n",
        "sns.heatmap(cor,annot=True,linewidths=0.5,fmt='.1f',ax=ax)\n",
        "plt.show()"
      ]
    },
    {
      "cell_type": "markdown",
      "metadata": {
        "id": "KUDtQeidiFsc"
      },
      "source": [
        "##Feature Selection"
      ]
    },
    {
      "cell_type": "code",
      "execution_count": null,
      "metadata": {
        "id": "RtmO7N3L7MIh",
        "colab": {
          "base_uri": "https://localhost:8080/"
        },
        "outputId": "0d3f62ad-0d66-4e88-ff6c-3b6baa8a8c31"
      },
      "outputs": [
        {
          "output_type": "stream",
          "name": "stderr",
          "text": [
            "/usr/local/lib/python3.7/dist-packages/ipykernel_launcher.py:3: SettingWithCopyWarning: \n",
            "A value is trying to be set on a copy of a slice from a DataFrame.\n",
            "Try using .loc[row_indexer,col_indexer] = value instead\n",
            "\n",
            "See the caveats in the documentation: https://pandas.pydata.org/pandas-docs/stable/user_guide/indexing.html#returning-a-view-versus-a-copy\n",
            "  This is separate from the ipykernel package so we can avoid doing imports until\n",
            "/usr/local/lib/python3.7/dist-packages/ipykernel_launcher.py:4: SettingWithCopyWarning: \n",
            "A value is trying to be set on a copy of a slice from a DataFrame.\n",
            "Try using .loc[row_indexer,col_indexer] = value instead\n",
            "\n",
            "See the caveats in the documentation: https://pandas.pydata.org/pandas-docs/stable/user_guide/indexing.html#returning-a-view-versus-a-copy\n",
            "  after removing the cwd from sys.path.\n",
            "/usr/local/lib/python3.7/dist-packages/ipykernel_launcher.py:5: SettingWithCopyWarning: \n",
            "A value is trying to be set on a copy of a slice from a DataFrame.\n",
            "Try using .loc[row_indexer,col_indexer] = value instead\n",
            "\n",
            "See the caveats in the documentation: https://pandas.pydata.org/pandas-docs/stable/user_guide/indexing.html#returning-a-view-versus-a-copy\n",
            "  \"\"\"\n",
            "/usr/local/lib/python3.7/dist-packages/ipykernel_launcher.py:6: SettingWithCopyWarning: \n",
            "A value is trying to be set on a copy of a slice from a DataFrame.\n",
            "Try using .loc[row_indexer,col_indexer] = value instead\n",
            "\n",
            "See the caveats in the documentation: https://pandas.pydata.org/pandas-docs/stable/user_guide/indexing.html#returning-a-view-versus-a-copy\n",
            "  \n",
            "/usr/local/lib/python3.7/dist-packages/ipykernel_launcher.py:7: SettingWithCopyWarning: \n",
            "A value is trying to be set on a copy of a slice from a DataFrame.\n",
            "Try using .loc[row_indexer,col_indexer] = value instead\n",
            "\n",
            "See the caveats in the documentation: https://pandas.pydata.org/pandas-docs/stable/user_guide/indexing.html#returning-a-view-versus-a-copy\n",
            "  import sys\n",
            "/usr/local/lib/python3.7/dist-packages/ipykernel_launcher.py:8: SettingWithCopyWarning: \n",
            "A value is trying to be set on a copy of a slice from a DataFrame.\n",
            "Try using .loc[row_indexer,col_indexer] = value instead\n",
            "\n",
            "See the caveats in the documentation: https://pandas.pydata.org/pandas-docs/stable/user_guide/indexing.html#returning-a-view-versus-a-copy\n",
            "  \n"
          ]
        }
      ],
      "source": [
        "#Using Label Encoder method for categorical features\n",
        "labelencoder = LabelEncoder()\n",
        "data1['meal'] = labelencoder.fit_transform(data1['meal'])\n",
        "data1['country'] = labelencoder.fit_transform(data1['country'])\n",
        "data1['reserved_room_type'] = labelencoder.fit_transform(data1['reserved_room_type'])\n",
        "data1['assigned_room_type'] = labelencoder.fit_transform(data1['assigned_room_type'])\n",
        "data1['deposit_type'] = labelencoder.fit_transform(data1['deposit_type'])\n",
        "data1['customer_type'] = labelencoder.fit_transform(data1['customer_type'])"
      ]
    },
    {
      "cell_type": "code",
      "execution_count": null,
      "metadata": {
        "id": "Y0UnZ-oH8-gZ",
        "colab": {
          "base_uri": "https://localhost:8080/",
          "height": 488
        },
        "outputId": "cbd5a465-84e0-427c-cb63-93f9a694e824"
      },
      "outputs": [
        {
          "output_type": "execute_result",
          "data": {
            "text/plain": [
              "        cancel  harikerja  tahunkedatangan  bulankedatangan  adults  children  \\\n",
              "2            0          7             2015                7       1       0.0   \n",
              "3            0         13             2015                7       1       0.0   \n",
              "4            0         14             2015                7       2       0.0   \n",
              "5            0         14             2015                7       2       0.0   \n",
              "6            0          0             2015                7       2       0.0   \n",
              "...        ...        ...              ...              ...     ...       ...   \n",
              "119385       0         23             2017                8       2       0.0   \n",
              "119386       0        102             2017                8       3       0.0   \n",
              "119387       0         34             2017                8       2       0.0   \n",
              "119388       0        109             2017                8       2       0.0   \n",
              "119389       0        205             2017                8       2       0.0   \n",
              "\n",
              "        meal  country  previous_cancellations  previous_bookings_not_canceled  \\\n",
              "2          0       55                       0                               0   \n",
              "3          0       55                       0                               0   \n",
              "4          0       55                       0                               0   \n",
              "5          0       55                       0                               0   \n",
              "6          0      131                       0                               0   \n",
              "...      ...      ...                     ...                             ...   \n",
              "119385     0       14                       0                               0   \n",
              "119386     0       52                       0                               0   \n",
              "119387     0       41                       0                               0   \n",
              "119388     0       55                       0                               0   \n",
              "119389     2       41                       0                               0   \n",
              "\n",
              "        reserved_room_type  assigned_room_type  booking_changes  deposit_type  \\\n",
              "2                        0                   2                0             0   \n",
              "3                        0                   0                0             0   \n",
              "4                        0                   0                0             0   \n",
              "5                        0                   0                0             0   \n",
              "6                        2                   2                0             0   \n",
              "...                    ...                 ...              ...           ...   \n",
              "119385                   0                   0                0             0   \n",
              "119386                   4                   4                0             0   \n",
              "119387                   3                   3                0             0   \n",
              "119388                   0                   0                0             0   \n",
              "119389                   0                   0                0             0   \n",
              "\n",
              "        customer_type     adr  hotel  \n",
              "2                   2   75.00      0  \n",
              "3                   2   75.00      0  \n",
              "4                   2   98.00      0  \n",
              "5                   2   98.00      0  \n",
              "6                   2  107.00      0  \n",
              "...               ...     ...    ...  \n",
              "119385              2   96.14      1  \n",
              "119386              2  225.43      1  \n",
              "119387              2  157.71      1  \n",
              "119388              2  104.40      1  \n",
              "119389              2  151.20      1  \n",
              "\n",
              "[110746 rows x 17 columns]"
            ],
            "text/html": [
              "\n",
              "  <div id=\"df-bc0197e0-77ff-4315-8ce8-a600715f91ce\">\n",
              "    <div class=\"colab-df-container\">\n",
              "      <div>\n",
              "<style scoped>\n",
              "    .dataframe tbody tr th:only-of-type {\n",
              "        vertical-align: middle;\n",
              "    }\n",
              "\n",
              "    .dataframe tbody tr th {\n",
              "        vertical-align: top;\n",
              "    }\n",
              "\n",
              "    .dataframe thead th {\n",
              "        text-align: right;\n",
              "    }\n",
              "</style>\n",
              "<table border=\"1\" class=\"dataframe\">\n",
              "  <thead>\n",
              "    <tr style=\"text-align: right;\">\n",
              "      <th></th>\n",
              "      <th>cancel</th>\n",
              "      <th>harikerja</th>\n",
              "      <th>tahunkedatangan</th>\n",
              "      <th>bulankedatangan</th>\n",
              "      <th>adults</th>\n",
              "      <th>children</th>\n",
              "      <th>meal</th>\n",
              "      <th>country</th>\n",
              "      <th>previous_cancellations</th>\n",
              "      <th>previous_bookings_not_canceled</th>\n",
              "      <th>reserved_room_type</th>\n",
              "      <th>assigned_room_type</th>\n",
              "      <th>booking_changes</th>\n",
              "      <th>deposit_type</th>\n",
              "      <th>customer_type</th>\n",
              "      <th>adr</th>\n",
              "      <th>hotel</th>\n",
              "    </tr>\n",
              "  </thead>\n",
              "  <tbody>\n",
              "    <tr>\n",
              "      <th>2</th>\n",
              "      <td>0</td>\n",
              "      <td>7</td>\n",
              "      <td>2015</td>\n",
              "      <td>7</td>\n",
              "      <td>1</td>\n",
              "      <td>0.0</td>\n",
              "      <td>0</td>\n",
              "      <td>55</td>\n",
              "      <td>0</td>\n",
              "      <td>0</td>\n",
              "      <td>0</td>\n",
              "      <td>2</td>\n",
              "      <td>0</td>\n",
              "      <td>0</td>\n",
              "      <td>2</td>\n",
              "      <td>75.00</td>\n",
              "      <td>0</td>\n",
              "    </tr>\n",
              "    <tr>\n",
              "      <th>3</th>\n",
              "      <td>0</td>\n",
              "      <td>13</td>\n",
              "      <td>2015</td>\n",
              "      <td>7</td>\n",
              "      <td>1</td>\n",
              "      <td>0.0</td>\n",
              "      <td>0</td>\n",
              "      <td>55</td>\n",
              "      <td>0</td>\n",
              "      <td>0</td>\n",
              "      <td>0</td>\n",
              "      <td>0</td>\n",
              "      <td>0</td>\n",
              "      <td>0</td>\n",
              "      <td>2</td>\n",
              "      <td>75.00</td>\n",
              "      <td>0</td>\n",
              "    </tr>\n",
              "    <tr>\n",
              "      <th>4</th>\n",
              "      <td>0</td>\n",
              "      <td>14</td>\n",
              "      <td>2015</td>\n",
              "      <td>7</td>\n",
              "      <td>2</td>\n",
              "      <td>0.0</td>\n",
              "      <td>0</td>\n",
              "      <td>55</td>\n",
              "      <td>0</td>\n",
              "      <td>0</td>\n",
              "      <td>0</td>\n",
              "      <td>0</td>\n",
              "      <td>0</td>\n",
              "      <td>0</td>\n",
              "      <td>2</td>\n",
              "      <td>98.00</td>\n",
              "      <td>0</td>\n",
              "    </tr>\n",
              "    <tr>\n",
              "      <th>5</th>\n",
              "      <td>0</td>\n",
              "      <td>14</td>\n",
              "      <td>2015</td>\n",
              "      <td>7</td>\n",
              "      <td>2</td>\n",
              "      <td>0.0</td>\n",
              "      <td>0</td>\n",
              "      <td>55</td>\n",
              "      <td>0</td>\n",
              "      <td>0</td>\n",
              "      <td>0</td>\n",
              "      <td>0</td>\n",
              "      <td>0</td>\n",
              "      <td>0</td>\n",
              "      <td>2</td>\n",
              "      <td>98.00</td>\n",
              "      <td>0</td>\n",
              "    </tr>\n",
              "    <tr>\n",
              "      <th>6</th>\n",
              "      <td>0</td>\n",
              "      <td>0</td>\n",
              "      <td>2015</td>\n",
              "      <td>7</td>\n",
              "      <td>2</td>\n",
              "      <td>0.0</td>\n",
              "      <td>0</td>\n",
              "      <td>131</td>\n",
              "      <td>0</td>\n",
              "      <td>0</td>\n",
              "      <td>2</td>\n",
              "      <td>2</td>\n",
              "      <td>0</td>\n",
              "      <td>0</td>\n",
              "      <td>2</td>\n",
              "      <td>107.00</td>\n",
              "      <td>0</td>\n",
              "    </tr>\n",
              "    <tr>\n",
              "      <th>...</th>\n",
              "      <td>...</td>\n",
              "      <td>...</td>\n",
              "      <td>...</td>\n",
              "      <td>...</td>\n",
              "      <td>...</td>\n",
              "      <td>...</td>\n",
              "      <td>...</td>\n",
              "      <td>...</td>\n",
              "      <td>...</td>\n",
              "      <td>...</td>\n",
              "      <td>...</td>\n",
              "      <td>...</td>\n",
              "      <td>...</td>\n",
              "      <td>...</td>\n",
              "      <td>...</td>\n",
              "      <td>...</td>\n",
              "      <td>...</td>\n",
              "    </tr>\n",
              "    <tr>\n",
              "      <th>119385</th>\n",
              "      <td>0</td>\n",
              "      <td>23</td>\n",
              "      <td>2017</td>\n",
              "      <td>8</td>\n",
              "      <td>2</td>\n",
              "      <td>0.0</td>\n",
              "      <td>0</td>\n",
              "      <td>14</td>\n",
              "      <td>0</td>\n",
              "      <td>0</td>\n",
              "      <td>0</td>\n",
              "      <td>0</td>\n",
              "      <td>0</td>\n",
              "      <td>0</td>\n",
              "      <td>2</td>\n",
              "      <td>96.14</td>\n",
              "      <td>1</td>\n",
              "    </tr>\n",
              "    <tr>\n",
              "      <th>119386</th>\n",
              "      <td>0</td>\n",
              "      <td>102</td>\n",
              "      <td>2017</td>\n",
              "      <td>8</td>\n",
              "      <td>3</td>\n",
              "      <td>0.0</td>\n",
              "      <td>0</td>\n",
              "      <td>52</td>\n",
              "      <td>0</td>\n",
              "      <td>0</td>\n",
              "      <td>4</td>\n",
              "      <td>4</td>\n",
              "      <td>0</td>\n",
              "      <td>0</td>\n",
              "      <td>2</td>\n",
              "      <td>225.43</td>\n",
              "      <td>1</td>\n",
              "    </tr>\n",
              "    <tr>\n",
              "      <th>119387</th>\n",
              "      <td>0</td>\n",
              "      <td>34</td>\n",
              "      <td>2017</td>\n",
              "      <td>8</td>\n",
              "      <td>2</td>\n",
              "      <td>0.0</td>\n",
              "      <td>0</td>\n",
              "      <td>41</td>\n",
              "      <td>0</td>\n",
              "      <td>0</td>\n",
              "      <td>3</td>\n",
              "      <td>3</td>\n",
              "      <td>0</td>\n",
              "      <td>0</td>\n",
              "      <td>2</td>\n",
              "      <td>157.71</td>\n",
              "      <td>1</td>\n",
              "    </tr>\n",
              "    <tr>\n",
              "      <th>119388</th>\n",
              "      <td>0</td>\n",
              "      <td>109</td>\n",
              "      <td>2017</td>\n",
              "      <td>8</td>\n",
              "      <td>2</td>\n",
              "      <td>0.0</td>\n",
              "      <td>0</td>\n",
              "      <td>55</td>\n",
              "      <td>0</td>\n",
              "      <td>0</td>\n",
              "      <td>0</td>\n",
              "      <td>0</td>\n",
              "      <td>0</td>\n",
              "      <td>0</td>\n",
              "      <td>2</td>\n",
              "      <td>104.40</td>\n",
              "      <td>1</td>\n",
              "    </tr>\n",
              "    <tr>\n",
              "      <th>119389</th>\n",
              "      <td>0</td>\n",
              "      <td>205</td>\n",
              "      <td>2017</td>\n",
              "      <td>8</td>\n",
              "      <td>2</td>\n",
              "      <td>0.0</td>\n",
              "      <td>2</td>\n",
              "      <td>41</td>\n",
              "      <td>0</td>\n",
              "      <td>0</td>\n",
              "      <td>0</td>\n",
              "      <td>0</td>\n",
              "      <td>0</td>\n",
              "      <td>0</td>\n",
              "      <td>2</td>\n",
              "      <td>151.20</td>\n",
              "      <td>1</td>\n",
              "    </tr>\n",
              "  </tbody>\n",
              "</table>\n",
              "<p>110746 rows × 17 columns</p>\n",
              "</div>\n",
              "      <button class=\"colab-df-convert\" onclick=\"convertToInteractive('df-bc0197e0-77ff-4315-8ce8-a600715f91ce')\"\n",
              "              title=\"Convert this dataframe to an interactive table.\"\n",
              "              style=\"display:none;\">\n",
              "        \n",
              "  <svg xmlns=\"http://www.w3.org/2000/svg\" height=\"24px\"viewBox=\"0 0 24 24\"\n",
              "       width=\"24px\">\n",
              "    <path d=\"M0 0h24v24H0V0z\" fill=\"none\"/>\n",
              "    <path d=\"M18.56 5.44l.94 2.06.94-2.06 2.06-.94-2.06-.94-.94-2.06-.94 2.06-2.06.94zm-11 1L8.5 8.5l.94-2.06 2.06-.94-2.06-.94L8.5 2.5l-.94 2.06-2.06.94zm10 10l.94 2.06.94-2.06 2.06-.94-2.06-.94-.94-2.06-.94 2.06-2.06.94z\"/><path d=\"M17.41 7.96l-1.37-1.37c-.4-.4-.92-.59-1.43-.59-.52 0-1.04.2-1.43.59L10.3 9.45l-7.72 7.72c-.78.78-.78 2.05 0 2.83L4 21.41c.39.39.9.59 1.41.59.51 0 1.02-.2 1.41-.59l7.78-7.78 2.81-2.81c.8-.78.8-2.07 0-2.86zM5.41 20L4 18.59l7.72-7.72 1.47 1.35L5.41 20z\"/>\n",
              "  </svg>\n",
              "      </button>\n",
              "      \n",
              "  <style>\n",
              "    .colab-df-container {\n",
              "      display:flex;\n",
              "      flex-wrap:wrap;\n",
              "      gap: 12px;\n",
              "    }\n",
              "\n",
              "    .colab-df-convert {\n",
              "      background-color: #E8F0FE;\n",
              "      border: none;\n",
              "      border-radius: 50%;\n",
              "      cursor: pointer;\n",
              "      display: none;\n",
              "      fill: #1967D2;\n",
              "      height: 32px;\n",
              "      padding: 0 0 0 0;\n",
              "      width: 32px;\n",
              "    }\n",
              "\n",
              "    .colab-df-convert:hover {\n",
              "      background-color: #E2EBFA;\n",
              "      box-shadow: 0px 1px 2px rgba(60, 64, 67, 0.3), 0px 1px 3px 1px rgba(60, 64, 67, 0.15);\n",
              "      fill: #174EA6;\n",
              "    }\n",
              "\n",
              "    [theme=dark] .colab-df-convert {\n",
              "      background-color: #3B4455;\n",
              "      fill: #D2E3FC;\n",
              "    }\n",
              "\n",
              "    [theme=dark] .colab-df-convert:hover {\n",
              "      background-color: #434B5C;\n",
              "      box-shadow: 0px 1px 3px 1px rgba(0, 0, 0, 0.15);\n",
              "      filter: drop-shadow(0px 1px 2px rgba(0, 0, 0, 0.3));\n",
              "      fill: #FFFFFF;\n",
              "    }\n",
              "  </style>\n",
              "\n",
              "      <script>\n",
              "        const buttonEl =\n",
              "          document.querySelector('#df-bc0197e0-77ff-4315-8ce8-a600715f91ce button.colab-df-convert');\n",
              "        buttonEl.style.display =\n",
              "          google.colab.kernel.accessAllowed ? 'block' : 'none';\n",
              "\n",
              "        async function convertToInteractive(key) {\n",
              "          const element = document.querySelector('#df-bc0197e0-77ff-4315-8ce8-a600715f91ce');\n",
              "          const dataTable =\n",
              "            await google.colab.kernel.invokeFunction('convertToInteractive',\n",
              "                                                     [key], {});\n",
              "          if (!dataTable) return;\n",
              "\n",
              "          const docLinkHtml = 'Like what you see? Visit the ' +\n",
              "            '<a target=\"_blank\" href=https://colab.research.google.com/notebooks/data_table.ipynb>data table notebook</a>'\n",
              "            + ' to learn more about interactive tables.';\n",
              "          element.innerHTML = '';\n",
              "          dataTable['output_type'] = 'display_data';\n",
              "          await google.colab.output.renderOutput(dataTable, element);\n",
              "          const docLink = document.createElement('div');\n",
              "          docLink.innerHTML = docLinkHtml;\n",
              "          element.appendChild(docLink);\n",
              "        }\n",
              "      </script>\n",
              "    </div>\n",
              "  </div>\n",
              "  "
            ]
          },
          "metadata": {},
          "execution_count": 270
        }
      ],
      "source": [
        "data1"
      ]
    },
    {
      "cell_type": "code",
      "execution_count": null,
      "metadata": {
        "id": "Chj6cFjMuTZ0",
        "colab": {
          "base_uri": "https://localhost:8080/"
        },
        "outputId": "4804e1ca-8edf-4b91-aa10-5f81d6750051"
      },
      "outputs": [
        {
          "output_type": "stream",
          "name": "stderr",
          "text": [
            "/usr/local/lib/python3.7/dist-packages/ipykernel_launcher.py:1: FutureWarning: In a future version of pandas all arguments of DataFrame.drop except for the argument 'labels' will be keyword-only\n",
            "  \"\"\"Entry point for launching an IPython kernel.\n"
          ]
        }
      ],
      "source": [
        "x = data1.drop(\"cancel\",1)\n",
        "y = data1['cancel']"
      ]
    },
    {
      "cell_type": "code",
      "execution_count": null,
      "metadata": {
        "id": "THOAMSi4qkhd",
        "colab": {
          "base_uri": "https://localhost:8080/"
        },
        "outputId": "9fce60b3-6eec-4fba-f5f1-e00598961817"
      },
      "outputs": [
        {
          "output_type": "stream",
          "name": "stdout",
          "text": [
            "                  Selected_columns   Score_ANOVA\n",
            "12                             NaN  31115.503495\n",
            "7   previous_bookings_not_canceled  10371.164083\n",
            "0                           cancel   9664.319226\n",
            "6           previous_cancellations   9269.740603\n",
            "10                           hotel   4412.150592\n",
            "11                             NaN   2950.045120\n",
            "15                             NaN   2322.288334\n",
            "8                  booking_changes    888.086516\n",
            "9                              adr    656.029952\n",
            "13                             NaN    473.058274\n",
            "14                             NaN    361.615001\n",
            "3                  bulankedatangan    348.983133\n",
            "4                           adults     43.035364\n",
            "1                        harikerja     28.639933\n",
            "5                         children      6.520258\n",
            "2                  tahunkedatangan      5.168486\n"
          ]
        }
      ],
      "source": [
        "from sklearn.feature_selection import SelectKBest\n",
        "from sklearn.feature_selection import f_classif\n",
        "\n",
        "#feature selection using f_classif\n",
        "fs = SelectKBest(score_func=f_classif, k=3)\n",
        "fit = fs.fit(x,y)\n",
        "\n",
        "#create df for scores\n",
        "dfscores = pd.DataFrame(fit.scores_)\n",
        "\n",
        "#create df for column names\n",
        "dfcolumns = pd.DataFrame(df.columns)\n",
        "\n",
        "#concat two dataframes for better visualization \n",
        "featureScores = pd.concat([dfcolumns,dfscores],axis=1)\n",
        "\n",
        "#naming the dataframe columns\n",
        "featureScores.columns = ['Selected_columns','Score_ANOVA'] \n",
        "\n",
        "#print  best features\n",
        "print(featureScores.nlargest(18,'Score_ANOVA'))"
      ]
    },
    {
      "cell_type": "code",
      "execution_count": null,
      "metadata": {
        "id": "g3w9AcIaMVU3",
        "colab": {
          "base_uri": "https://localhost:8080/",
          "height": 424
        },
        "outputId": "201d22e4-8b8d-4078-d2fa-a677ea88e1c7"
      },
      "outputs": [
        {
          "output_type": "execute_result",
          "data": {
            "text/plain": [
              "        cancel  meal  country  previous_cancellations  \\\n",
              "2            0     0       55                       0   \n",
              "3            0     0       55                       0   \n",
              "4            0     0       55                       0   \n",
              "5            0     0       55                       0   \n",
              "6            0     0      131                       0   \n",
              "...        ...   ...      ...                     ...   \n",
              "119385       0     0       14                       0   \n",
              "119386       0     0       52                       0   \n",
              "119387       0     0       41                       0   \n",
              "119388       0     0       55                       0   \n",
              "119389       0     2       41                       0   \n",
              "\n",
              "        previous_bookings_not_canceled  reserved_room_type  \\\n",
              "2                                    0                   0   \n",
              "3                                    0                   0   \n",
              "4                                    0                   0   \n",
              "5                                    0                   0   \n",
              "6                                    0                   2   \n",
              "...                                ...                 ...   \n",
              "119385                               0                   0   \n",
              "119386                               0                   4   \n",
              "119387                               0                   3   \n",
              "119388                               0                   0   \n",
              "119389                               0                   0   \n",
              "\n",
              "        assigned_room_type  deposit_type  customer_type  hotel  \n",
              "2                        2             0              2      0  \n",
              "3                        0             0              2      0  \n",
              "4                        0             0              2      0  \n",
              "5                        0             0              2      0  \n",
              "6                        2             0              2      0  \n",
              "...                    ...           ...            ...    ...  \n",
              "119385                   0             0              2      1  \n",
              "119386                   4             0              2      1  \n",
              "119387                   3             0              2      1  \n",
              "119388                   0             0              2      1  \n",
              "119389                   0             0              2      1  \n",
              "\n",
              "[110746 rows x 10 columns]"
            ],
            "text/html": [
              "\n",
              "  <div id=\"df-8eea23f0-b00a-4e88-8cfa-a6c32c35e2af\">\n",
              "    <div class=\"colab-df-container\">\n",
              "      <div>\n",
              "<style scoped>\n",
              "    .dataframe tbody tr th:only-of-type {\n",
              "        vertical-align: middle;\n",
              "    }\n",
              "\n",
              "    .dataframe tbody tr th {\n",
              "        vertical-align: top;\n",
              "    }\n",
              "\n",
              "    .dataframe thead th {\n",
              "        text-align: right;\n",
              "    }\n",
              "</style>\n",
              "<table border=\"1\" class=\"dataframe\">\n",
              "  <thead>\n",
              "    <tr style=\"text-align: right;\">\n",
              "      <th></th>\n",
              "      <th>cancel</th>\n",
              "      <th>meal</th>\n",
              "      <th>country</th>\n",
              "      <th>previous_cancellations</th>\n",
              "      <th>previous_bookings_not_canceled</th>\n",
              "      <th>reserved_room_type</th>\n",
              "      <th>assigned_room_type</th>\n",
              "      <th>deposit_type</th>\n",
              "      <th>customer_type</th>\n",
              "      <th>hotel</th>\n",
              "    </tr>\n",
              "  </thead>\n",
              "  <tbody>\n",
              "    <tr>\n",
              "      <th>2</th>\n",
              "      <td>0</td>\n",
              "      <td>0</td>\n",
              "      <td>55</td>\n",
              "      <td>0</td>\n",
              "      <td>0</td>\n",
              "      <td>0</td>\n",
              "      <td>2</td>\n",
              "      <td>0</td>\n",
              "      <td>2</td>\n",
              "      <td>0</td>\n",
              "    </tr>\n",
              "    <tr>\n",
              "      <th>3</th>\n",
              "      <td>0</td>\n",
              "      <td>0</td>\n",
              "      <td>55</td>\n",
              "      <td>0</td>\n",
              "      <td>0</td>\n",
              "      <td>0</td>\n",
              "      <td>0</td>\n",
              "      <td>0</td>\n",
              "      <td>2</td>\n",
              "      <td>0</td>\n",
              "    </tr>\n",
              "    <tr>\n",
              "      <th>4</th>\n",
              "      <td>0</td>\n",
              "      <td>0</td>\n",
              "      <td>55</td>\n",
              "      <td>0</td>\n",
              "      <td>0</td>\n",
              "      <td>0</td>\n",
              "      <td>0</td>\n",
              "      <td>0</td>\n",
              "      <td>2</td>\n",
              "      <td>0</td>\n",
              "    </tr>\n",
              "    <tr>\n",
              "      <th>5</th>\n",
              "      <td>0</td>\n",
              "      <td>0</td>\n",
              "      <td>55</td>\n",
              "      <td>0</td>\n",
              "      <td>0</td>\n",
              "      <td>0</td>\n",
              "      <td>0</td>\n",
              "      <td>0</td>\n",
              "      <td>2</td>\n",
              "      <td>0</td>\n",
              "    </tr>\n",
              "    <tr>\n",
              "      <th>6</th>\n",
              "      <td>0</td>\n",
              "      <td>0</td>\n",
              "      <td>131</td>\n",
              "      <td>0</td>\n",
              "      <td>0</td>\n",
              "      <td>2</td>\n",
              "      <td>2</td>\n",
              "      <td>0</td>\n",
              "      <td>2</td>\n",
              "      <td>0</td>\n",
              "    </tr>\n",
              "    <tr>\n",
              "      <th>...</th>\n",
              "      <td>...</td>\n",
              "      <td>...</td>\n",
              "      <td>...</td>\n",
              "      <td>...</td>\n",
              "      <td>...</td>\n",
              "      <td>...</td>\n",
              "      <td>...</td>\n",
              "      <td>...</td>\n",
              "      <td>...</td>\n",
              "      <td>...</td>\n",
              "    </tr>\n",
              "    <tr>\n",
              "      <th>119385</th>\n",
              "      <td>0</td>\n",
              "      <td>0</td>\n",
              "      <td>14</td>\n",
              "      <td>0</td>\n",
              "      <td>0</td>\n",
              "      <td>0</td>\n",
              "      <td>0</td>\n",
              "      <td>0</td>\n",
              "      <td>2</td>\n",
              "      <td>1</td>\n",
              "    </tr>\n",
              "    <tr>\n",
              "      <th>119386</th>\n",
              "      <td>0</td>\n",
              "      <td>0</td>\n",
              "      <td>52</td>\n",
              "      <td>0</td>\n",
              "      <td>0</td>\n",
              "      <td>4</td>\n",
              "      <td>4</td>\n",
              "      <td>0</td>\n",
              "      <td>2</td>\n",
              "      <td>1</td>\n",
              "    </tr>\n",
              "    <tr>\n",
              "      <th>119387</th>\n",
              "      <td>0</td>\n",
              "      <td>0</td>\n",
              "      <td>41</td>\n",
              "      <td>0</td>\n",
              "      <td>0</td>\n",
              "      <td>3</td>\n",
              "      <td>3</td>\n",
              "      <td>0</td>\n",
              "      <td>2</td>\n",
              "      <td>1</td>\n",
              "    </tr>\n",
              "    <tr>\n",
              "      <th>119388</th>\n",
              "      <td>0</td>\n",
              "      <td>0</td>\n",
              "      <td>55</td>\n",
              "      <td>0</td>\n",
              "      <td>0</td>\n",
              "      <td>0</td>\n",
              "      <td>0</td>\n",
              "      <td>0</td>\n",
              "      <td>2</td>\n",
              "      <td>1</td>\n",
              "    </tr>\n",
              "    <tr>\n",
              "      <th>119389</th>\n",
              "      <td>0</td>\n",
              "      <td>2</td>\n",
              "      <td>41</td>\n",
              "      <td>0</td>\n",
              "      <td>0</td>\n",
              "      <td>0</td>\n",
              "      <td>0</td>\n",
              "      <td>0</td>\n",
              "      <td>2</td>\n",
              "      <td>1</td>\n",
              "    </tr>\n",
              "  </tbody>\n",
              "</table>\n",
              "<p>110746 rows × 10 columns</p>\n",
              "</div>\n",
              "      <button class=\"colab-df-convert\" onclick=\"convertToInteractive('df-8eea23f0-b00a-4e88-8cfa-a6c32c35e2af')\"\n",
              "              title=\"Convert this dataframe to an interactive table.\"\n",
              "              style=\"display:none;\">\n",
              "        \n",
              "  <svg xmlns=\"http://www.w3.org/2000/svg\" height=\"24px\"viewBox=\"0 0 24 24\"\n",
              "       width=\"24px\">\n",
              "    <path d=\"M0 0h24v24H0V0z\" fill=\"none\"/>\n",
              "    <path d=\"M18.56 5.44l.94 2.06.94-2.06 2.06-.94-2.06-.94-.94-2.06-.94 2.06-2.06.94zm-11 1L8.5 8.5l.94-2.06 2.06-.94-2.06-.94L8.5 2.5l-.94 2.06-2.06.94zm10 10l.94 2.06.94-2.06 2.06-.94-2.06-.94-.94-2.06-.94 2.06-2.06.94z\"/><path d=\"M17.41 7.96l-1.37-1.37c-.4-.4-.92-.59-1.43-.59-.52 0-1.04.2-1.43.59L10.3 9.45l-7.72 7.72c-.78.78-.78 2.05 0 2.83L4 21.41c.39.39.9.59 1.41.59.51 0 1.02-.2 1.41-.59l7.78-7.78 2.81-2.81c.8-.78.8-2.07 0-2.86zM5.41 20L4 18.59l7.72-7.72 1.47 1.35L5.41 20z\"/>\n",
              "  </svg>\n",
              "      </button>\n",
              "      \n",
              "  <style>\n",
              "    .colab-df-container {\n",
              "      display:flex;\n",
              "      flex-wrap:wrap;\n",
              "      gap: 12px;\n",
              "    }\n",
              "\n",
              "    .colab-df-convert {\n",
              "      background-color: #E8F0FE;\n",
              "      border: none;\n",
              "      border-radius: 50%;\n",
              "      cursor: pointer;\n",
              "      display: none;\n",
              "      fill: #1967D2;\n",
              "      height: 32px;\n",
              "      padding: 0 0 0 0;\n",
              "      width: 32px;\n",
              "    }\n",
              "\n",
              "    .colab-df-convert:hover {\n",
              "      background-color: #E2EBFA;\n",
              "      box-shadow: 0px 1px 2px rgba(60, 64, 67, 0.3), 0px 1px 3px 1px rgba(60, 64, 67, 0.15);\n",
              "      fill: #174EA6;\n",
              "    }\n",
              "\n",
              "    [theme=dark] .colab-df-convert {\n",
              "      background-color: #3B4455;\n",
              "      fill: #D2E3FC;\n",
              "    }\n",
              "\n",
              "    [theme=dark] .colab-df-convert:hover {\n",
              "      background-color: #434B5C;\n",
              "      box-shadow: 0px 1px 3px 1px rgba(0, 0, 0, 0.15);\n",
              "      filter: drop-shadow(0px 1px 2px rgba(0, 0, 0, 0.3));\n",
              "      fill: #FFFFFF;\n",
              "    }\n",
              "  </style>\n",
              "\n",
              "      <script>\n",
              "        const buttonEl =\n",
              "          document.querySelector('#df-8eea23f0-b00a-4e88-8cfa-a6c32c35e2af button.colab-df-convert');\n",
              "        buttonEl.style.display =\n",
              "          google.colab.kernel.accessAllowed ? 'block' : 'none';\n",
              "\n",
              "        async function convertToInteractive(key) {\n",
              "          const element = document.querySelector('#df-8eea23f0-b00a-4e88-8cfa-a6c32c35e2af');\n",
              "          const dataTable =\n",
              "            await google.colab.kernel.invokeFunction('convertToInteractive',\n",
              "                                                     [key], {});\n",
              "          if (!dataTable) return;\n",
              "\n",
              "          const docLinkHtml = 'Like what you see? Visit the ' +\n",
              "            '<a target=\"_blank\" href=https://colab.research.google.com/notebooks/data_table.ipynb>data table notebook</a>'\n",
              "            + ' to learn more about interactive tables.';\n",
              "          element.innerHTML = '';\n",
              "          dataTable['output_type'] = 'display_data';\n",
              "          await google.colab.output.renderOutput(dataTable, element);\n",
              "          const docLink = document.createElement('div');\n",
              "          docLink.innerHTML = docLinkHtml;\n",
              "          element.appendChild(docLink);\n",
              "        }\n",
              "      </script>\n",
              "    </div>\n",
              "  </div>\n",
              "  "
            ]
          },
          "metadata": {},
          "execution_count": 273
        }
      ],
      "source": [
        "datachi=data1.drop([\"adr\",\"harikerja\",\"adults\",\"children\",\"tahunkedatangan\",\"bulankedatangan\",\"booking_changes\"],axis=1)\n",
        "datachi"
      ]
    },
    {
      "cell_type": "code",
      "execution_count": null,
      "metadata": {
        "id": "AxG7BQiAETkU",
        "colab": {
          "base_uri": "https://localhost:8080/"
        },
        "outputId": "faec38ff-61ce-40b6-faf8-e6c3b9e6446b"
      },
      "outputs": [
        {
          "output_type": "stream",
          "name": "stdout",
          "text": [
            "                 Selected_columns     Score_chi2\n",
            "1                         country  185683.537904\n",
            "6                    deposit_type   21827.353950\n",
            "5              assigned_room_type   10782.667841\n",
            "2          previous_cancellations    9141.525977\n",
            "3  previous_bookings_not_canceled    1969.264765\n",
            "4              reserved_room_type    1798.833312\n",
            "8                           hotel     749.803139\n",
            "7                   customer_type      75.503963\n",
            "0                            meal      16.566382\n"
          ]
        }
      ],
      "source": [
        "#Feature Selection Variabel Kategori\n",
        "from sklearn.feature_selection import SelectKBest, f_classif, chi2\n",
        "X = datachi.iloc[:,1:10]\n",
        "X = pd.get_dummies(X)\n",
        "y = datachi.iloc[:,0]\n",
        "y = pd.get_dummies(y)\n",
        "\n",
        "#feature selection using chi2\n",
        "bestfeatures = SelectKBest(score_func=chi2, k=5)\n",
        "fit = bestfeatures.fit(X,y)\n",
        "#create df for scores\n",
        "dfscores = pd.DataFrame(fit.scores_)\n",
        "#create df for column names\n",
        "dfcolumns = pd.DataFrame(X.columns)\n",
        "\n",
        "#concat two dataframes for better visualization \n",
        "featureScores = pd.concat([dfcolumns,dfscores],axis=1)\n",
        "#naming the dataframe columns\n",
        "featureScores.columns = ['Selected_columns','Score_chi2'] \n",
        "#print 5 best features\n",
        "print(featureScores.nlargest(10,'Score_chi2'))"
      ]
    },
    {
      "cell_type": "markdown",
      "metadata": {
        "id": "Eq46y0zszCVF"
      },
      "source": [
        "##CLASSIFICATION\n"
      ]
    },
    {
      "cell_type": "code",
      "execution_count": null,
      "metadata": {
        "id": "sFZYEUsC9ac2"
      },
      "outputs": [],
      "source": [
        "from sklearn import svm\n",
        "from sklearn.metrics import roc_auc_score"
      ]
    },
    {
      "cell_type": "code",
      "execution_count": null,
      "metadata": {
        "id": "CRtIb8w5Y7Mu"
      },
      "outputs": [],
      "source": [
        "from sklearn.naive_bayes import GaussianNB\n",
        "nb=GaussianNB()"
      ]
    },
    {
      "cell_type": "code",
      "execution_count": null,
      "metadata": {
        "id": "MyXZSJjmyGhC",
        "colab": {
          "base_uri": "https://localhost:8080/",
          "height": 488
        },
        "outputId": "91816e7a-833a-4c11-fe87-a448eaa69cba"
      },
      "outputs": [
        {
          "output_type": "execute_result",
          "data": {
            "text/plain": [
              "        harikerja  tahunkedatangan  bulankedatangan  adults  children  meal  \\\n",
              "2               7             2015                7       1       0.0     0   \n",
              "3              13             2015                7       1       0.0     0   \n",
              "4              14             2015                7       2       0.0     0   \n",
              "5              14             2015                7       2       0.0     0   \n",
              "6               0             2015                7       2       0.0     0   \n",
              "...           ...              ...              ...     ...       ...   ...   \n",
              "119385         23             2017                8       2       0.0     0   \n",
              "119386        102             2017                8       3       0.0     0   \n",
              "119387         34             2017                8       2       0.0     0   \n",
              "119388        109             2017                8       2       0.0     0   \n",
              "119389        205             2017                8       2       0.0     2   \n",
              "\n",
              "        country  previous_cancellations  previous_bookings_not_canceled  \\\n",
              "2            55                       0                               0   \n",
              "3            55                       0                               0   \n",
              "4            55                       0                               0   \n",
              "5            55                       0                               0   \n",
              "6           131                       0                               0   \n",
              "...         ...                     ...                             ...   \n",
              "119385       14                       0                               0   \n",
              "119386       52                       0                               0   \n",
              "119387       41                       0                               0   \n",
              "119388       55                       0                               0   \n",
              "119389       41                       0                               0   \n",
              "\n",
              "        reserved_room_type  assigned_room_type  booking_changes  deposit_type  \\\n",
              "2                        0                   2                0             0   \n",
              "3                        0                   0                0             0   \n",
              "4                        0                   0                0             0   \n",
              "5                        0                   0                0             0   \n",
              "6                        2                   2                0             0   \n",
              "...                    ...                 ...              ...           ...   \n",
              "119385                   0                   0                0             0   \n",
              "119386                   4                   4                0             0   \n",
              "119387                   3                   3                0             0   \n",
              "119388                   0                   0                0             0   \n",
              "119389                   0                   0                0             0   \n",
              "\n",
              "        customer_type     adr  hotel  \n",
              "2                   2   75.00      0  \n",
              "3                   2   75.00      0  \n",
              "4                   2   98.00      0  \n",
              "5                   2   98.00      0  \n",
              "6                   2  107.00      0  \n",
              "...               ...     ...    ...  \n",
              "119385              2   96.14      1  \n",
              "119386              2  225.43      1  \n",
              "119387              2  157.71      1  \n",
              "119388              2  104.40      1  \n",
              "119389              2  151.20      1  \n",
              "\n",
              "[110746 rows x 16 columns]"
            ],
            "text/html": [
              "\n",
              "  <div id=\"df-c20174c8-ec7b-4e45-ab67-02f8ffbd793c\">\n",
              "    <div class=\"colab-df-container\">\n",
              "      <div>\n",
              "<style scoped>\n",
              "    .dataframe tbody tr th:only-of-type {\n",
              "        vertical-align: middle;\n",
              "    }\n",
              "\n",
              "    .dataframe tbody tr th {\n",
              "        vertical-align: top;\n",
              "    }\n",
              "\n",
              "    .dataframe thead th {\n",
              "        text-align: right;\n",
              "    }\n",
              "</style>\n",
              "<table border=\"1\" class=\"dataframe\">\n",
              "  <thead>\n",
              "    <tr style=\"text-align: right;\">\n",
              "      <th></th>\n",
              "      <th>harikerja</th>\n",
              "      <th>tahunkedatangan</th>\n",
              "      <th>bulankedatangan</th>\n",
              "      <th>adults</th>\n",
              "      <th>children</th>\n",
              "      <th>meal</th>\n",
              "      <th>country</th>\n",
              "      <th>previous_cancellations</th>\n",
              "      <th>previous_bookings_not_canceled</th>\n",
              "      <th>reserved_room_type</th>\n",
              "      <th>assigned_room_type</th>\n",
              "      <th>booking_changes</th>\n",
              "      <th>deposit_type</th>\n",
              "      <th>customer_type</th>\n",
              "      <th>adr</th>\n",
              "      <th>hotel</th>\n",
              "    </tr>\n",
              "  </thead>\n",
              "  <tbody>\n",
              "    <tr>\n",
              "      <th>2</th>\n",
              "      <td>7</td>\n",
              "      <td>2015</td>\n",
              "      <td>7</td>\n",
              "      <td>1</td>\n",
              "      <td>0.0</td>\n",
              "      <td>0</td>\n",
              "      <td>55</td>\n",
              "      <td>0</td>\n",
              "      <td>0</td>\n",
              "      <td>0</td>\n",
              "      <td>2</td>\n",
              "      <td>0</td>\n",
              "      <td>0</td>\n",
              "      <td>2</td>\n",
              "      <td>75.00</td>\n",
              "      <td>0</td>\n",
              "    </tr>\n",
              "    <tr>\n",
              "      <th>3</th>\n",
              "      <td>13</td>\n",
              "      <td>2015</td>\n",
              "      <td>7</td>\n",
              "      <td>1</td>\n",
              "      <td>0.0</td>\n",
              "      <td>0</td>\n",
              "      <td>55</td>\n",
              "      <td>0</td>\n",
              "      <td>0</td>\n",
              "      <td>0</td>\n",
              "      <td>0</td>\n",
              "      <td>0</td>\n",
              "      <td>0</td>\n",
              "      <td>2</td>\n",
              "      <td>75.00</td>\n",
              "      <td>0</td>\n",
              "    </tr>\n",
              "    <tr>\n",
              "      <th>4</th>\n",
              "      <td>14</td>\n",
              "      <td>2015</td>\n",
              "      <td>7</td>\n",
              "      <td>2</td>\n",
              "      <td>0.0</td>\n",
              "      <td>0</td>\n",
              "      <td>55</td>\n",
              "      <td>0</td>\n",
              "      <td>0</td>\n",
              "      <td>0</td>\n",
              "      <td>0</td>\n",
              "      <td>0</td>\n",
              "      <td>0</td>\n",
              "      <td>2</td>\n",
              "      <td>98.00</td>\n",
              "      <td>0</td>\n",
              "    </tr>\n",
              "    <tr>\n",
              "      <th>5</th>\n",
              "      <td>14</td>\n",
              "      <td>2015</td>\n",
              "      <td>7</td>\n",
              "      <td>2</td>\n",
              "      <td>0.0</td>\n",
              "      <td>0</td>\n",
              "      <td>55</td>\n",
              "      <td>0</td>\n",
              "      <td>0</td>\n",
              "      <td>0</td>\n",
              "      <td>0</td>\n",
              "      <td>0</td>\n",
              "      <td>0</td>\n",
              "      <td>2</td>\n",
              "      <td>98.00</td>\n",
              "      <td>0</td>\n",
              "    </tr>\n",
              "    <tr>\n",
              "      <th>6</th>\n",
              "      <td>0</td>\n",
              "      <td>2015</td>\n",
              "      <td>7</td>\n",
              "      <td>2</td>\n",
              "      <td>0.0</td>\n",
              "      <td>0</td>\n",
              "      <td>131</td>\n",
              "      <td>0</td>\n",
              "      <td>0</td>\n",
              "      <td>2</td>\n",
              "      <td>2</td>\n",
              "      <td>0</td>\n",
              "      <td>0</td>\n",
              "      <td>2</td>\n",
              "      <td>107.00</td>\n",
              "      <td>0</td>\n",
              "    </tr>\n",
              "    <tr>\n",
              "      <th>...</th>\n",
              "      <td>...</td>\n",
              "      <td>...</td>\n",
              "      <td>...</td>\n",
              "      <td>...</td>\n",
              "      <td>...</td>\n",
              "      <td>...</td>\n",
              "      <td>...</td>\n",
              "      <td>...</td>\n",
              "      <td>...</td>\n",
              "      <td>...</td>\n",
              "      <td>...</td>\n",
              "      <td>...</td>\n",
              "      <td>...</td>\n",
              "      <td>...</td>\n",
              "      <td>...</td>\n",
              "      <td>...</td>\n",
              "    </tr>\n",
              "    <tr>\n",
              "      <th>119385</th>\n",
              "      <td>23</td>\n",
              "      <td>2017</td>\n",
              "      <td>8</td>\n",
              "      <td>2</td>\n",
              "      <td>0.0</td>\n",
              "      <td>0</td>\n",
              "      <td>14</td>\n",
              "      <td>0</td>\n",
              "      <td>0</td>\n",
              "      <td>0</td>\n",
              "      <td>0</td>\n",
              "      <td>0</td>\n",
              "      <td>0</td>\n",
              "      <td>2</td>\n",
              "      <td>96.14</td>\n",
              "      <td>1</td>\n",
              "    </tr>\n",
              "    <tr>\n",
              "      <th>119386</th>\n",
              "      <td>102</td>\n",
              "      <td>2017</td>\n",
              "      <td>8</td>\n",
              "      <td>3</td>\n",
              "      <td>0.0</td>\n",
              "      <td>0</td>\n",
              "      <td>52</td>\n",
              "      <td>0</td>\n",
              "      <td>0</td>\n",
              "      <td>4</td>\n",
              "      <td>4</td>\n",
              "      <td>0</td>\n",
              "      <td>0</td>\n",
              "      <td>2</td>\n",
              "      <td>225.43</td>\n",
              "      <td>1</td>\n",
              "    </tr>\n",
              "    <tr>\n",
              "      <th>119387</th>\n",
              "      <td>34</td>\n",
              "      <td>2017</td>\n",
              "      <td>8</td>\n",
              "      <td>2</td>\n",
              "      <td>0.0</td>\n",
              "      <td>0</td>\n",
              "      <td>41</td>\n",
              "      <td>0</td>\n",
              "      <td>0</td>\n",
              "      <td>3</td>\n",
              "      <td>3</td>\n",
              "      <td>0</td>\n",
              "      <td>0</td>\n",
              "      <td>2</td>\n",
              "      <td>157.71</td>\n",
              "      <td>1</td>\n",
              "    </tr>\n",
              "    <tr>\n",
              "      <th>119388</th>\n",
              "      <td>109</td>\n",
              "      <td>2017</td>\n",
              "      <td>8</td>\n",
              "      <td>2</td>\n",
              "      <td>0.0</td>\n",
              "      <td>0</td>\n",
              "      <td>55</td>\n",
              "      <td>0</td>\n",
              "      <td>0</td>\n",
              "      <td>0</td>\n",
              "      <td>0</td>\n",
              "      <td>0</td>\n",
              "      <td>0</td>\n",
              "      <td>2</td>\n",
              "      <td>104.40</td>\n",
              "      <td>1</td>\n",
              "    </tr>\n",
              "    <tr>\n",
              "      <th>119389</th>\n",
              "      <td>205</td>\n",
              "      <td>2017</td>\n",
              "      <td>8</td>\n",
              "      <td>2</td>\n",
              "      <td>0.0</td>\n",
              "      <td>2</td>\n",
              "      <td>41</td>\n",
              "      <td>0</td>\n",
              "      <td>0</td>\n",
              "      <td>0</td>\n",
              "      <td>0</td>\n",
              "      <td>0</td>\n",
              "      <td>0</td>\n",
              "      <td>2</td>\n",
              "      <td>151.20</td>\n",
              "      <td>1</td>\n",
              "    </tr>\n",
              "  </tbody>\n",
              "</table>\n",
              "<p>110746 rows × 16 columns</p>\n",
              "</div>\n",
              "      <button class=\"colab-df-convert\" onclick=\"convertToInteractive('df-c20174c8-ec7b-4e45-ab67-02f8ffbd793c')\"\n",
              "              title=\"Convert this dataframe to an interactive table.\"\n",
              "              style=\"display:none;\">\n",
              "        \n",
              "  <svg xmlns=\"http://www.w3.org/2000/svg\" height=\"24px\"viewBox=\"0 0 24 24\"\n",
              "       width=\"24px\">\n",
              "    <path d=\"M0 0h24v24H0V0z\" fill=\"none\"/>\n",
              "    <path d=\"M18.56 5.44l.94 2.06.94-2.06 2.06-.94-2.06-.94-.94-2.06-.94 2.06-2.06.94zm-11 1L8.5 8.5l.94-2.06 2.06-.94-2.06-.94L8.5 2.5l-.94 2.06-2.06.94zm10 10l.94 2.06.94-2.06 2.06-.94-2.06-.94-.94-2.06-.94 2.06-2.06.94z\"/><path d=\"M17.41 7.96l-1.37-1.37c-.4-.4-.92-.59-1.43-.59-.52 0-1.04.2-1.43.59L10.3 9.45l-7.72 7.72c-.78.78-.78 2.05 0 2.83L4 21.41c.39.39.9.59 1.41.59.51 0 1.02-.2 1.41-.59l7.78-7.78 2.81-2.81c.8-.78.8-2.07 0-2.86zM5.41 20L4 18.59l7.72-7.72 1.47 1.35L5.41 20z\"/>\n",
              "  </svg>\n",
              "      </button>\n",
              "      \n",
              "  <style>\n",
              "    .colab-df-container {\n",
              "      display:flex;\n",
              "      flex-wrap:wrap;\n",
              "      gap: 12px;\n",
              "    }\n",
              "\n",
              "    .colab-df-convert {\n",
              "      background-color: #E8F0FE;\n",
              "      border: none;\n",
              "      border-radius: 50%;\n",
              "      cursor: pointer;\n",
              "      display: none;\n",
              "      fill: #1967D2;\n",
              "      height: 32px;\n",
              "      padding: 0 0 0 0;\n",
              "      width: 32px;\n",
              "    }\n",
              "\n",
              "    .colab-df-convert:hover {\n",
              "      background-color: #E2EBFA;\n",
              "      box-shadow: 0px 1px 2px rgba(60, 64, 67, 0.3), 0px 1px 3px 1px rgba(60, 64, 67, 0.15);\n",
              "      fill: #174EA6;\n",
              "    }\n",
              "\n",
              "    [theme=dark] .colab-df-convert {\n",
              "      background-color: #3B4455;\n",
              "      fill: #D2E3FC;\n",
              "    }\n",
              "\n",
              "    [theme=dark] .colab-df-convert:hover {\n",
              "      background-color: #434B5C;\n",
              "      box-shadow: 0px 1px 3px 1px rgba(0, 0, 0, 0.15);\n",
              "      filter: drop-shadow(0px 1px 2px rgba(0, 0, 0, 0.3));\n",
              "      fill: #FFFFFF;\n",
              "    }\n",
              "  </style>\n",
              "\n",
              "      <script>\n",
              "        const buttonEl =\n",
              "          document.querySelector('#df-c20174c8-ec7b-4e45-ab67-02f8ffbd793c button.colab-df-convert');\n",
              "        buttonEl.style.display =\n",
              "          google.colab.kernel.accessAllowed ? 'block' : 'none';\n",
              "\n",
              "        async function convertToInteractive(key) {\n",
              "          const element = document.querySelector('#df-c20174c8-ec7b-4e45-ab67-02f8ffbd793c');\n",
              "          const dataTable =\n",
              "            await google.colab.kernel.invokeFunction('convertToInteractive',\n",
              "                                                     [key], {});\n",
              "          if (!dataTable) return;\n",
              "\n",
              "          const docLinkHtml = 'Like what you see? Visit the ' +\n",
              "            '<a target=\"_blank\" href=https://colab.research.google.com/notebooks/data_table.ipynb>data table notebook</a>'\n",
              "            + ' to learn more about interactive tables.';\n",
              "          element.innerHTML = '';\n",
              "          dataTable['output_type'] = 'display_data';\n",
              "          await google.colab.output.renderOutput(dataTable, element);\n",
              "          const docLink = document.createElement('div');\n",
              "          docLink.innerHTML = docLinkHtml;\n",
              "          element.appendChild(docLink);\n",
              "        }\n",
              "      </script>\n",
              "    </div>\n",
              "  </div>\n",
              "  "
            ]
          },
          "metadata": {},
          "execution_count": 321
        }
      ],
      "source": [
        "y = data1[\"cancel\"]\n",
        "x = data1.drop([\"cancel\"], axis=1)\n",
        "x"
      ]
    },
    {
      "cell_type": "code",
      "execution_count": null,
      "metadata": {
        "id": "6kFEVQbcKSF6",
        "colab": {
          "base_uri": "https://localhost:8080/"
        },
        "outputId": "a5e61962-4881-40be-9a85-992fb91ee748"
      },
      "outputs": [
        {
          "output_type": "stream",
          "name": "stdout",
          "text": [
            "Looking in indexes: https://pypi.org/simple, https://us-python.pkg.dev/colab-wheels/public/simple/\n",
            "Requirement already satisfied: fsspec in /usr/local/lib/python3.7/dist-packages (2022.5.0)\n"
          ]
        }
      ],
      "source": [
        "pip install fsspec"
      ]
    },
    {
      "cell_type": "code",
      "execution_count": null,
      "metadata": {
        "id": "YAglybVlEaqz",
        "colab": {
          "base_uri": "https://localhost:8080/"
        },
        "outputId": "f1afd366-04c1-4ca5-f676-62a1fa28cf8f"
      },
      "outputs": [
        {
          "output_type": "stream",
          "name": "stdout",
          "text": [
            "FOLD  1\n",
            "TRAIN: [     0      1      2 ... 110743 110744 110745] TEST: [     4      5      8 ... 110733 110734 110739]\n",
            "FOLD  2\n",
            "TRAIN: [     0      1      3 ... 110743 110744 110745] TEST: [     2     13     22 ... 110704 110725 110741]\n",
            "FOLD  3\n",
            "TRAIN: [     1      2      4 ... 110743 110744 110745] TEST: [     0      3      9 ... 110732 110736 110742]\n",
            "FOLD  4\n",
            "TRAIN: [     0      2      3 ... 110741 110742 110745] TEST: [     1      6      7 ... 110738 110743 110744]\n",
            "FOLD  5\n",
            "TRAIN: [     0      1      2 ... 110742 110743 110744] TEST: [    11     12     15 ... 110737 110740 110745]\n"
          ]
        }
      ],
      "source": [
        "import sklearn\n",
        "from sklearn.model_selection import KFold\n",
        "skf = sklearn.model_selection.KFold(n_splits=5,shuffle=True)\n",
        "fold_no = 1\n",
        "for train_index, test_index in skf.split(x, y):\n",
        "    print(\"FOLD \",fold_no)\n",
        "    print(\"TRAIN:\", train_index, \"TEST:\", test_index)\n",
        "    X_train = x.iloc[train_index, :]\n",
        "    y_train = y.iloc[train_index]\n",
        "    X_test = x.iloc[test_index, :]\n",
        "    y_test = y.iloc[test_index]\n",
        "    X_train.to_csv('D://DATMIN EAS/kfold/' + 'X_train_fold_' + str(fold_no) + '.csv',index=False)\n",
        "    X_test.to_csv('D://DATMIN EAS/kfold/' + 'X_test_fold_' + str(fold_no) + '.csv',index=False)\n",
        "    y_train.to_csv('D://DATMIN EAS/kfold/' + 'y_train_fold_' + str(fold_no) + '.csv',index=False)\n",
        "    y_test.to_csv('D://DATMIN EAS/kfold/' + 'y_test_fold_' + str(fold_no) + '.csv',index=False)\n",
        "    fold_no += 1"
      ]
    },
    {
      "cell_type": "code",
      "execution_count": null,
      "metadata": {
        "id": "QjcGdHFGKb_G"
      },
      "outputs": [],
      "source": [
        "#Data CV Kfold\n",
        "#Fold1\n",
        "xtrainfold1 = pd.read_csv('D://DATMIN EAS/kfold/X_train_fold_1.csv')\n",
        "xtestfold1 = pd.read_csv('D://DATMIN EAS/kfold/X_test_fold_1.csv')\n",
        "ytrainfold1 = pd.read_csv('D://DATMIN EAS/kfold/y_train_fold_1.csv')\n",
        "ytestfold1 = pd.read_csv('D://DATMIN EAS/kfold/y_test_fold_1.csv')\n",
        "\n",
        "#Fold2\n",
        "xtrainfold2 = pd.read_csv('D://DATMIN EAS/kfold/X_train_fold_2.csv')\n",
        "xtestfold2 = pd.read_csv('D://DATMIN EAS/kfold/X_test_fold_2.csv')\n",
        "ytrainfold2 = pd.read_csv('D://DATMIN EAS/kfold/y_train_fold_2.csv')\n",
        "ytestfold2 = pd.read_csv('D://DATMIN EAS/kfold/y_test_fold_2.csv')\n",
        "\n",
        "#Fold3\n",
        "xtrainfold3 = pd.read_csv('D://DATMIN EAS/kfold/X_train_fold_3.csv')\n",
        "xtestfold3 = pd.read_csv('D://DATMIN EAS/kfold/X_test_fold_3.csv')\n",
        "ytrainfold3 = pd.read_csv('D://DATMIN EAS/kfold/y_train_fold_3.csv')\n",
        "ytestfold3 = pd.read_csv('D://DATMIN EAS/kfold/y_test_fold_3.csv')\n",
        "\n",
        "#Fold4\n",
        "xtrainfold4 = pd.read_csv('D://DATMIN EAS/kfold/X_train_fold_4.csv')\n",
        "xtestfold4 = pd.read_csv('D://DATMIN EAS/kfold/X_test_fold_4.csv')\n",
        "ytrainfold4 = pd.read_csv('D://DATMIN EAS/kfold/y_train_fold_4.csv')\n",
        "ytestfold4 = pd.read_csv('D://DATMIN EAS/kfold/y_test_fold_4.csv')\n",
        "\n",
        "#Fold5\n",
        "xtrainfold5 = pd.read_csv('D://DATMIN EAS/kfold/X_train_fold_5.csv')\n",
        "xtestfold5 = pd.read_csv('D://DATMIN EAS/kfold/X_test_fold_5.csv')\n",
        "ytrainfold5 = pd.read_csv('D://DATMIN EAS/kfold/y_train_fold_5.csv')\n",
        "ytestfold5 = pd.read_csv('D://DATMIN EAS/kfold/y_test_fold_5.csv')\n"
      ]
    },
    {
      "cell_type": "code",
      "execution_count": null,
      "metadata": {
        "id": "RBpkF__iKupv",
        "colab": {
          "base_uri": "https://localhost:8080/"
        },
        "outputId": "629e39c8-709f-4f24-8c45-7b79f7bca836"
      },
      "outputs": [
        {
          "output_type": "stream",
          "name": "stdout",
          "text": [
            "FOLD  1\n",
            "TRAIN: [68881  6712 28051 ... 47023 51510 14481] TEST: [32543 42134 57230 ... 74139  2024 61885]\n",
            "FOLD  2\n",
            "TRAIN: [ 16105  92882  12304 ...   7675  14314 107387] TEST: [ 69025  66373  72027 ...  41587  68205 105465]\n",
            "FOLD  3\n",
            "TRAIN: [ 58255  81599  80955 ...  78717  76296 106552] TEST: [ 86812  65018  12119 ... 104243   9199  16985]\n",
            "FOLD  4\n",
            "TRAIN: [88630 19148  4953 ...   389 47828 95370] TEST: [ 71542  33919  96187 ... 100415  91120  56791]\n",
            "FOLD  5\n",
            "TRAIN: [94097 11098  2674 ... 30535 63792 90555] TEST: [ 63570  75508  63544 ...  45689  46921 109576]\n"
          ]
        }
      ],
      "source": [
        "from sklearn.model_selection import ShuffleSplit\n",
        "ssplit=ShuffleSplit(n_splits=5,test_size=0.30)\n",
        "fold_no = 1\n",
        "for train_index, test_index in ssplit.split(x, y):\n",
        "    print(\"FOLD \",fold_no)\n",
        "    print(\"TRAIN:\", train_index, \"TEST:\", test_index)\n",
        "    X_train = x.iloc[train_index, :]\n",
        "    y_train = y.iloc[train_index]\n",
        "    X_test = x.iloc[test_index, :]\n",
        "    y_test = y.iloc[test_index]\n",
        "    X_train.to_csv('D://DATMIN EAS/rholdout/' + 'X_train_fold_' + str(fold_no) + '.csv',index=False)\n",
        "    X_test.to_csv('D://DATMIN EAS/rholdout/' + 'X_test_fold_' + str(fold_no) + '.csv',index=False)\n",
        "    y_train.to_csv('D://DATMIN EAS/rholdout/' + 'y_train_fold_' + str(fold_no) + '.csv',index=False)\n",
        "    y_test.to_csv('D://DATMIN EAS/rholdout/' + 'y_test_fold_' + str(fold_no) + '.csv',index=False)\n",
        "    fold_no += 1\n",
        "    "
      ]
    },
    {
      "cell_type": "code",
      "execution_count": null,
      "metadata": {
        "id": "co89bc3_LP-M"
      },
      "outputs": [],
      "source": [
        "#Data repeated holdout\n",
        "#Ke1\n",
        "xtrainke1 = pd.read_csv('D://DATMIN EAS/rholdout/X_train_fold_1.csv')\n",
        "xtestke1 = pd.read_csv('D://DATMIN EAS/rholdout/X_test_fold_1.csv')\n",
        "ytrainke1 = pd.read_csv('D://DATMIN EAS/rholdout/y_train_fold_1.csv')\n",
        "ytestke1 = pd.read_csv('D://DATMIN EAS/rholdout/y_test_fold_1.csv')\n",
        "\n",
        "#Ke2\n",
        "xtrainke2 = pd.read_csv('D://DATMIN EAS/rholdout/X_train_fold_2.csv')\n",
        "xtestke2 = pd.read_csv('D://DATMIN EAS/rholdout/X_test_fold_2.csv')\n",
        "ytrainke2 = pd.read_csv('D://DATMIN EAS/rholdout/y_train_fold_2.csv')\n",
        "ytestke2 = pd.read_csv('D://DATMIN EAS/rholdout/y_test_fold_2.csv')\n",
        "\n",
        "#Ke3\n",
        "xtrainke3 = pd.read_csv('D://DATMIN EAS/rholdout/X_train_fold_3.csv')\n",
        "xtestke3 = pd.read_csv('D://DATMIN EAS/rholdout/X_test_fold_3.csv')\n",
        "ytrainke3 = pd.read_csv('D://DATMIN EAS/rholdout/y_train_fold_3.csv')\n",
        "ytestke3 = pd.read_csv('D://DATMIN EAS/rholdout/y_test_fold_3.csv')\n",
        "\n",
        "#Ke4\n",
        "xtrainke4 = pd.read_csv('D://DATMIN EAS/rholdout/X_train_fold_4.csv')\n",
        "xtestke4 = pd.read_csv('D://DATMIN EAS/rholdout/X_test_fold_4.csv')\n",
        "ytrainke4 = pd.read_csv('D://DATMIN EAS/rholdout/y_train_fold_4.csv')\n",
        "ytestke4 = pd.read_csv('D://DATMIN EAS/rholdout/y_test_fold_4.csv')\n",
        "\n",
        "#Ke5\n",
        "xtrainke5 = pd.read_csv('D://DATMIN EAS/rholdout/X_train_fold_5.csv')\n",
        "xtestke5 = pd.read_csv('D://DATMIN EAS/rholdout/X_test_fold_5.csv')\n",
        "ytrainke5 = pd.read_csv('D://DATMIN EAS/rholdout/y_train_fold_5.csv')\n",
        "ytestke5 = pd.read_csv('D://DATMIN EAS/rholdout/y_test_fold_5.csv')\n",
        "\n"
      ]
    },
    {
      "cell_type": "code",
      "execution_count": null,
      "metadata": {
        "id": "fHFi0VvhLe3f",
        "colab": {
          "base_uri": "https://localhost:8080/"
        },
        "outputId": "69225973-66ab-442b-ec56-a76f165b42fb"
      },
      "outputs": [
        {
          "output_type": "stream",
          "name": "stdout",
          "text": [
            "(88596, 16)\n",
            "(22150, 16)\n"
          ]
        }
      ],
      "source": [
        "#Data Kfold\n",
        "from sklearn.feature_selection import VarianceThreshold\n",
        "selector = VarianceThreshold()\n",
        "xtrainfold1FS = selector.fit_transform(xtrainfold1)\n",
        "xtestfold1FS = selector.fit_transform(xtestfold1)\n",
        "print(xtrainfold1FS.shape)\n",
        "print(xtestfold1FS.shape)"
      ]
    },
    {
      "cell_type": "code",
      "execution_count": null,
      "metadata": {
        "id": "Te-a8VSuLj2Z",
        "colab": {
          "base_uri": "https://localhost:8080/"
        },
        "outputId": "61a62625-1cf7-4a93-f2e7-23b34c06c92a"
      },
      "outputs": [
        {
          "output_type": "stream",
          "name": "stdout",
          "text": [
            "(88597, 16)\n",
            "(22149, 16)\n"
          ]
        }
      ],
      "source": [
        "xtrainfold2FS = selector.fit_transform(xtrainfold2)\n",
        "xtestfold2FS = selector.fit_transform(xtestfold2)\n",
        "print(xtrainfold2FS.shape)\n",
        "print(xtestfold2FS.shape)"
      ]
    },
    {
      "cell_type": "code",
      "execution_count": null,
      "metadata": {
        "id": "MjQdleT8LnP8",
        "colab": {
          "base_uri": "https://localhost:8080/"
        },
        "outputId": "d362982c-2fe2-4e45-f8e1-9105b322ca7a"
      },
      "outputs": [
        {
          "output_type": "stream",
          "name": "stdout",
          "text": [
            "(88597, 16)\n",
            "(22149, 16)\n"
          ]
        }
      ],
      "source": [
        "xtrainfold3FS = selector.fit_transform(xtrainfold3)\n",
        "xtestfold3FS = selector.fit_transform(xtestfold3)\n",
        "print(xtrainfold3FS.shape)\n",
        "print(xtestfold3FS.shape)"
      ]
    },
    {
      "cell_type": "code",
      "execution_count": null,
      "metadata": {
        "id": "WU7zZohULy9W",
        "colab": {
          "base_uri": "https://localhost:8080/"
        },
        "outputId": "96da0997-a650-40c9-fb4e-f4cf3f041422"
      },
      "outputs": [
        {
          "output_type": "stream",
          "name": "stdout",
          "text": [
            "(88597, 16)\n",
            "(22149, 16)\n"
          ]
        }
      ],
      "source": [
        "xtrainfold4FS = selector.fit_transform(xtrainfold4)\n",
        "xtestfold4FS = selector.fit_transform(xtestfold4)\n",
        "print(xtrainfold4FS.shape)\n",
        "print(xtestfold4FS.shape)"
      ]
    },
    {
      "cell_type": "code",
      "execution_count": null,
      "metadata": {
        "id": "qWWfOL-LL08A",
        "colab": {
          "base_uri": "https://localhost:8080/"
        },
        "outputId": "5b60b027-c1a1-40f7-c68a-d0a8f4c41758"
      },
      "outputs": [
        {
          "output_type": "stream",
          "name": "stdout",
          "text": [
            "(88597, 16)\n",
            "(22149, 16)\n"
          ]
        }
      ],
      "source": [
        "xtrainfold5FS = selector.fit_transform(xtrainfold5)\n",
        "xtestfold5FS = selector.fit_transform(xtestfold5)\n",
        "print(xtrainfold5FS.shape)\n",
        "print(xtestfold5FS.shape)"
      ]
    },
    {
      "cell_type": "code",
      "execution_count": null,
      "metadata": {
        "id": "oSf8Qd0OfMf1",
        "colab": {
          "base_uri": "https://localhost:8080/"
        },
        "outputId": "ae98ccb3-a2ef-4734-b121-a849c7902416"
      },
      "outputs": [
        {
          "output_type": "stream",
          "name": "stdout",
          "text": [
            "(77522, 16)\n",
            "(33224, 16)\n"
          ]
        }
      ],
      "source": [
        "#Data Rholdout\n",
        "xtrainke1FS = selector.fit_transform(xtrainke1)\n",
        "xtestke1FS = selector.fit_transform(xtestke1)\n",
        "print(xtrainke1FS.shape)\n",
        "print(xtestke1FS.shape)"
      ]
    },
    {
      "cell_type": "code",
      "execution_count": null,
      "metadata": {
        "id": "MPkYFHn_fUzp",
        "colab": {
          "base_uri": "https://localhost:8080/"
        },
        "outputId": "32295bbe-f3ce-4a83-ecc4-3bf3ee6882c3"
      },
      "outputs": [
        {
          "output_type": "stream",
          "name": "stdout",
          "text": [
            "(77522, 16)\n",
            "(33224, 16)\n"
          ]
        }
      ],
      "source": [
        "xtrainke2FS = selector.fit_transform(xtrainke2)\n",
        "xtestke2FS = selector.fit_transform(xtestke2)\n",
        "print(xtrainke2FS.shape)\n",
        "print(xtestke2FS.shape)"
      ]
    },
    {
      "cell_type": "code",
      "execution_count": null,
      "metadata": {
        "id": "OSl8ET5DfVm8",
        "colab": {
          "base_uri": "https://localhost:8080/"
        },
        "outputId": "ef85581f-1c50-4716-b09b-bcaa1b7937c0"
      },
      "outputs": [
        {
          "output_type": "stream",
          "name": "stdout",
          "text": [
            "(77522, 16)\n",
            "(33224, 16)\n"
          ]
        }
      ],
      "source": [
        "xtrainke3FS = selector.fit_transform(xtrainke3)\n",
        "xtestke3FS = selector.fit_transform(xtestke3)\n",
        "print(xtrainke3FS.shape)\n",
        "print(xtestke3FS.shape)"
      ]
    },
    {
      "cell_type": "code",
      "execution_count": null,
      "metadata": {
        "id": "lZrIQGO2fXZp",
        "colab": {
          "base_uri": "https://localhost:8080/"
        },
        "outputId": "417fd084-0529-4766-f85f-d2ad5ab98d44"
      },
      "outputs": [
        {
          "output_type": "stream",
          "name": "stdout",
          "text": [
            "(77522, 16)\n",
            "(33224, 16)\n"
          ]
        }
      ],
      "source": [
        "xtrainke4FS = selector.fit_transform(xtrainke4)\n",
        "xtestke4FS = selector.fit_transform(xtestke4)\n",
        "print(xtrainke4FS.shape)\n",
        "print(xtestke4FS.shape)"
      ]
    },
    {
      "cell_type": "code",
      "execution_count": null,
      "metadata": {
        "id": "kxkB81b-fZyx",
        "colab": {
          "base_uri": "https://localhost:8080/"
        },
        "outputId": "76db76a5-3108-4d28-f78f-48700a84690b"
      },
      "outputs": [
        {
          "output_type": "stream",
          "name": "stdout",
          "text": [
            "(77522, 16)\n",
            "(33224, 16)\n"
          ]
        }
      ],
      "source": [
        "xtrainke5FS = selector.fit_transform(xtrainke5)\n",
        "xtestke5FS = selector.fit_transform(xtestke5)\n",
        "print(xtrainke5FS.shape)\n",
        "print(xtestke5FS.shape)"
      ]
    },
    {
      "cell_type": "markdown",
      "metadata": {
        "id": "nfibRrRsRCW_"
      },
      "source": [
        "#Naive bayes"
      ]
    },
    {
      "cell_type": "markdown",
      "source": [
        "#1. kfold 5"
      ],
      "metadata": {
        "id": "7RvCLHlmx-OO"
      }
    },
    {
      "cell_type": "code",
      "execution_count": null,
      "metadata": {
        "id": "iJaDliunMD2w",
        "colab": {
          "base_uri": "https://localhost:8080/"
        },
        "outputId": "afa3c109-72a2-4147-9e03-598c221ba32d"
      },
      "outputs": [
        {
          "output_type": "stream",
          "name": "stderr",
          "text": [
            "/usr/local/lib/python3.7/dist-packages/sklearn/utils/validation.py:993: DataConversionWarning: A column-vector y was passed when a 1d array was expected. Please change the shape of y to (n_samples, ), for example using ravel().\n",
            "  y = column_or_1d(y, warn=True)\n"
          ]
        },
        {
          "output_type": "execute_result",
          "data": {
            "text/plain": [
              "array([[13755,   207],\n",
              "       [ 4991,  3196]])"
            ]
          },
          "metadata": {},
          "execution_count": 293
        }
      ],
      "source": [
        "from sklearn.naive_bayes import GaussianNB\n",
        "from sklearn.metrics import confusion_matrix\n",
        "clf = GaussianNB()\n",
        "modelnb=clf.fit(xtrainfold5FS, ytrainfold5)\n",
        "y_prednbfold5 = clf.predict(xtestfold5FS)\n",
        "cmnbk5 = confusion_matrix(ytestfold5, y_prednbfold5)\n",
        "cmnbk5"
      ]
    },
    {
      "cell_type": "code",
      "execution_count": null,
      "metadata": {
        "id": "2xsJL4EpMhxo",
        "colab": {
          "base_uri": "https://localhost:8080/"
        },
        "outputId": "778e00b4-052b-4c06-ce88-1187f8993e68"
      },
      "outputs": [
        {
          "output_type": "stream",
          "name": "stdout",
          "text": [
            "              precision    recall  f1-score   support\n",
            "\n",
            "           0       0.73      0.99      0.84     13962\n",
            "           1       0.94      0.39      0.55      8187\n",
            "\n",
            "    accuracy                           0.77     22149\n",
            "   macro avg       0.84      0.69      0.70     22149\n",
            "weighted avg       0.81      0.77      0.73     22149\n",
            "\n"
          ]
        }
      ],
      "source": [
        "#Cek Akurasi dan sensitifitas (recall)\n",
        "from sklearn.metrics import classification_report\n",
        "print(classification_report(ytestfold5, y_prednbfold5))"
      ]
    },
    {
      "cell_type": "code",
      "execution_count": null,
      "metadata": {
        "id": "eTRzDkJ_MuaN",
        "colab": {
          "base_uri": "https://localhost:8080/"
        },
        "outputId": "dd1302df-5ba1-4e35-82fc-06a9d80a2921"
      },
      "outputs": [
        {
          "output_type": "execute_result",
          "data": {
            "text/plain": [
              "0.390374984731892"
            ]
          },
          "metadata": {},
          "execution_count": 295
        }
      ],
      "source": [
        "#Spesifisitas\n",
        "FP =cmnbk5[1,0]\n",
        "TN =cmnbk5[1,1]\n",
        "specitivity = TN/(FP+TN)\n",
        "specitivity"
      ]
    },
    {
      "cell_type": "code",
      "source": [
        "from sklearn.metrics import roc_auc_score, roc_curve\n",
        "import matplotlib.pyplot as plt\n",
        "probs=modelnb.predict_proba(xtestfold5)[:,1]\n",
        "auc = roc_auc_score(ytestfold5, probs)\n",
        "fpr, tpr, threshold = roc_curve(ytestfold5, probs)\n",
        "\n",
        "plt.figure(figsize=(12, 7))\n",
        "plt.plot(fpr, tpr, label=f'AUC (SVM) = {auc:.2f}')\n",
        "plt.plot([0, 1], [0, 1], color='blue', linestyle='--', label='Baseline')\n",
        "plt.title('ROC Curve Naive Bayes K-Fold', size=20)\n",
        "plt.xlabel('False Positive Rate', size=14)\n",
        "plt.ylabel('True Positive Rate', size=14)\n",
        "plt.legend();"
      ],
      "metadata": {
        "colab": {
          "base_uri": "https://localhost:8080/",
          "height": 505
        },
        "id": "OXLY6LXHzx-r",
        "outputId": "ceb0c9e2-bc81-4cb0-a793-51cf80a2090e"
      },
      "execution_count": null,
      "outputs": [
        {
          "output_type": "stream",
          "name": "stderr",
          "text": [
            "/usr/local/lib/python3.7/dist-packages/sklearn/base.py:444: UserWarning: X has feature names, but GaussianNB was fitted without feature names\n",
            "  f\"X has feature names, but {self.__class__.__name__} was fitted without\"\n"
          ]
        },
        {
          "output_type": "display_data",
          "data": {
            "text/plain": [
              "<Figure size 864x504 with 1 Axes>"
            ],
            "image/png": "[encoded data removed]"
          },
          "metadata": {}
        }
      ]
    },
    {
      "cell_type": "markdown",
      "source": [
        "#2. RH "
      ],
      "metadata": {
        "id": "osFsCk8ryFXw"
      }
    },
    {
      "cell_type": "code",
      "execution_count": null,
      "metadata": {
        "id": "DR5jxtmKfsxR",
        "colab": {
          "base_uri": "https://localhost:8080/"
        },
        "outputId": "62f6b947-840a-4dda-dd23-c1703d4a7c06"
      },
      "outputs": [
        {
          "output_type": "stream",
          "name": "stderr",
          "text": [
            "/usr/local/lib/python3.7/dist-packages/sklearn/utils/validation.py:993: DataConversionWarning: A column-vector y was passed when a 1d array was expected. Please change the shape of y to (n_samples, ), for example using ravel().\n",
            "  y = column_or_1d(y, warn=True)\n"
          ]
        },
        {
          "output_type": "execute_result",
          "data": {
            "text/plain": [
              "array([[20530,   355],\n",
              "       [ 7450,  4889]])"
            ]
          },
          "metadata": {},
          "execution_count": 297
        }
      ],
      "source": [
        "#Pake data rholdout 5\n",
        "modelnb=clf.fit(xtrainke5FS, ytrainke5)\n",
        "y_predrh5 = clf.predict(xtestke5FS)\n",
        "cmnbrh5 = confusion_matrix(ytestke5, y_predrh5)\n",
        "cmnbrh5"
      ]
    },
    {
      "cell_type": "code",
      "execution_count": null,
      "metadata": {
        "id": "FczzyCr0f3qH",
        "colab": {
          "base_uri": "https://localhost:8080/"
        },
        "outputId": "633bc91b-3f48-4766-ba53-10550c642c1b"
      },
      "outputs": [
        {
          "output_type": "stream",
          "name": "stdout",
          "text": [
            "              precision    recall  f1-score   support\n",
            "\n",
            "           0       0.73      0.98      0.84     20885\n",
            "           1       0.93      0.40      0.56     12339\n",
            "\n",
            "    accuracy                           0.77     33224\n",
            "   macro avg       0.83      0.69      0.70     33224\n",
            "weighted avg       0.81      0.77      0.73     33224\n",
            "\n"
          ]
        }
      ],
      "source": [
        "#Cek Akurasi dan sensitifitas (recall)\n",
        "print(classification_report(ytestke5, y_predrh5))"
      ]
    },
    {
      "cell_type": "code",
      "execution_count": null,
      "metadata": {
        "id": "ixIZHEu6f8iN",
        "colab": {
          "base_uri": "https://localhost:8080/"
        },
        "outputId": "e016ff49-cd01-455f-cc16-0bfb538b3cfb"
      },
      "outputs": [
        {
          "output_type": "execute_result",
          "data": {
            "text/plain": [
              "0.3962233568360483"
            ]
          },
          "metadata": {},
          "execution_count": 299
        }
      ],
      "source": [
        "#Spesifisitas\n",
        "FP =cmnbrh5[1,0]\n",
        "TN =cmnbrh5[1,1]\n",
        "specitivity = TN/(FP+TN)\n",
        "specitivity"
      ]
    },
    {
      "cell_type": "code",
      "source": [
        "from sklearn.metrics import roc_auc_score, roc_curve\n",
        "import matplotlib.pyplot as plt\n",
        "probs=modelnb.predict_proba(xtestke5FS)[:,1]\n",
        "auc = roc_auc_score(ytestke5, probs)\n",
        "fpr, tpr, threshold = roc_curve(ytestke5, probs)\n",
        "\n",
        "plt.figure(figsize=(12, 7))\n",
        "plt.plot(fpr, tpr, label=f'AUC (SVM) = {auc:.2f}')\n",
        "plt.plot([0, 1], [0, 1], color='blue', linestyle='--', label='Baseline')\n",
        "plt.title('ROC Curve Naive Bayes Repeated Holdout', size=20)\n",
        "plt.xlabel('False Positive Rate', size=14)\n",
        "plt.ylabel('True Positive Rate', size=14)\n",
        "plt.legend();\n"
      ],
      "metadata": {
        "colab": {
          "base_uri": "https://localhost:8080/",
          "height": 470
        },
        "id": "jm1vi7bIt1xm",
        "outputId": "7e1d1ffd-c96b-4c5f-d85e-be3d0acb43e4"
      },
      "execution_count": null,
      "outputs": [
        {
          "output_type": "display_data",
          "data": {
            "text/plain": [
              "<Figure size 864x504 with 1 Axes>"
            ],
            "image/png": "[encoded data removed]"
          },
          "metadata": {}
        }
      ]
    },
    {
      "cell_type": "markdown",
      "metadata": {
        "id": "vUqnCRLGgOXC"
      },
      "source": [
        "#LOGREG"
      ]
    },
    {
      "cell_type": "markdown",
      "source": [
        "#1. Kfold =*5*"
      ],
      "metadata": {
        "id": "hxr8LeMewQF6"
      }
    },
    {
      "cell_type": "code",
      "execution_count": null,
      "metadata": {
        "colab": {
          "base_uri": "https://localhost:8080/"
        },
        "id": "DZkEWxE1gNdY",
        "outputId": "349ff695-067d-4f5f-954e-c15d85bfd640"
      },
      "outputs": [
        {
          "output_type": "stream",
          "name": "stderr",
          "text": [
            "/usr/local/lib/python3.7/dist-packages/sklearn/utils/validation.py:993: DataConversionWarning: A column-vector y was passed when a 1d array was expected. Please change the shape of y to (n_samples, ), for example using ravel().\n",
            "  y = column_or_1d(y, warn=True)\n",
            "/usr/local/lib/python3.7/dist-packages/sklearn/linear_model/_logistic.py:818: ConvergenceWarning: lbfgs failed to converge (status=1):\n",
            "STOP: TOTAL NO. of ITERATIONS REACHED LIMIT.\n",
            "\n",
            "Increase the number of iterations (max_iter) or scale the data as shown in:\n",
            "    https://scikit-learn.org/stable/modules/preprocessing.html\n",
            "Please also refer to the documentation for alternative solver options:\n",
            "    https://scikit-learn.org/stable/modules/linear_model.html#logistic-regression\n",
            "  extra_warning_msg=_LOGISTIC_SOLVER_CONVERGENCE_MSG,\n"
          ]
        },
        {
          "output_type": "execute_result",
          "data": {
            "text/plain": [
              "array([[12372,  1590],\n",
              "       [ 3969,  4218]])"
            ]
          },
          "metadata": {},
          "execution_count": 301
        }
      ],
      "source": [
        "logreg = LogisticRegression()\n",
        "modellog=logreg.fit(xtrainfold5, ytrainfold5)\n",
        "y_pred = logreg.predict(xtestfold5)\n",
        "cmlog=confusion_matrix(ytestfold5, y_pred)\n",
        "cmlog"
      ]
    },
    {
      "cell_type": "code",
      "source": [
        "#Cek Akurasi dan sensitifitas (recall)\n",
        "print(classification_report(ytestfold5, y_pred))"
      ],
      "metadata": {
        "colab": {
          "base_uri": "https://localhost:8080/"
        },
        "id": "q7yIyj44pme9",
        "outputId": "2ff23b49-3d42-417b-c488-d5addb2d974c"
      },
      "execution_count": null,
      "outputs": [
        {
          "output_type": "stream",
          "name": "stdout",
          "text": [
            "              precision    recall  f1-score   support\n",
            "\n",
            "           0       0.76      0.89      0.82     13962\n",
            "           1       0.73      0.52      0.60      8187\n",
            "\n",
            "    accuracy                           0.75     22149\n",
            "   macro avg       0.74      0.70      0.71     22149\n",
            "weighted avg       0.75      0.75      0.74     22149\n",
            "\n"
          ]
        }
      ]
    },
    {
      "cell_type": "code",
      "source": [
        "#Spesifisitas\n",
        "FP =cmlog[1,0]\n",
        "TN =cmlog[1,1]\n",
        "specitivity = TN/(FP+TN)\n",
        "specitivity"
      ],
      "metadata": {
        "colab": {
          "base_uri": "https://localhost:8080/"
        },
        "id": "D-0KX9H92QaJ",
        "outputId": "51f83055-1b96-4c1e-d101-0a46ea38799b"
      },
      "execution_count": null,
      "outputs": [
        {
          "output_type": "execute_result",
          "data": {
            "text/plain": [
              "0.5152070355441554"
            ]
          },
          "metadata": {},
          "execution_count": 303
        }
      ]
    },
    {
      "cell_type": "code",
      "execution_count": null,
      "metadata": {
        "id": "rFnR4q81gHgy",
        "colab": {
          "base_uri": "https://localhost:8080/",
          "height": 470
        },
        "outputId": "aa2839a2-745d-4501-94a9-fb1f8749a765"
      },
      "outputs": [
        {
          "output_type": "display_data",
          "data": {
            "text/plain": [
              "<Figure size 864x504 with 1 Axes>"
            ],
            "image/png": "[encoded data removed]"
          },
          "metadata": {}
        }
      ],
      "source": [
        "from sklearn.metrics import roc_auc_score, roc_curve\n",
        "import matplotlib.pyplot as plt\n",
        "probs=modellog.predict_proba(xtestfold5)[:,1]\n",
        "auc = roc_auc_score(ytestfold5, probs)\n",
        "fpr, tpr, threshold = roc_curve(ytestfold5, probs)\n",
        "\n",
        "plt.figure(figsize=(12, 7))\n",
        "plt.plot(fpr, tpr, label=f'AUC (SVM) = {auc:.2f}')\n",
        "plt.plot([0, 1], [0, 1], color='blue', linestyle='--', label='Baseline')\n",
        "plt.title('ROC Curve Regression Logistic K-Fold', size=20)\n",
        "plt.xlabel('False Positive Rate', size=14)\n",
        "plt.ylabel('True Positive Rate', size=14)\n",
        "plt.legend();"
      ]
    },
    {
      "cell_type": "markdown",
      "source": [
        "#2. RH"
      ],
      "metadata": {
        "id": "rxNdGGXDwctZ"
      }
    },
    {
      "cell_type": "code",
      "source": [
        "logreg = LogisticRegression()\n",
        "modellogrh=logreg.fit(xtrainke5, ytrainke5)\n",
        "y_pred = logreg.predict(xtestke5)\n",
        "cmlogrh=confusion_matrix(ytestke5, y_pred)\n",
        "cmlogrh"
      ],
      "metadata": {
        "colab": {
          "base_uri": "https://localhost:8080/"
        },
        "id": "Zb4b9TGBwb37",
        "outputId": "cc6009a9-187b-4a52-e9f3-9bbdc49a3ed8"
      },
      "execution_count": null,
      "outputs": [
        {
          "output_type": "stream",
          "name": "stderr",
          "text": [
            "/usr/local/lib/python3.7/dist-packages/sklearn/utils/validation.py:993: DataConversionWarning: A column-vector y was passed when a 1d array was expected. Please change the shape of y to (n_samples, ), for example using ravel().\n",
            "  y = column_or_1d(y, warn=True)\n",
            "/usr/local/lib/python3.7/dist-packages/sklearn/linear_model/_logistic.py:818: ConvergenceWarning: lbfgs failed to converge (status=1):\n",
            "STOP: TOTAL NO. of ITERATIONS REACHED LIMIT.\n",
            "\n",
            "Increase the number of iterations (max_iter) or scale the data as shown in:\n",
            "    https://scikit-learn.org/stable/modules/preprocessing.html\n",
            "Please also refer to the documentation for alternative solver options:\n",
            "    https://scikit-learn.org/stable/modules/linear_model.html#logistic-regression\n",
            "  extra_warning_msg=_LOGISTIC_SOLVER_CONVERGENCE_MSG,\n"
          ]
        },
        {
          "output_type": "execute_result",
          "data": {
            "text/plain": [
              "array([[18437,  2448],\n",
              "       [ 5881,  6458]])"
            ]
          },
          "metadata": {},
          "execution_count": 305
        }
      ]
    },
    {
      "cell_type": "code",
      "source": [
        "#Cek Akurasi dan sensitifitas (recall)\n",
        "print(classification_report(ytestke5, y_pred))"
      ],
      "metadata": {
        "colab": {
          "base_uri": "https://localhost:8080/"
        },
        "id": "c5FIWh_uw49I",
        "outputId": "620cbbd6-991e-4e70-c314-fc73a62f5ed7"
      },
      "execution_count": null,
      "outputs": [
        {
          "output_type": "stream",
          "name": "stdout",
          "text": [
            "              precision    recall  f1-score   support\n",
            "\n",
            "           0       0.76      0.88      0.82     20885\n",
            "           1       0.73      0.52      0.61     12339\n",
            "\n",
            "    accuracy                           0.75     33224\n",
            "   macro avg       0.74      0.70      0.71     33224\n",
            "weighted avg       0.75      0.75      0.74     33224\n",
            "\n"
          ]
        }
      ]
    },
    {
      "cell_type": "code",
      "source": [
        "#Spesifisitas\n",
        "FP =cmlogrh[1,0]\n",
        "TN =cmlogrh[1,1]\n",
        "specitivity = TN/(FP+TN)\n",
        "specitivity"
      ],
      "metadata": {
        "colab": {
          "base_uri": "https://localhost:8080/"
        },
        "id": "z1MXG12q2tii",
        "outputId": "79bb110d-4412-4444-80a9-0c440de334f1"
      },
      "execution_count": null,
      "outputs": [
        {
          "output_type": "execute_result",
          "data": {
            "text/plain": [
              "0.5233811492017181"
            ]
          },
          "metadata": {},
          "execution_count": 307
        }
      ]
    },
    {
      "cell_type": "code",
      "source": [
        "from sklearn.metrics import roc_auc_score, roc_curve\n",
        "import matplotlib.pyplot as plt\n",
        "probs=modellogrh.predict_proba(xtestke5)[:,1]\n",
        "auc = roc_auc_score(ytestke5, probs)\n",
        "fpr, tpr, threshold = roc_curve(ytestke5, probs)\n",
        "\n",
        "plt.figure(figsize=(12, 7))\n",
        "plt.plot(fpr, tpr, label=f'AUC (SVM) = {auc:.2f}')\n",
        "plt.plot([0, 1], [0, 1], color='blue', linestyle='--', label='Baseline')\n",
        "plt.title('ROC Curve Regression Logistic Repeated Holdout', size=20)\n",
        "plt.xlabel('False Positive Rate', size=14)\n",
        "plt.ylabel('True Positive Rate', size=14)\n",
        "plt.legend();"
      ],
      "metadata": {
        "colab": {
          "base_uri": "https://localhost:8080/",
          "height": 470
        },
        "id": "U9cVOs9qw-xt",
        "outputId": "134cc6d2-0029-4e38-f7ac-2a792f1419a7"
      },
      "execution_count": null,
      "outputs": [
        {
          "output_type": "display_data",
          "data": {
            "text/plain": [
              "<Figure size 864x504 with 1 Axes>"
            ],
            "image/png": "[encoded data removed]"
          },
          "metadata": {}
        }
      ]
    },
    {
      "cell_type": "markdown",
      "source": [
        "#Random forest"
      ],
      "metadata": {
        "id": "-S94kwJb5LVr"
      }
    },
    {
      "cell_type": "markdown",
      "source": [
        "#1. kfold 5"
      ],
      "metadata": {
        "id": "BXXdAR9U5NT2"
      }
    },
    {
      "cell_type": "code",
      "source": [
        "from sklearn.ensemble import RandomForestClassifier\n",
        "rf = RandomForestClassifier()\n",
        "modelrf=rf.fit(xtrainfold5, ytrainfold5)\n",
        "y_pred = rf.predict(xtestfold5)\n",
        "cmrf=confusion_matrix(ytestfold5, y_pred)\n",
        "cmrf"
      ],
      "metadata": {
        "colab": {
          "base_uri": "https://localhost:8080/"
        },
        "id": "Bv4LOfCl51An",
        "outputId": "946d2628-736e-4edd-8c97-433cb69cbb7d"
      },
      "execution_count": null,
      "outputs": [
        {
          "output_type": "stream",
          "name": "stderr",
          "text": [
            "/usr/local/lib/python3.7/dist-packages/ipykernel_launcher.py:3: DataConversionWarning: A column-vector y was passed when a 1d array was expected. Please change the shape of y to (n_samples,), for example using ravel().\n",
            "  This is separate from the ipykernel package so we can avoid doing imports until\n"
          ]
        },
        {
          "output_type": "execute_result",
          "data": {
            "text/plain": [
              "array([[12688,  1274],\n",
              "       [ 1930,  6257]])"
            ]
          },
          "metadata": {},
          "execution_count": 309
        }
      ]
    },
    {
      "cell_type": "code",
      "source": [
        "#Cek Akurasi dan sensitifitas (recall)\n",
        "print(classification_report(ytestfold5, y_pred))"
      ],
      "metadata": {
        "colab": {
          "base_uri": "https://localhost:8080/"
        },
        "id": "HpJ8L5Yj6J_H",
        "outputId": "0d1e3e94-c3e1-4c05-b026-db646e34c9ec"
      },
      "execution_count": null,
      "outputs": [
        {
          "output_type": "stream",
          "name": "stdout",
          "text": [
            "              precision    recall  f1-score   support\n",
            "\n",
            "           0       0.87      0.91      0.89     13962\n",
            "           1       0.83      0.76      0.80      8187\n",
            "\n",
            "    accuracy                           0.86     22149\n",
            "   macro avg       0.85      0.84      0.84     22149\n",
            "weighted avg       0.85      0.86      0.85     22149\n",
            "\n"
          ]
        }
      ]
    },
    {
      "cell_type": "code",
      "source": [
        "#Spesifisitas\n",
        "FP =cmrf[1,0]\n",
        "TN =cmrf[1,1]\n",
        "specitivity = TN/(FP+TN)\n",
        "specitivity"
      ],
      "metadata": {
        "colab": {
          "base_uri": "https://localhost:8080/"
        },
        "id": "ygUcZGjj8PXr",
        "outputId": "a42164a9-b3c3-492a-ae63-258658469ca7"
      },
      "execution_count": null,
      "outputs": [
        {
          "output_type": "execute_result",
          "data": {
            "text/plain": [
              "0.7642604128496396"
            ]
          },
          "metadata": {},
          "execution_count": 311
        }
      ]
    },
    {
      "cell_type": "code",
      "source": [
        "probs=modelrf.predict_proba(xtestfold5)[:,1]\n",
        "auc = roc_auc_score(ytestfold5, probs)\n",
        "fpr, tpr, threshold = roc_curve(ytestfold5, probs)\n",
        "\n",
        "plt.figure(figsize=(12, 7))\n",
        "plt.plot(fpr, tpr, label=f'AUC (SVM) = {auc:.2f}')\n",
        "plt.plot([0, 1], [0, 1], color='blue', linestyle='--', label='Baseline')\n",
        "plt.title('ROC Curve Random Forest K-Fold', size=20)\n",
        "plt.xlabel('False Positive Rate', size=14)\n",
        "plt.ylabel('True Positive Rate', size=14)\n",
        "plt.legend();"
      ],
      "metadata": {
        "colab": {
          "base_uri": "https://localhost:8080/",
          "height": 470
        },
        "id": "kUNTOZId6UUe",
        "outputId": "bad16a45-d833-45cb-c85f-74cbacfb267f"
      },
      "execution_count": null,
      "outputs": [
        {
          "output_type": "display_data",
          "data": {
            "text/plain": [
              "<Figure size 864x504 with 1 Axes>"
            ],
            "image/png": "[encoded data removed]"
          },
          "metadata": {}
        }
      ]
    },
    {
      "cell_type": "markdown",
      "source": [
        "#2. Rh"
      ],
      "metadata": {
        "id": "rsPqrN6Q5THC"
      }
    },
    {
      "cell_type": "code",
      "source": [
        "modelrfrh=rf.fit(xtrainke5, ytrainke5)\n",
        "y_pred = rf.predict(xtestke5)\n",
        "cmrfrh=confusion_matrix(ytestke5, y_pred)\n",
        "cmrfrh"
      ],
      "metadata": {
        "colab": {
          "base_uri": "https://localhost:8080/"
        },
        "id": "mm4X68S68bff",
        "outputId": "4bee18ec-97ee-4050-c612-9fa0689a0ef4"
      },
      "execution_count": null,
      "outputs": [
        {
          "output_type": "stream",
          "name": "stderr",
          "text": [
            "/usr/local/lib/python3.7/dist-packages/ipykernel_launcher.py:1: DataConversionWarning: A column-vector y was passed when a 1d array was expected. Please change the shape of y to (n_samples,), for example using ravel().\n",
            "  \"\"\"Entry point for launching an IPython kernel.\n"
          ]
        },
        {
          "output_type": "execute_result",
          "data": {
            "text/plain": [
              "array([[19043,  1842],\n",
              "       [ 3070,  9269]])"
            ]
          },
          "metadata": {},
          "execution_count": 313
        }
      ]
    },
    {
      "cell_type": "code",
      "source": [
        "#Cek Akurasi dan sensitifitas (recall)\n",
        "print(classification_report(ytestke5, y_pred))"
      ],
      "metadata": {
        "colab": {
          "base_uri": "https://localhost:8080/"
        },
        "id": "jK0_Q_U381Yw",
        "outputId": "615a8c33-6ddb-4a25-c1ab-9a206f9a0ae3"
      },
      "execution_count": null,
      "outputs": [
        {
          "output_type": "stream",
          "name": "stdout",
          "text": [
            "              precision    recall  f1-score   support\n",
            "\n",
            "           0       0.86      0.91      0.89     20885\n",
            "           1       0.83      0.75      0.79     12339\n",
            "\n",
            "    accuracy                           0.85     33224\n",
            "   macro avg       0.85      0.83      0.84     33224\n",
            "weighted avg       0.85      0.85      0.85     33224\n",
            "\n"
          ]
        }
      ]
    },
    {
      "cell_type": "code",
      "source": [
        "#Spesifisitas\n",
        "FP =cmrfrh[1,0]\n",
        "TN =cmrfrh[1,1]\n",
        "specitivity = TN/(FP+TN)\n",
        "specitivity"
      ],
      "metadata": {
        "colab": {
          "base_uri": "https://localhost:8080/"
        },
        "id": "Nk62p-Qf9CCv",
        "outputId": "4d26fd87-9b3c-4a50-8bc9-a64a887d833a"
      },
      "execution_count": null,
      "outputs": [
        {
          "output_type": "execute_result",
          "data": {
            "text/plain": [
              "0.7511953967096199"
            ]
          },
          "metadata": {},
          "execution_count": 315
        }
      ]
    },
    {
      "cell_type": "code",
      "source": [
        "probs=modelrfrh.predict_proba(xtestke5)[:,1]\n",
        "auc = roc_auc_score(ytestke5, probs)\n",
        "fpr, tpr, threshold = roc_curve(ytestke5, probs)\n",
        "\n",
        "plt.figure(figsize=(12, 7))\n",
        "plt.plot(fpr, tpr, label=f'AUC (SVM) = {auc:.2f}')\n",
        "plt.plot([0, 1], [0, 1], color='blue', linestyle='--', label='Baseline')\n",
        "plt.title('ROC Curve Random Forest Repeated Holdout', size=20)\n",
        "plt.xlabel('False Positive Rate', size=14)\n",
        "plt.ylabel('True Positive Rate', size=14)\n",
        "plt.legend();"
      ],
      "metadata": {
        "colab": {
          "base_uri": "https://localhost:8080/",
          "height": 470
        },
        "id": "Te1niu2x9R1Q",
        "outputId": "074b03ab-94e0-4008-a7d2-1167cb213690"
      },
      "execution_count": null,
      "outputs": [
        {
          "output_type": "display_data",
          "data": {
            "text/plain": [
              "<Figure size 864x504 with 1 Axes>"
            ],
            "image/png": "[encoded data removed]"
          },
          "metadata": {}
        }
      ]
    },
    {
      "cell_type": "markdown",
      "source": [
        "#KNN"
      ],
      "metadata": {
        "id": "24nlpsVMwnDC"
      }
    },
    {
      "cell_type": "markdown",
      "source": [
        "#1 kfold5"
      ],
      "metadata": {
        "id": "GKNN9EWKDxPq"
      }
    },
    {
      "cell_type": "code",
      "source": [
        "from sklearn.neighbors import KNeighborsClassifier\n",
        "knn = KNeighborsClassifier()\n",
        "modelknn=knn.fit(xtrainfold5, ytrainfold5)\n",
        "y_predknn = knn.predict(xtestfold5)\n",
        "#acc_knn = accuracy_score(y_test, y_pred_knn)\n",
        "cmknn = confusion_matrix(ytestfold5, y_predknn)\n",
        "#clf_report = classification_report(y_test, y_pred_knn)\n",
        "#print(f\"Accuracy Score of KNN is : {acc_knn}\")\n",
        "#print(f\"Confusion Matrix : n{conf}\")\n",
        "#print(f\"Classification Report : n{clf_report}\")\n",
        "cmknn"
      ],
      "metadata": {
        "colab": {
          "base_uri": "https://localhost:8080/"
        },
        "id": "hZcORGZjCdmT",
        "outputId": "1eb37ba3-13ab-4a5c-e07a-627ce14a6019"
      },
      "execution_count": null,
      "outputs": [
        {
          "output_type": "stream",
          "name": "stderr",
          "text": [
            "/usr/local/lib/python3.7/dist-packages/sklearn/neighbors/_classification.py:198: DataConversionWarning: A column-vector y was passed when a 1d array was expected. Please change the shape of y to (n_samples,), for example using ravel().\n",
            "  return self._fit(X, y)\n"
          ]
        },
        {
          "output_type": "execute_result",
          "data": {
            "text/plain": [
              "array([[12172,  1790],\n",
              "       [ 2702,  5485]])"
            ]
          },
          "metadata": {},
          "execution_count": 317
        }
      ]
    },
    {
      "cell_type": "code",
      "source": [
        "#Cek Akurasi dan sensitifitas (recall)\n",
        "print(classification_report(ytestfold5, y_predknn))"
      ],
      "metadata": {
        "colab": {
          "base_uri": "https://localhost:8080/"
        },
        "id": "_vSioxAfFDxN",
        "outputId": "c3282dc6-6dac-4f0b-a53f-264ae16bb432"
      },
      "execution_count": null,
      "outputs": [
        {
          "output_type": "stream",
          "name": "stdout",
          "text": [
            "              precision    recall  f1-score   support\n",
            "\n",
            "           0       0.82      0.87      0.84     13962\n",
            "           1       0.75      0.67      0.71      8187\n",
            "\n",
            "    accuracy                           0.80     22149\n",
            "   macro avg       0.79      0.77      0.78     22149\n",
            "weighted avg       0.79      0.80      0.79     22149\n",
            "\n"
          ]
        }
      ]
    },
    {
      "cell_type": "code",
      "source": [
        "#Spesifisitas\n",
        "FP =cmknn[1,0]\n",
        "TN =cmknn[1,1]\n",
        "specitivity = TN/(FP+TN)\n",
        "specitivity"
      ],
      "metadata": {
        "colab": {
          "base_uri": "https://localhost:8080/"
        },
        "id": "VtHdoCd_FLBL",
        "outputId": "b8620861-d238-405b-f30c-a026d51b8165"
      },
      "execution_count": null,
      "outputs": [
        {
          "output_type": "execute_result",
          "data": {
            "text/plain": [
              "0.6699645779894955"
            ]
          },
          "metadata": {},
          "execution_count": 319
        }
      ]
    },
    {
      "cell_type": "code",
      "source": [
        "probs=modelknn.predict_proba(xtestfold5)[:,1]\n",
        "auc = roc_auc_score(ytestfold5, probs)\n",
        "fpr, tpr, threshold = roc_curve(ytestfold5, probs)\n",
        "\n",
        "plt.figure(figsize=(12, 7))\n",
        "plt.plot(fpr, tpr, label=f'AUC (SVM) = {auc:.2f}')\n",
        "plt.plot([0, 1], [0, 1], color='blue', linestyle='--', label='Baseline')\n",
        "plt.title('ROC Curve KNN K-Fold', size=20)\n",
        "plt.xlabel('False Positive Rate', size=14)\n",
        "plt.ylabel('True Positive Rate', size=14)\n",
        "plt.legend();"
      ],
      "metadata": {
        "colab": {
          "base_uri": "https://localhost:8080/",
          "height": 470
        },
        "id": "vjVmzqInFUSR",
        "outputId": "32627fca-2991-48a1-d701-a6045f6990af"
      },
      "execution_count": null,
      "outputs": [
        {
          "output_type": "display_data",
          "data": {
            "text/plain": [
              "<Figure size 864x504 with 1 Axes>"
            ],
            "image/png": "[encoded data removed]"
          },
          "metadata": {}
        }
      ]
    },
    {
      "cell_type": "markdown",
      "source": [
        "#2. rh"
      ],
      "metadata": {
        "id": "7XYRKbmDFZ34"
      }
    },
    {
      "cell_type": "code",
      "source": [
        "modelknnrh=knn.fit(xtrainke5, ytrainke5)\n",
        "y_predknn = knn.predict(xtestke5)\n",
        "cmknnrh = confusion_matrix(ytestke5, y_predknn)\n",
        "cmknnrh"
      ],
      "metadata": {
        "colab": {
          "base_uri": "https://localhost:8080/"
        },
        "id": "SxsLQurTFkG7",
        "outputId": "db97e7c2-7111-41ef-b20f-75893872c394"
      },
      "execution_count": null,
      "outputs": [
        {
          "output_type": "stream",
          "name": "stderr",
          "text": [
            "/usr/local/lib/python3.7/dist-packages/sklearn/neighbors/_classification.py:198: DataConversionWarning: A column-vector y was passed when a 1d array was expected. Please change the shape of y to (n_samples,), for example using ravel().\n",
            "  return self._fit(X, y)\n"
          ]
        },
        {
          "output_type": "execute_result",
          "data": {
            "text/plain": [
              "array([[18271,  2729],\n",
              "       [ 4012,  8212]])"
            ]
          },
          "metadata": {},
          "execution_count": 239
        }
      ]
    },
    {
      "cell_type": "code",
      "source": [
        "#Cek Akurasi dan sensitifitas (recall)\n",
        "print(classification_report(ytestke5, y_predknn))"
      ],
      "metadata": {
        "colab": {
          "base_uri": "https://localhost:8080/"
        },
        "id": "D2__zqmSGvt2",
        "outputId": "676ec5ba-d6c5-42a9-aaa6-f82cd5555725"
      },
      "execution_count": null,
      "outputs": [
        {
          "output_type": "stream",
          "name": "stdout",
          "text": [
            "              precision    recall  f1-score   support\n",
            "\n",
            "           0       0.82      0.87      0.84     21000\n",
            "           1       0.75      0.67      0.71     12224\n",
            "\n",
            "    accuracy                           0.80     33224\n",
            "   macro avg       0.79      0.77      0.78     33224\n",
            "weighted avg       0.79      0.80      0.79     33224\n",
            "\n"
          ]
        }
      ]
    },
    {
      "cell_type": "code",
      "source": [
        "#Spesifisitas\n",
        "FP =cmknnrh[1,0]\n",
        "TN =cmknnrh[1,1]\n",
        "specitivity = TN/(FP+TN)\n",
        "specitivity"
      ],
      "metadata": {
        "colab": {
          "base_uri": "https://localhost:8080/"
        },
        "id": "GPO4VmL4GzrY",
        "outputId": "ea31ab94-5df9-40f6-f32b-3d66f8888b7d"
      },
      "execution_count": null,
      "outputs": [
        {
          "output_type": "execute_result",
          "data": {
            "text/plain": [
              "0.6717931937172775"
            ]
          },
          "metadata": {},
          "execution_count": 241
        }
      ]
    },
    {
      "cell_type": "code",
      "source": [
        "probs=modelknnrh.predict_proba(xtestke5)[:,1]\n",
        "auc = roc_auc_score(ytestke5, probs)\n",
        "fpr, tpr, threshold = roc_curve(ytestke5, probs)\n",
        "\n",
        "plt.figure(figsize=(12, 7))\n",
        "plt.plot(fpr, tpr, label=f'AUC (SVM) = {auc:.2f}')\n",
        "plt.plot([0, 1], [0, 1], color='blue', linestyle='--', label='Baseline')\n",
        "plt.title('ROC Curve KNN Repeated Holdout', size=20)\n",
        "plt.xlabel('False Positive Rate', size=14)\n",
        "plt.ylabel('True Positive Rate', size=14)\n",
        "plt.legend();"
      ],
      "metadata": {
        "colab": {
          "base_uri": "https://localhost:8080/",
          "height": 470
        },
        "id": "CIafte-DG_Gx",
        "outputId": "da734588-0207-4fc8-b4a4-c81b48b685d1"
      },
      "execution_count": null,
      "outputs": [
        {
          "output_type": "display_data",
          "data": {
            "text/plain": [
              "<Figure size 864x504 with 1 Axes>"
            ],
            "image/png": "[encoded data removed]"
          },
          "metadata": {}
        }
      ]
    }
  ],
  "metadata": {
    "colab": {
      "collapsed_sections": [],
      "name": "EAS DATMIN",
      "provenance": []
    },
    "kernelspec": {
      "display_name": "Python 3",
      "name": "python3"
    },
    "language_info": {
      "name": "python"
    }
  },
  "nbformat": 4,
  "nbformat_minor": 0
}